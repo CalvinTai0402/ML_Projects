{
 "cells": [
  {
   "cell_type": "code",
   "execution_count": 1,
   "metadata": {},
   "outputs": [],
   "source": [
    "# This notebook could not have been done without the help from Adrian of PyImageSearch and Aurelien geron"
   ]
  },
  {
   "cell_type": "code",
   "execution_count": 2,
   "metadata": {},
   "outputs": [],
   "source": [
    "# import os\n",
    "# os.getcwd()"
   ]
  },
  {
   "cell_type": "code",
   "execution_count": 3,
   "metadata": {},
   "outputs": [],
   "source": [
    "# import pandas as pd\n",
    "# def save_fer_img():\n",
    "#     fer_data=pd.read_csv('fer2013.csv',delimiter=',')\n",
    "#     for index,row in fer_data.iterrows():\n",
    "#         pixels=np.asarray(list(row['pixels'].split(' ')),dtype=np.uint8)\n",
    "#         classes=np.asarray((row['emotion']),dtype=np.uint8)\n",
    "#         img=pixels.reshape((48,48))\n",
    "#         pathname=os.path.join(os.getcwd() + '\\\\dataset\\\\'+ str(classes) + \"\\\\\" + str(index) + r'.jpg')\n",
    "#         cv2.imwrite(pathname,img)\n",
    "#         print('image saved: {}'.format(pathname))"
   ]
  },
  {
   "cell_type": "code",
   "execution_count": 4,
   "metadata": {},
   "outputs": [],
   "source": [
    "# save_fer_img()"
   ]
  },
  {
   "cell_type": "code",
   "execution_count": 5,
   "metadata": {},
   "outputs": [],
   "source": [
    "# Everything above needs to be done only once,"
   ]
  },
  {
   "cell_type": "code",
   "execution_count": 6,
   "metadata": {},
   "outputs": [],
   "source": [
    "# After tons of trying, I learned that some models of transfer learning will not work with small images, i.e., 48 x 48. This is because they\n",
    "# were trained on 224x224x3, 229x229x3 etc. That is why if I load the weights 'imagenet', they generally won't work well. "
   ]
  },
  {
   "cell_type": "code",
   "execution_count": 7,
   "metadata": {},
   "outputs": [],
   "source": [
    "import tensorflow as tf\n",
    "from tensorflow import keras\n",
    "from tensorflow.keras.preprocessing.image import ImageDataGenerator\n",
    "from tensorflow.keras.preprocessing.image import img_to_array\n",
    "from tensorflow.keras.preprocessing.image import load_img\n",
    "from sklearn.model_selection import train_test_split\n",
    "from sklearn.metrics import classification_report\n",
    "from imutils import paths\n",
    "import matplotlib.pyplot as plt\n",
    "import numpy as np\n",
    "import os"
   ]
  },
  {
   "cell_type": "code",
   "execution_count": 8,
   "metadata": {},
   "outputs": [],
   "source": [
    "gpus= tf.config.experimental.list_physical_devices('GPU')"
   ]
  },
  {
   "cell_type": "code",
   "execution_count": 9,
   "metadata": {},
   "outputs": [
    {
     "data": {
      "text/plain": [
       "[PhysicalDevice(name='/physical_device:GPU:0', device_type='GPU')]"
      ]
     },
     "execution_count": 9,
     "metadata": {},
     "output_type": "execute_result"
    }
   ],
   "source": [
    "gpus"
   ]
  },
  {
   "cell_type": "code",
   "execution_count": 10,
   "metadata": {},
   "outputs": [],
   "source": [
    "tf.config.experimental.set_memory_growth(gpus[0], True)"
   ]
  },
  {
   "cell_type": "code",
   "execution_count": 11,
   "metadata": {
    "scrolled": true
   },
   "outputs": [
    {
     "name": "stdout",
     "output_type": "stream",
     "text": [
      "True\n",
      "True\n"
     ]
    }
   ],
   "source": [
    "# First check if GPU is enabled\n",
    "print(tf.test.is_gpu_available())\n",
    "print(tf.test.is_built_with_cuda())"
   ]
  },
  {
   "cell_type": "code",
   "execution_count": 12,
   "metadata": {},
   "outputs": [],
   "source": [
    "INIT_LR = 1e-4\n",
    "EPOCHS = 100000\n",
    "BS = 32"
   ]
  },
  {
   "cell_type": "code",
   "execution_count": 13,
   "metadata": {},
   "outputs": [],
   "source": [
    "imagePaths = list(paths.list_images(\"C:\\\\Users\\\\taij\\\\Documents\\\\Calvin\\\\MyProjects\\\\datasets\\\\EmotionDataset\"))\n",
    "data = []\n",
    "labels = []"
   ]
  },
  {
   "cell_type": "code",
   "execution_count": 14,
   "metadata": {
    "scrolled": true
   },
   "outputs": [
    {
     "data": {
      "text/plain": [
       "(48, 48, 3)"
      ]
     },
     "execution_count": 14,
     "metadata": {},
     "output_type": "execute_result"
    }
   ],
   "source": [
    "img_to_array(load_img(imagePaths[0])).shape"
   ]
  },
  {
   "cell_type": "code",
   "execution_count": 15,
   "metadata": {
    "scrolled": true
   },
   "outputs": [
    {
     "name": "stdout",
     "output_type": "stream",
     "text": [
      "35887\n"
     ]
    },
    {
     "data": {
      "text/plain": [
       "['C:\\\\Users\\\\taij\\\\Documents\\\\Calvin\\\\MyProjects\\\\datasets\\\\EmotionDataset\\\\Angry\\\\0.jpg',\n",
       " 'C:\\\\Users\\\\taij\\\\Documents\\\\Calvin\\\\MyProjects\\\\datasets\\\\EmotionDataset\\\\Angry\\\\1.jpg',\n",
       " 'C:\\\\Users\\\\taij\\\\Documents\\\\Calvin\\\\MyProjects\\\\datasets\\\\EmotionDataset\\\\Angry\\\\10.jpg',\n",
       " 'C:\\\\Users\\\\taij\\\\Documents\\\\Calvin\\\\MyProjects\\\\datasets\\\\EmotionDataset\\\\Angry\\\\10002.jpg',\n",
       " 'C:\\\\Users\\\\taij\\\\Documents\\\\Calvin\\\\MyProjects\\\\datasets\\\\EmotionDataset\\\\Angry\\\\10016.jpg',\n",
       " 'C:\\\\Users\\\\taij\\\\Documents\\\\Calvin\\\\MyProjects\\\\datasets\\\\EmotionDataset\\\\Angry\\\\10037.jpg',\n",
       " 'C:\\\\Users\\\\taij\\\\Documents\\\\Calvin\\\\MyProjects\\\\datasets\\\\EmotionDataset\\\\Angry\\\\10038.jpg',\n",
       " 'C:\\\\Users\\\\taij\\\\Documents\\\\Calvin\\\\MyProjects\\\\datasets\\\\EmotionDataset\\\\Angry\\\\10052.jpg',\n",
       " 'C:\\\\Users\\\\taij\\\\Documents\\\\Calvin\\\\MyProjects\\\\datasets\\\\EmotionDataset\\\\Angry\\\\10057.jpg',\n",
       " 'C:\\\\Users\\\\taij\\\\Documents\\\\Calvin\\\\MyProjects\\\\datasets\\\\EmotionDataset\\\\Angry\\\\10063.jpg',\n",
       " 'C:\\\\Users\\\\taij\\\\Documents\\\\Calvin\\\\MyProjects\\\\datasets\\\\EmotionDataset\\\\Angry\\\\10065.jpg',\n",
       " 'C:\\\\Users\\\\taij\\\\Documents\\\\Calvin\\\\MyProjects\\\\datasets\\\\EmotionDataset\\\\Angry\\\\10069.jpg',\n",
       " 'C:\\\\Users\\\\taij\\\\Documents\\\\Calvin\\\\MyProjects\\\\datasets\\\\EmotionDataset\\\\Angry\\\\10079.jpg',\n",
       " 'C:\\\\Users\\\\taij\\\\Documents\\\\Calvin\\\\MyProjects\\\\datasets\\\\EmotionDataset\\\\Angry\\\\10095.jpg',\n",
       " 'C:\\\\Users\\\\taij\\\\Documents\\\\Calvin\\\\MyProjects\\\\datasets\\\\EmotionDataset\\\\Angry\\\\10100.jpg',\n",
       " 'C:\\\\Users\\\\taij\\\\Documents\\\\Calvin\\\\MyProjects\\\\datasets\\\\EmotionDataset\\\\Angry\\\\10105.jpg',\n",
       " 'C:\\\\Users\\\\taij\\\\Documents\\\\Calvin\\\\MyProjects\\\\datasets\\\\EmotionDataset\\\\Angry\\\\10115.jpg',\n",
       " 'C:\\\\Users\\\\taij\\\\Documents\\\\Calvin\\\\MyProjects\\\\datasets\\\\EmotionDataset\\\\Angry\\\\10121.jpg',\n",
       " 'C:\\\\Users\\\\taij\\\\Documents\\\\Calvin\\\\MyProjects\\\\datasets\\\\EmotionDataset\\\\Angry\\\\10122.jpg',\n",
       " 'C:\\\\Users\\\\taij\\\\Documents\\\\Calvin\\\\MyProjects\\\\datasets\\\\EmotionDataset\\\\Angry\\\\10142.jpg',\n",
       " 'C:\\\\Users\\\\taij\\\\Documents\\\\Calvin\\\\MyProjects\\\\datasets\\\\EmotionDataset\\\\Angry\\\\10148.jpg',\n",
       " 'C:\\\\Users\\\\taij\\\\Documents\\\\Calvin\\\\MyProjects\\\\datasets\\\\EmotionDataset\\\\Angry\\\\1015.jpg',\n",
       " 'C:\\\\Users\\\\taij\\\\Documents\\\\Calvin\\\\MyProjects\\\\datasets\\\\EmotionDataset\\\\Angry\\\\10154.jpg',\n",
       " 'C:\\\\Users\\\\taij\\\\Documents\\\\Calvin\\\\MyProjects\\\\datasets\\\\EmotionDataset\\\\Angry\\\\10155.jpg',\n",
       " 'C:\\\\Users\\\\taij\\\\Documents\\\\Calvin\\\\MyProjects\\\\datasets\\\\EmotionDataset\\\\Angry\\\\10158.jpg',\n",
       " 'C:\\\\Users\\\\taij\\\\Documents\\\\Calvin\\\\MyProjects\\\\datasets\\\\EmotionDataset\\\\Angry\\\\1016.jpg',\n",
       " 'C:\\\\Users\\\\taij\\\\Documents\\\\Calvin\\\\MyProjects\\\\datasets\\\\EmotionDataset\\\\Angry\\\\10163.jpg',\n",
       " 'C:\\\\Users\\\\taij\\\\Documents\\\\Calvin\\\\MyProjects\\\\datasets\\\\EmotionDataset\\\\Angry\\\\10167.jpg',\n",
       " 'C:\\\\Users\\\\taij\\\\Documents\\\\Calvin\\\\MyProjects\\\\datasets\\\\EmotionDataset\\\\Angry\\\\10178.jpg',\n",
       " 'C:\\\\Users\\\\taij\\\\Documents\\\\Calvin\\\\MyProjects\\\\datasets\\\\EmotionDataset\\\\Angry\\\\1018.jpg',\n",
       " 'C:\\\\Users\\\\taij\\\\Documents\\\\Calvin\\\\MyProjects\\\\datasets\\\\EmotionDataset\\\\Angry\\\\10181.jpg',\n",
       " 'C:\\\\Users\\\\taij\\\\Documents\\\\Calvin\\\\MyProjects\\\\datasets\\\\EmotionDataset\\\\Angry\\\\10192.jpg',\n",
       " 'C:\\\\Users\\\\taij\\\\Documents\\\\Calvin\\\\MyProjects\\\\datasets\\\\EmotionDataset\\\\Angry\\\\10196.jpg',\n",
       " 'C:\\\\Users\\\\taij\\\\Documents\\\\Calvin\\\\MyProjects\\\\datasets\\\\EmotionDataset\\\\Angry\\\\10202.jpg',\n",
       " 'C:\\\\Users\\\\taij\\\\Documents\\\\Calvin\\\\MyProjects\\\\datasets\\\\EmotionDataset\\\\Angry\\\\10207.jpg',\n",
       " 'C:\\\\Users\\\\taij\\\\Documents\\\\Calvin\\\\MyProjects\\\\datasets\\\\EmotionDataset\\\\Angry\\\\10214.jpg',\n",
       " 'C:\\\\Users\\\\taij\\\\Documents\\\\Calvin\\\\MyProjects\\\\datasets\\\\EmotionDataset\\\\Angry\\\\10215.jpg',\n",
       " 'C:\\\\Users\\\\taij\\\\Documents\\\\Calvin\\\\MyProjects\\\\datasets\\\\EmotionDataset\\\\Angry\\\\10223.jpg',\n",
       " 'C:\\\\Users\\\\taij\\\\Documents\\\\Calvin\\\\MyProjects\\\\datasets\\\\EmotionDataset\\\\Angry\\\\10226.jpg',\n",
       " 'C:\\\\Users\\\\taij\\\\Documents\\\\Calvin\\\\MyProjects\\\\datasets\\\\EmotionDataset\\\\Angry\\\\1024.jpg',\n",
       " 'C:\\\\Users\\\\taij\\\\Documents\\\\Calvin\\\\MyProjects\\\\datasets\\\\EmotionDataset\\\\Angry\\\\10240.jpg',\n",
       " 'C:\\\\Users\\\\taij\\\\Documents\\\\Calvin\\\\MyProjects\\\\datasets\\\\EmotionDataset\\\\Angry\\\\10242.jpg',\n",
       " 'C:\\\\Users\\\\taij\\\\Documents\\\\Calvin\\\\MyProjects\\\\datasets\\\\EmotionDataset\\\\Angry\\\\10250.jpg',\n",
       " 'C:\\\\Users\\\\taij\\\\Documents\\\\Calvin\\\\MyProjects\\\\datasets\\\\EmotionDataset\\\\Angry\\\\10251.jpg',\n",
       " 'C:\\\\Users\\\\taij\\\\Documents\\\\Calvin\\\\MyProjects\\\\datasets\\\\EmotionDataset\\\\Angry\\\\10253.jpg',\n",
       " 'C:\\\\Users\\\\taij\\\\Documents\\\\Calvin\\\\MyProjects\\\\datasets\\\\EmotionDataset\\\\Angry\\\\10265.jpg',\n",
       " 'C:\\\\Users\\\\taij\\\\Documents\\\\Calvin\\\\MyProjects\\\\datasets\\\\EmotionDataset\\\\Angry\\\\10286.jpg',\n",
       " 'C:\\\\Users\\\\taij\\\\Documents\\\\Calvin\\\\MyProjects\\\\datasets\\\\EmotionDataset\\\\Angry\\\\10287.jpg',\n",
       " 'C:\\\\Users\\\\taij\\\\Documents\\\\Calvin\\\\MyProjects\\\\datasets\\\\EmotionDataset\\\\Angry\\\\10302.jpg',\n",
       " 'C:\\\\Users\\\\taij\\\\Documents\\\\Calvin\\\\MyProjects\\\\datasets\\\\EmotionDataset\\\\Angry\\\\10310.jpg',\n",
       " 'C:\\\\Users\\\\taij\\\\Documents\\\\Calvin\\\\MyProjects\\\\datasets\\\\EmotionDataset\\\\Angry\\\\10315.jpg',\n",
       " 'C:\\\\Users\\\\taij\\\\Documents\\\\Calvin\\\\MyProjects\\\\datasets\\\\EmotionDataset\\\\Angry\\\\10325.jpg',\n",
       " 'C:\\\\Users\\\\taij\\\\Documents\\\\Calvin\\\\MyProjects\\\\datasets\\\\EmotionDataset\\\\Angry\\\\10336.jpg',\n",
       " 'C:\\\\Users\\\\taij\\\\Documents\\\\Calvin\\\\MyProjects\\\\datasets\\\\EmotionDataset\\\\Angry\\\\10338.jpg',\n",
       " 'C:\\\\Users\\\\taij\\\\Documents\\\\Calvin\\\\MyProjects\\\\datasets\\\\EmotionDataset\\\\Angry\\\\10348.jpg',\n",
       " 'C:\\\\Users\\\\taij\\\\Documents\\\\Calvin\\\\MyProjects\\\\datasets\\\\EmotionDataset\\\\Angry\\\\10359.jpg',\n",
       " 'C:\\\\Users\\\\taij\\\\Documents\\\\Calvin\\\\MyProjects\\\\datasets\\\\EmotionDataset\\\\Angry\\\\10363.jpg',\n",
       " 'C:\\\\Users\\\\taij\\\\Documents\\\\Calvin\\\\MyProjects\\\\datasets\\\\EmotionDataset\\\\Angry\\\\10364.jpg',\n",
       " 'C:\\\\Users\\\\taij\\\\Documents\\\\Calvin\\\\MyProjects\\\\datasets\\\\EmotionDataset\\\\Angry\\\\10371.jpg',\n",
       " 'C:\\\\Users\\\\taij\\\\Documents\\\\Calvin\\\\MyProjects\\\\datasets\\\\EmotionDataset\\\\Angry\\\\10373.jpg',\n",
       " 'C:\\\\Users\\\\taij\\\\Documents\\\\Calvin\\\\MyProjects\\\\datasets\\\\EmotionDataset\\\\Angry\\\\10377.jpg',\n",
       " 'C:\\\\Users\\\\taij\\\\Documents\\\\Calvin\\\\MyProjects\\\\datasets\\\\EmotionDataset\\\\Angry\\\\10378.jpg',\n",
       " 'C:\\\\Users\\\\taij\\\\Documents\\\\Calvin\\\\MyProjects\\\\datasets\\\\EmotionDataset\\\\Angry\\\\10382.jpg',\n",
       " 'C:\\\\Users\\\\taij\\\\Documents\\\\Calvin\\\\MyProjects\\\\datasets\\\\EmotionDataset\\\\Angry\\\\10385.jpg',\n",
       " 'C:\\\\Users\\\\taij\\\\Documents\\\\Calvin\\\\MyProjects\\\\datasets\\\\EmotionDataset\\\\Angry\\\\10388.jpg',\n",
       " 'C:\\\\Users\\\\taij\\\\Documents\\\\Calvin\\\\MyProjects\\\\datasets\\\\EmotionDataset\\\\Angry\\\\1039.jpg',\n",
       " 'C:\\\\Users\\\\taij\\\\Documents\\\\Calvin\\\\MyProjects\\\\datasets\\\\EmotionDataset\\\\Angry\\\\10394.jpg',\n",
       " 'C:\\\\Users\\\\taij\\\\Documents\\\\Calvin\\\\MyProjects\\\\datasets\\\\EmotionDataset\\\\Angry\\\\10397.jpg',\n",
       " 'C:\\\\Users\\\\taij\\\\Documents\\\\Calvin\\\\MyProjects\\\\datasets\\\\EmotionDataset\\\\Angry\\\\10399.jpg',\n",
       " 'C:\\\\Users\\\\taij\\\\Documents\\\\Calvin\\\\MyProjects\\\\datasets\\\\EmotionDataset\\\\Angry\\\\10401.jpg',\n",
       " 'C:\\\\Users\\\\taij\\\\Documents\\\\Calvin\\\\MyProjects\\\\datasets\\\\EmotionDataset\\\\Angry\\\\10415.jpg',\n",
       " 'C:\\\\Users\\\\taij\\\\Documents\\\\Calvin\\\\MyProjects\\\\datasets\\\\EmotionDataset\\\\Angry\\\\10420.jpg',\n",
       " 'C:\\\\Users\\\\taij\\\\Documents\\\\Calvin\\\\MyProjects\\\\datasets\\\\EmotionDataset\\\\Angry\\\\10426.jpg',\n",
       " 'C:\\\\Users\\\\taij\\\\Documents\\\\Calvin\\\\MyProjects\\\\datasets\\\\EmotionDataset\\\\Angry\\\\10429.jpg',\n",
       " 'C:\\\\Users\\\\taij\\\\Documents\\\\Calvin\\\\MyProjects\\\\datasets\\\\EmotionDataset\\\\Angry\\\\10430.jpg',\n",
       " 'C:\\\\Users\\\\taij\\\\Documents\\\\Calvin\\\\MyProjects\\\\datasets\\\\EmotionDataset\\\\Angry\\\\10431.jpg',\n",
       " 'C:\\\\Users\\\\taij\\\\Documents\\\\Calvin\\\\MyProjects\\\\datasets\\\\EmotionDataset\\\\Angry\\\\10439.jpg',\n",
       " 'C:\\\\Users\\\\taij\\\\Documents\\\\Calvin\\\\MyProjects\\\\datasets\\\\EmotionDataset\\\\Angry\\\\10440.jpg',\n",
       " 'C:\\\\Users\\\\taij\\\\Documents\\\\Calvin\\\\MyProjects\\\\datasets\\\\EmotionDataset\\\\Angry\\\\10441.jpg',\n",
       " 'C:\\\\Users\\\\taij\\\\Documents\\\\Calvin\\\\MyProjects\\\\datasets\\\\EmotionDataset\\\\Angry\\\\10462.jpg',\n",
       " 'C:\\\\Users\\\\taij\\\\Documents\\\\Calvin\\\\MyProjects\\\\datasets\\\\EmotionDataset\\\\Angry\\\\10472.jpg',\n",
       " 'C:\\\\Users\\\\taij\\\\Documents\\\\Calvin\\\\MyProjects\\\\datasets\\\\EmotionDataset\\\\Angry\\\\10475.jpg',\n",
       " 'C:\\\\Users\\\\taij\\\\Documents\\\\Calvin\\\\MyProjects\\\\datasets\\\\EmotionDataset\\\\Angry\\\\10490.jpg',\n",
       " 'C:\\\\Users\\\\taij\\\\Documents\\\\Calvin\\\\MyProjects\\\\datasets\\\\EmotionDataset\\\\Angry\\\\10497.jpg',\n",
       " 'C:\\\\Users\\\\taij\\\\Documents\\\\Calvin\\\\MyProjects\\\\datasets\\\\EmotionDataset\\\\Angry\\\\1051.jpg',\n",
       " 'C:\\\\Users\\\\taij\\\\Documents\\\\Calvin\\\\MyProjects\\\\datasets\\\\EmotionDataset\\\\Angry\\\\10510.jpg',\n",
       " 'C:\\\\Users\\\\taij\\\\Documents\\\\Calvin\\\\MyProjects\\\\datasets\\\\EmotionDataset\\\\Angry\\\\10511.jpg',\n",
       " 'C:\\\\Users\\\\taij\\\\Documents\\\\Calvin\\\\MyProjects\\\\datasets\\\\EmotionDataset\\\\Angry\\\\10541.jpg',\n",
       " 'C:\\\\Users\\\\taij\\\\Documents\\\\Calvin\\\\MyProjects\\\\datasets\\\\EmotionDataset\\\\Angry\\\\10544.jpg',\n",
       " 'C:\\\\Users\\\\taij\\\\Documents\\\\Calvin\\\\MyProjects\\\\datasets\\\\EmotionDataset\\\\Angry\\\\10548.jpg',\n",
       " 'C:\\\\Users\\\\taij\\\\Documents\\\\Calvin\\\\MyProjects\\\\datasets\\\\EmotionDataset\\\\Angry\\\\10551.jpg',\n",
       " 'C:\\\\Users\\\\taij\\\\Documents\\\\Calvin\\\\MyProjects\\\\datasets\\\\EmotionDataset\\\\Angry\\\\10554.jpg',\n",
       " 'C:\\\\Users\\\\taij\\\\Documents\\\\Calvin\\\\MyProjects\\\\datasets\\\\EmotionDataset\\\\Angry\\\\10563.jpg',\n",
       " 'C:\\\\Users\\\\taij\\\\Documents\\\\Calvin\\\\MyProjects\\\\datasets\\\\EmotionDataset\\\\Angry\\\\10573.jpg',\n",
       " 'C:\\\\Users\\\\taij\\\\Documents\\\\Calvin\\\\MyProjects\\\\datasets\\\\EmotionDataset\\\\Angry\\\\10583.jpg',\n",
       " 'C:\\\\Users\\\\taij\\\\Documents\\\\Calvin\\\\MyProjects\\\\datasets\\\\EmotionDataset\\\\Angry\\\\10592.jpg',\n",
       " 'C:\\\\Users\\\\taij\\\\Documents\\\\Calvin\\\\MyProjects\\\\datasets\\\\EmotionDataset\\\\Angry\\\\10595.jpg',\n",
       " 'C:\\\\Users\\\\taij\\\\Documents\\\\Calvin\\\\MyProjects\\\\datasets\\\\EmotionDataset\\\\Angry\\\\10603.jpg',\n",
       " 'C:\\\\Users\\\\taij\\\\Documents\\\\Calvin\\\\MyProjects\\\\datasets\\\\EmotionDataset\\\\Angry\\\\10604.jpg',\n",
       " 'C:\\\\Users\\\\taij\\\\Documents\\\\Calvin\\\\MyProjects\\\\datasets\\\\EmotionDataset\\\\Angry\\\\1061.jpg',\n",
       " 'C:\\\\Users\\\\taij\\\\Documents\\\\Calvin\\\\MyProjects\\\\datasets\\\\EmotionDataset\\\\Angry\\\\10616.jpg',\n",
       " 'C:\\\\Users\\\\taij\\\\Documents\\\\Calvin\\\\MyProjects\\\\datasets\\\\EmotionDataset\\\\Angry\\\\10619.jpg',\n",
       " 'C:\\\\Users\\\\taij\\\\Documents\\\\Calvin\\\\MyProjects\\\\datasets\\\\EmotionDataset\\\\Angry\\\\10623.jpg',\n",
       " 'C:\\\\Users\\\\taij\\\\Documents\\\\Calvin\\\\MyProjects\\\\datasets\\\\EmotionDataset\\\\Angry\\\\10626.jpg',\n",
       " 'C:\\\\Users\\\\taij\\\\Documents\\\\Calvin\\\\MyProjects\\\\datasets\\\\EmotionDataset\\\\Angry\\\\10651.jpg',\n",
       " 'C:\\\\Users\\\\taij\\\\Documents\\\\Calvin\\\\MyProjects\\\\datasets\\\\EmotionDataset\\\\Angry\\\\10656.jpg',\n",
       " 'C:\\\\Users\\\\taij\\\\Documents\\\\Calvin\\\\MyProjects\\\\datasets\\\\EmotionDataset\\\\Angry\\\\1066.jpg',\n",
       " 'C:\\\\Users\\\\taij\\\\Documents\\\\Calvin\\\\MyProjects\\\\datasets\\\\EmotionDataset\\\\Angry\\\\10661.jpg',\n",
       " 'C:\\\\Users\\\\taij\\\\Documents\\\\Calvin\\\\MyProjects\\\\datasets\\\\EmotionDataset\\\\Angry\\\\10666.jpg',\n",
       " 'C:\\\\Users\\\\taij\\\\Documents\\\\Calvin\\\\MyProjects\\\\datasets\\\\EmotionDataset\\\\Angry\\\\10682.jpg',\n",
       " 'C:\\\\Users\\\\taij\\\\Documents\\\\Calvin\\\\MyProjects\\\\datasets\\\\EmotionDataset\\\\Angry\\\\10692.jpg',\n",
       " 'C:\\\\Users\\\\taij\\\\Documents\\\\Calvin\\\\MyProjects\\\\datasets\\\\EmotionDataset\\\\Angry\\\\10699.jpg',\n",
       " 'C:\\\\Users\\\\taij\\\\Documents\\\\Calvin\\\\MyProjects\\\\datasets\\\\EmotionDataset\\\\Angry\\\\107.jpg',\n",
       " 'C:\\\\Users\\\\taij\\\\Documents\\\\Calvin\\\\MyProjects\\\\datasets\\\\EmotionDataset\\\\Angry\\\\10702.jpg',\n",
       " 'C:\\\\Users\\\\taij\\\\Documents\\\\Calvin\\\\MyProjects\\\\datasets\\\\EmotionDataset\\\\Angry\\\\1071.jpg',\n",
       " 'C:\\\\Users\\\\taij\\\\Documents\\\\Calvin\\\\MyProjects\\\\datasets\\\\EmotionDataset\\\\Angry\\\\10714.jpg',\n",
       " 'C:\\\\Users\\\\taij\\\\Documents\\\\Calvin\\\\MyProjects\\\\datasets\\\\EmotionDataset\\\\Angry\\\\10716.jpg',\n",
       " 'C:\\\\Users\\\\taij\\\\Documents\\\\Calvin\\\\MyProjects\\\\datasets\\\\EmotionDataset\\\\Angry\\\\10726.jpg',\n",
       " 'C:\\\\Users\\\\taij\\\\Documents\\\\Calvin\\\\MyProjects\\\\datasets\\\\EmotionDataset\\\\Angry\\\\10729.jpg',\n",
       " 'C:\\\\Users\\\\taij\\\\Documents\\\\Calvin\\\\MyProjects\\\\datasets\\\\EmotionDataset\\\\Angry\\\\10743.jpg',\n",
       " 'C:\\\\Users\\\\taij\\\\Documents\\\\Calvin\\\\MyProjects\\\\datasets\\\\EmotionDataset\\\\Angry\\\\10746.jpg',\n",
       " 'C:\\\\Users\\\\taij\\\\Documents\\\\Calvin\\\\MyProjects\\\\datasets\\\\EmotionDataset\\\\Angry\\\\10771.jpg',\n",
       " 'C:\\\\Users\\\\taij\\\\Documents\\\\Calvin\\\\MyProjects\\\\datasets\\\\EmotionDataset\\\\Angry\\\\10785.jpg',\n",
       " 'C:\\\\Users\\\\taij\\\\Documents\\\\Calvin\\\\MyProjects\\\\datasets\\\\EmotionDataset\\\\Angry\\\\10786.jpg',\n",
       " 'C:\\\\Users\\\\taij\\\\Documents\\\\Calvin\\\\MyProjects\\\\datasets\\\\EmotionDataset\\\\Angry\\\\10790.jpg',\n",
       " 'C:\\\\Users\\\\taij\\\\Documents\\\\Calvin\\\\MyProjects\\\\datasets\\\\EmotionDataset\\\\Angry\\\\10805.jpg',\n",
       " 'C:\\\\Users\\\\taij\\\\Documents\\\\Calvin\\\\MyProjects\\\\datasets\\\\EmotionDataset\\\\Angry\\\\10812.jpg',\n",
       " 'C:\\\\Users\\\\taij\\\\Documents\\\\Calvin\\\\MyProjects\\\\datasets\\\\EmotionDataset\\\\Angry\\\\10814.jpg',\n",
       " 'C:\\\\Users\\\\taij\\\\Documents\\\\Calvin\\\\MyProjects\\\\datasets\\\\EmotionDataset\\\\Angry\\\\10818.jpg',\n",
       " 'C:\\\\Users\\\\taij\\\\Documents\\\\Calvin\\\\MyProjects\\\\datasets\\\\EmotionDataset\\\\Angry\\\\10819.jpg',\n",
       " 'C:\\\\Users\\\\taij\\\\Documents\\\\Calvin\\\\MyProjects\\\\datasets\\\\EmotionDataset\\\\Angry\\\\10821.jpg',\n",
       " 'C:\\\\Users\\\\taij\\\\Documents\\\\Calvin\\\\MyProjects\\\\datasets\\\\EmotionDataset\\\\Angry\\\\10823.jpg',\n",
       " 'C:\\\\Users\\\\taij\\\\Documents\\\\Calvin\\\\MyProjects\\\\datasets\\\\EmotionDataset\\\\Angry\\\\10825.jpg',\n",
       " 'C:\\\\Users\\\\taij\\\\Documents\\\\Calvin\\\\MyProjects\\\\datasets\\\\EmotionDataset\\\\Angry\\\\10831.jpg',\n",
       " 'C:\\\\Users\\\\taij\\\\Documents\\\\Calvin\\\\MyProjects\\\\datasets\\\\EmotionDataset\\\\Angry\\\\10839.jpg',\n",
       " 'C:\\\\Users\\\\taij\\\\Documents\\\\Calvin\\\\MyProjects\\\\datasets\\\\EmotionDataset\\\\Angry\\\\10851.jpg',\n",
       " 'C:\\\\Users\\\\taij\\\\Documents\\\\Calvin\\\\MyProjects\\\\datasets\\\\EmotionDataset\\\\Angry\\\\10854.jpg',\n",
       " 'C:\\\\Users\\\\taij\\\\Documents\\\\Calvin\\\\MyProjects\\\\datasets\\\\EmotionDataset\\\\Angry\\\\10874.jpg',\n",
       " 'C:\\\\Users\\\\taij\\\\Documents\\\\Calvin\\\\MyProjects\\\\datasets\\\\EmotionDataset\\\\Angry\\\\10889.jpg',\n",
       " 'C:\\\\Users\\\\taij\\\\Documents\\\\Calvin\\\\MyProjects\\\\datasets\\\\EmotionDataset\\\\Angry\\\\10890.jpg',\n",
       " 'C:\\\\Users\\\\taij\\\\Documents\\\\Calvin\\\\MyProjects\\\\datasets\\\\EmotionDataset\\\\Angry\\\\10894.jpg',\n",
       " 'C:\\\\Users\\\\taij\\\\Documents\\\\Calvin\\\\MyProjects\\\\datasets\\\\EmotionDataset\\\\Angry\\\\1090.jpg',\n",
       " 'C:\\\\Users\\\\taij\\\\Documents\\\\Calvin\\\\MyProjects\\\\datasets\\\\EmotionDataset\\\\Angry\\\\10900.jpg',\n",
       " 'C:\\\\Users\\\\taij\\\\Documents\\\\Calvin\\\\MyProjects\\\\datasets\\\\EmotionDataset\\\\Angry\\\\10904.jpg',\n",
       " 'C:\\\\Users\\\\taij\\\\Documents\\\\Calvin\\\\MyProjects\\\\datasets\\\\EmotionDataset\\\\Angry\\\\10907.jpg',\n",
       " 'C:\\\\Users\\\\taij\\\\Documents\\\\Calvin\\\\MyProjects\\\\datasets\\\\EmotionDataset\\\\Angry\\\\10908.jpg',\n",
       " 'C:\\\\Users\\\\taij\\\\Documents\\\\Calvin\\\\MyProjects\\\\datasets\\\\EmotionDataset\\\\Angry\\\\10913.jpg',\n",
       " 'C:\\\\Users\\\\taij\\\\Documents\\\\Calvin\\\\MyProjects\\\\datasets\\\\EmotionDataset\\\\Angry\\\\10915.jpg',\n",
       " 'C:\\\\Users\\\\taij\\\\Documents\\\\Calvin\\\\MyProjects\\\\datasets\\\\EmotionDataset\\\\Angry\\\\10918.jpg',\n",
       " 'C:\\\\Users\\\\taij\\\\Documents\\\\Calvin\\\\MyProjects\\\\datasets\\\\EmotionDataset\\\\Angry\\\\10925.jpg',\n",
       " 'C:\\\\Users\\\\taij\\\\Documents\\\\Calvin\\\\MyProjects\\\\datasets\\\\EmotionDataset\\\\Angry\\\\10928.jpg',\n",
       " 'C:\\\\Users\\\\taij\\\\Documents\\\\Calvin\\\\MyProjects\\\\datasets\\\\EmotionDataset\\\\Angry\\\\10939.jpg',\n",
       " 'C:\\\\Users\\\\taij\\\\Documents\\\\Calvin\\\\MyProjects\\\\datasets\\\\EmotionDataset\\\\Angry\\\\10942.jpg',\n",
       " 'C:\\\\Users\\\\taij\\\\Documents\\\\Calvin\\\\MyProjects\\\\datasets\\\\EmotionDataset\\\\Angry\\\\10947.jpg',\n",
       " 'C:\\\\Users\\\\taij\\\\Documents\\\\Calvin\\\\MyProjects\\\\datasets\\\\EmotionDataset\\\\Angry\\\\10959.jpg',\n",
       " 'C:\\\\Users\\\\taij\\\\Documents\\\\Calvin\\\\MyProjects\\\\datasets\\\\EmotionDataset\\\\Angry\\\\10961.jpg',\n",
       " 'C:\\\\Users\\\\taij\\\\Documents\\\\Calvin\\\\MyProjects\\\\datasets\\\\EmotionDataset\\\\Angry\\\\10965.jpg',\n",
       " 'C:\\\\Users\\\\taij\\\\Documents\\\\Calvin\\\\MyProjects\\\\datasets\\\\EmotionDataset\\\\Angry\\\\10970.jpg',\n",
       " 'C:\\\\Users\\\\taij\\\\Documents\\\\Calvin\\\\MyProjects\\\\datasets\\\\EmotionDataset\\\\Angry\\\\10973.jpg',\n",
       " 'C:\\\\Users\\\\taij\\\\Documents\\\\Calvin\\\\MyProjects\\\\datasets\\\\EmotionDataset\\\\Angry\\\\1098.jpg',\n",
       " 'C:\\\\Users\\\\taij\\\\Documents\\\\Calvin\\\\MyProjects\\\\datasets\\\\EmotionDataset\\\\Angry\\\\10984.jpg',\n",
       " 'C:\\\\Users\\\\taij\\\\Documents\\\\Calvin\\\\MyProjects\\\\datasets\\\\EmotionDataset\\\\Angry\\\\10988.jpg',\n",
       " 'C:\\\\Users\\\\taij\\\\Documents\\\\Calvin\\\\MyProjects\\\\datasets\\\\EmotionDataset\\\\Angry\\\\10989.jpg',\n",
       " 'C:\\\\Users\\\\taij\\\\Documents\\\\Calvin\\\\MyProjects\\\\datasets\\\\EmotionDataset\\\\Angry\\\\10994.jpg',\n",
       " 'C:\\\\Users\\\\taij\\\\Documents\\\\Calvin\\\\MyProjects\\\\datasets\\\\EmotionDataset\\\\Angry\\\\11002.jpg',\n",
       " 'C:\\\\Users\\\\taij\\\\Documents\\\\Calvin\\\\MyProjects\\\\datasets\\\\EmotionDataset\\\\Angry\\\\11004.jpg',\n",
       " 'C:\\\\Users\\\\taij\\\\Documents\\\\Calvin\\\\MyProjects\\\\datasets\\\\EmotionDataset\\\\Angry\\\\11008.jpg',\n",
       " 'C:\\\\Users\\\\taij\\\\Documents\\\\Calvin\\\\MyProjects\\\\datasets\\\\EmotionDataset\\\\Angry\\\\11011.jpg',\n",
       " 'C:\\\\Users\\\\taij\\\\Documents\\\\Calvin\\\\MyProjects\\\\datasets\\\\EmotionDataset\\\\Angry\\\\11014.jpg',\n",
       " 'C:\\\\Users\\\\taij\\\\Documents\\\\Calvin\\\\MyProjects\\\\datasets\\\\EmotionDataset\\\\Angry\\\\11017.jpg',\n",
       " 'C:\\\\Users\\\\taij\\\\Documents\\\\Calvin\\\\MyProjects\\\\datasets\\\\EmotionDataset\\\\Angry\\\\11018.jpg',\n",
       " 'C:\\\\Users\\\\taij\\\\Documents\\\\Calvin\\\\MyProjects\\\\datasets\\\\EmotionDataset\\\\Angry\\\\1102.jpg',\n",
       " 'C:\\\\Users\\\\taij\\\\Documents\\\\Calvin\\\\MyProjects\\\\datasets\\\\EmotionDataset\\\\Angry\\\\11024.jpg',\n",
       " 'C:\\\\Users\\\\taij\\\\Documents\\\\Calvin\\\\MyProjects\\\\datasets\\\\EmotionDataset\\\\Angry\\\\11028.jpg',\n",
       " 'C:\\\\Users\\\\taij\\\\Documents\\\\Calvin\\\\MyProjects\\\\datasets\\\\EmotionDataset\\\\Angry\\\\11042.jpg',\n",
       " 'C:\\\\Users\\\\taij\\\\Documents\\\\Calvin\\\\MyProjects\\\\datasets\\\\EmotionDataset\\\\Angry\\\\1105.jpg',\n",
       " 'C:\\\\Users\\\\taij\\\\Documents\\\\Calvin\\\\MyProjects\\\\datasets\\\\EmotionDataset\\\\Angry\\\\11053.jpg',\n",
       " 'C:\\\\Users\\\\taij\\\\Documents\\\\Calvin\\\\MyProjects\\\\datasets\\\\EmotionDataset\\\\Angry\\\\1106.jpg',\n",
       " 'C:\\\\Users\\\\taij\\\\Documents\\\\Calvin\\\\MyProjects\\\\datasets\\\\EmotionDataset\\\\Angry\\\\11060.jpg',\n",
       " 'C:\\\\Users\\\\taij\\\\Documents\\\\Calvin\\\\MyProjects\\\\datasets\\\\EmotionDataset\\\\Angry\\\\11075.jpg',\n",
       " 'C:\\\\Users\\\\taij\\\\Documents\\\\Calvin\\\\MyProjects\\\\datasets\\\\EmotionDataset\\\\Angry\\\\1108.jpg',\n",
       " 'C:\\\\Users\\\\taij\\\\Documents\\\\Calvin\\\\MyProjects\\\\datasets\\\\EmotionDataset\\\\Angry\\\\11083.jpg',\n",
       " 'C:\\\\Users\\\\taij\\\\Documents\\\\Calvin\\\\MyProjects\\\\datasets\\\\EmotionDataset\\\\Angry\\\\11093.jpg',\n",
       " 'C:\\\\Users\\\\taij\\\\Documents\\\\Calvin\\\\MyProjects\\\\datasets\\\\EmotionDataset\\\\Angry\\\\11096.jpg',\n",
       " 'C:\\\\Users\\\\taij\\\\Documents\\\\Calvin\\\\MyProjects\\\\datasets\\\\EmotionDataset\\\\Angry\\\\11102.jpg',\n",
       " 'C:\\\\Users\\\\taij\\\\Documents\\\\Calvin\\\\MyProjects\\\\datasets\\\\EmotionDataset\\\\Angry\\\\11109.jpg',\n",
       " 'C:\\\\Users\\\\taij\\\\Documents\\\\Calvin\\\\MyProjects\\\\datasets\\\\EmotionDataset\\\\Angry\\\\11113.jpg',\n",
       " 'C:\\\\Users\\\\taij\\\\Documents\\\\Calvin\\\\MyProjects\\\\datasets\\\\EmotionDataset\\\\Angry\\\\11117.jpg',\n",
       " 'C:\\\\Users\\\\taij\\\\Documents\\\\Calvin\\\\MyProjects\\\\datasets\\\\EmotionDataset\\\\Angry\\\\11118.jpg',\n",
       " 'C:\\\\Users\\\\taij\\\\Documents\\\\Calvin\\\\MyProjects\\\\datasets\\\\EmotionDataset\\\\Angry\\\\11151.jpg',\n",
       " 'C:\\\\Users\\\\taij\\\\Documents\\\\Calvin\\\\MyProjects\\\\datasets\\\\EmotionDataset\\\\Angry\\\\11153.jpg',\n",
       " 'C:\\\\Users\\\\taij\\\\Documents\\\\Calvin\\\\MyProjects\\\\datasets\\\\EmotionDataset\\\\Angry\\\\11158.jpg',\n",
       " 'C:\\\\Users\\\\taij\\\\Documents\\\\Calvin\\\\MyProjects\\\\datasets\\\\EmotionDataset\\\\Angry\\\\11169.jpg',\n",
       " 'C:\\\\Users\\\\taij\\\\Documents\\\\Calvin\\\\MyProjects\\\\datasets\\\\EmotionDataset\\\\Angry\\\\11174.jpg',\n",
       " 'C:\\\\Users\\\\taij\\\\Documents\\\\Calvin\\\\MyProjects\\\\datasets\\\\EmotionDataset\\\\Angry\\\\11181.jpg',\n",
       " 'C:\\\\Users\\\\taij\\\\Documents\\\\Calvin\\\\MyProjects\\\\datasets\\\\EmotionDataset\\\\Angry\\\\11186.jpg',\n",
       " 'C:\\\\Users\\\\taij\\\\Documents\\\\Calvin\\\\MyProjects\\\\datasets\\\\EmotionDataset\\\\Angry\\\\11188.jpg',\n",
       " 'C:\\\\Users\\\\taij\\\\Documents\\\\Calvin\\\\MyProjects\\\\datasets\\\\EmotionDataset\\\\Angry\\\\11190.jpg',\n",
       " 'C:\\\\Users\\\\taij\\\\Documents\\\\Calvin\\\\MyProjects\\\\datasets\\\\EmotionDataset\\\\Angry\\\\11200.jpg',\n",
       " 'C:\\\\Users\\\\taij\\\\Documents\\\\Calvin\\\\MyProjects\\\\datasets\\\\EmotionDataset\\\\Angry\\\\11205.jpg',\n",
       " 'C:\\\\Users\\\\taij\\\\Documents\\\\Calvin\\\\MyProjects\\\\datasets\\\\EmotionDataset\\\\Angry\\\\11206.jpg',\n",
       " 'C:\\\\Users\\\\taij\\\\Documents\\\\Calvin\\\\MyProjects\\\\datasets\\\\EmotionDataset\\\\Angry\\\\11215.jpg',\n",
       " 'C:\\\\Users\\\\taij\\\\Documents\\\\Calvin\\\\MyProjects\\\\datasets\\\\EmotionDataset\\\\Angry\\\\1122.jpg',\n",
       " 'C:\\\\Users\\\\taij\\\\Documents\\\\Calvin\\\\MyProjects\\\\datasets\\\\EmotionDataset\\\\Angry\\\\1123.jpg',\n",
       " 'C:\\\\Users\\\\taij\\\\Documents\\\\Calvin\\\\MyProjects\\\\datasets\\\\EmotionDataset\\\\Angry\\\\11235.jpg',\n",
       " 'C:\\\\Users\\\\taij\\\\Documents\\\\Calvin\\\\MyProjects\\\\datasets\\\\EmotionDataset\\\\Angry\\\\1124.jpg',\n",
       " 'C:\\\\Users\\\\taij\\\\Documents\\\\Calvin\\\\MyProjects\\\\datasets\\\\EmotionDataset\\\\Angry\\\\11258.jpg',\n",
       " 'C:\\\\Users\\\\taij\\\\Documents\\\\Calvin\\\\MyProjects\\\\datasets\\\\EmotionDataset\\\\Angry\\\\11266.jpg',\n",
       " 'C:\\\\Users\\\\taij\\\\Documents\\\\Calvin\\\\MyProjects\\\\datasets\\\\EmotionDataset\\\\Angry\\\\11267.jpg',\n",
       " 'C:\\\\Users\\\\taij\\\\Documents\\\\Calvin\\\\MyProjects\\\\datasets\\\\EmotionDataset\\\\Angry\\\\11268.jpg',\n",
       " 'C:\\\\Users\\\\taij\\\\Documents\\\\Calvin\\\\MyProjects\\\\datasets\\\\EmotionDataset\\\\Angry\\\\1127.jpg',\n",
       " 'C:\\\\Users\\\\taij\\\\Documents\\\\Calvin\\\\MyProjects\\\\datasets\\\\EmotionDataset\\\\Angry\\\\11274.jpg',\n",
       " 'C:\\\\Users\\\\taij\\\\Documents\\\\Calvin\\\\MyProjects\\\\datasets\\\\EmotionDataset\\\\Angry\\\\11286.jpg',\n",
       " 'C:\\\\Users\\\\taij\\\\Documents\\\\Calvin\\\\MyProjects\\\\datasets\\\\EmotionDataset\\\\Angry\\\\11289.jpg',\n",
       " 'C:\\\\Users\\\\taij\\\\Documents\\\\Calvin\\\\MyProjects\\\\datasets\\\\EmotionDataset\\\\Angry\\\\11301.jpg',\n",
       " 'C:\\\\Users\\\\taij\\\\Documents\\\\Calvin\\\\MyProjects\\\\datasets\\\\EmotionDataset\\\\Angry\\\\11315.jpg',\n",
       " 'C:\\\\Users\\\\taij\\\\Documents\\\\Calvin\\\\MyProjects\\\\datasets\\\\EmotionDataset\\\\Angry\\\\11325.jpg',\n",
       " 'C:\\\\Users\\\\taij\\\\Documents\\\\Calvin\\\\MyProjects\\\\datasets\\\\EmotionDataset\\\\Angry\\\\11337.jpg',\n",
       " 'C:\\\\Users\\\\taij\\\\Documents\\\\Calvin\\\\MyProjects\\\\datasets\\\\EmotionDataset\\\\Angry\\\\11342.jpg',\n",
       " 'C:\\\\Users\\\\taij\\\\Documents\\\\Calvin\\\\MyProjects\\\\datasets\\\\EmotionDataset\\\\Angry\\\\11377.jpg',\n",
       " 'C:\\\\Users\\\\taij\\\\Documents\\\\Calvin\\\\MyProjects\\\\datasets\\\\EmotionDataset\\\\Angry\\\\11379.jpg',\n",
       " 'C:\\\\Users\\\\taij\\\\Documents\\\\Calvin\\\\MyProjects\\\\datasets\\\\EmotionDataset\\\\Angry\\\\11385.jpg',\n",
       " 'C:\\\\Users\\\\taij\\\\Documents\\\\Calvin\\\\MyProjects\\\\datasets\\\\EmotionDataset\\\\Angry\\\\11386.jpg',\n",
       " 'C:\\\\Users\\\\taij\\\\Documents\\\\Calvin\\\\MyProjects\\\\datasets\\\\EmotionDataset\\\\Angry\\\\11389.jpg',\n",
       " 'C:\\\\Users\\\\taij\\\\Documents\\\\Calvin\\\\MyProjects\\\\datasets\\\\EmotionDataset\\\\Angry\\\\11400.jpg',\n",
       " 'C:\\\\Users\\\\taij\\\\Documents\\\\Calvin\\\\MyProjects\\\\datasets\\\\EmotionDataset\\\\Angry\\\\11403.jpg',\n",
       " 'C:\\\\Users\\\\taij\\\\Documents\\\\Calvin\\\\MyProjects\\\\datasets\\\\EmotionDataset\\\\Angry\\\\11410.jpg',\n",
       " 'C:\\\\Users\\\\taij\\\\Documents\\\\Calvin\\\\MyProjects\\\\datasets\\\\EmotionDataset\\\\Angry\\\\11411.jpg',\n",
       " 'C:\\\\Users\\\\taij\\\\Documents\\\\Calvin\\\\MyProjects\\\\datasets\\\\EmotionDataset\\\\Angry\\\\11420.jpg',\n",
       " 'C:\\\\Users\\\\taij\\\\Documents\\\\Calvin\\\\MyProjects\\\\datasets\\\\EmotionDataset\\\\Angry\\\\11421.jpg',\n",
       " 'C:\\\\Users\\\\taij\\\\Documents\\\\Calvin\\\\MyProjects\\\\datasets\\\\EmotionDataset\\\\Angry\\\\11426.jpg',\n",
       " 'C:\\\\Users\\\\taij\\\\Documents\\\\Calvin\\\\MyProjects\\\\datasets\\\\EmotionDataset\\\\Angry\\\\11432.jpg',\n",
       " 'C:\\\\Users\\\\taij\\\\Documents\\\\Calvin\\\\MyProjects\\\\datasets\\\\EmotionDataset\\\\Angry\\\\11449.jpg',\n",
       " 'C:\\\\Users\\\\taij\\\\Documents\\\\Calvin\\\\MyProjects\\\\datasets\\\\EmotionDataset\\\\Angry\\\\11458.jpg',\n",
       " 'C:\\\\Users\\\\taij\\\\Documents\\\\Calvin\\\\MyProjects\\\\datasets\\\\EmotionDataset\\\\Angry\\\\11460.jpg',\n",
       " 'C:\\\\Users\\\\taij\\\\Documents\\\\Calvin\\\\MyProjects\\\\datasets\\\\EmotionDataset\\\\Angry\\\\11464.jpg',\n",
       " 'C:\\\\Users\\\\taij\\\\Documents\\\\Calvin\\\\MyProjects\\\\datasets\\\\EmotionDataset\\\\Angry\\\\11467.jpg',\n",
       " 'C:\\\\Users\\\\taij\\\\Documents\\\\Calvin\\\\MyProjects\\\\datasets\\\\EmotionDataset\\\\Angry\\\\1147.jpg',\n",
       " 'C:\\\\Users\\\\taij\\\\Documents\\\\Calvin\\\\MyProjects\\\\datasets\\\\EmotionDataset\\\\Angry\\\\11474.jpg',\n",
       " 'C:\\\\Users\\\\taij\\\\Documents\\\\Calvin\\\\MyProjects\\\\datasets\\\\EmotionDataset\\\\Angry\\\\11475.jpg',\n",
       " 'C:\\\\Users\\\\taij\\\\Documents\\\\Calvin\\\\MyProjects\\\\datasets\\\\EmotionDataset\\\\Angry\\\\11480.jpg',\n",
       " 'C:\\\\Users\\\\taij\\\\Documents\\\\Calvin\\\\MyProjects\\\\datasets\\\\EmotionDataset\\\\Angry\\\\1150.jpg',\n",
       " 'C:\\\\Users\\\\taij\\\\Documents\\\\Calvin\\\\MyProjects\\\\datasets\\\\EmotionDataset\\\\Angry\\\\11534.jpg',\n",
       " 'C:\\\\Users\\\\taij\\\\Documents\\\\Calvin\\\\MyProjects\\\\datasets\\\\EmotionDataset\\\\Angry\\\\11537.jpg',\n",
       " 'C:\\\\Users\\\\taij\\\\Documents\\\\Calvin\\\\MyProjects\\\\datasets\\\\EmotionDataset\\\\Angry\\\\11545.jpg',\n",
       " 'C:\\\\Users\\\\taij\\\\Documents\\\\Calvin\\\\MyProjects\\\\datasets\\\\EmotionDataset\\\\Angry\\\\11548.jpg',\n",
       " 'C:\\\\Users\\\\taij\\\\Documents\\\\Calvin\\\\MyProjects\\\\datasets\\\\EmotionDataset\\\\Angry\\\\11550.jpg',\n",
       " 'C:\\\\Users\\\\taij\\\\Documents\\\\Calvin\\\\MyProjects\\\\datasets\\\\EmotionDataset\\\\Angry\\\\11557.jpg',\n",
       " 'C:\\\\Users\\\\taij\\\\Documents\\\\Calvin\\\\MyProjects\\\\datasets\\\\EmotionDataset\\\\Angry\\\\11561.jpg',\n",
       " 'C:\\\\Users\\\\taij\\\\Documents\\\\Calvin\\\\MyProjects\\\\datasets\\\\EmotionDataset\\\\Angry\\\\11571.jpg',\n",
       " 'C:\\\\Users\\\\taij\\\\Documents\\\\Calvin\\\\MyProjects\\\\datasets\\\\EmotionDataset\\\\Angry\\\\11572.jpg',\n",
       " 'C:\\\\Users\\\\taij\\\\Documents\\\\Calvin\\\\MyProjects\\\\datasets\\\\EmotionDataset\\\\Angry\\\\11577.jpg',\n",
       " 'C:\\\\Users\\\\taij\\\\Documents\\\\Calvin\\\\MyProjects\\\\datasets\\\\EmotionDataset\\\\Angry\\\\1158.jpg',\n",
       " 'C:\\\\Users\\\\taij\\\\Documents\\\\Calvin\\\\MyProjects\\\\datasets\\\\EmotionDataset\\\\Angry\\\\1160.jpg',\n",
       " 'C:\\\\Users\\\\taij\\\\Documents\\\\Calvin\\\\MyProjects\\\\datasets\\\\EmotionDataset\\\\Angry\\\\11606.jpg',\n",
       " 'C:\\\\Users\\\\taij\\\\Documents\\\\Calvin\\\\MyProjects\\\\datasets\\\\EmotionDataset\\\\Angry\\\\11607.jpg',\n",
       " 'C:\\\\Users\\\\taij\\\\Documents\\\\Calvin\\\\MyProjects\\\\datasets\\\\EmotionDataset\\\\Angry\\\\11610.jpg',\n",
       " 'C:\\\\Users\\\\taij\\\\Documents\\\\Calvin\\\\MyProjects\\\\datasets\\\\EmotionDataset\\\\Angry\\\\11613.jpg',\n",
       " 'C:\\\\Users\\\\taij\\\\Documents\\\\Calvin\\\\MyProjects\\\\datasets\\\\EmotionDataset\\\\Angry\\\\11617.jpg',\n",
       " 'C:\\\\Users\\\\taij\\\\Documents\\\\Calvin\\\\MyProjects\\\\datasets\\\\EmotionDataset\\\\Angry\\\\11623.jpg',\n",
       " 'C:\\\\Users\\\\taij\\\\Documents\\\\Calvin\\\\MyProjects\\\\datasets\\\\EmotionDataset\\\\Angry\\\\11632.jpg',\n",
       " 'C:\\\\Users\\\\taij\\\\Documents\\\\Calvin\\\\MyProjects\\\\datasets\\\\EmotionDataset\\\\Angry\\\\11641.jpg',\n",
       " 'C:\\\\Users\\\\taij\\\\Documents\\\\Calvin\\\\MyProjects\\\\datasets\\\\EmotionDataset\\\\Angry\\\\11642.jpg',\n",
       " 'C:\\\\Users\\\\taij\\\\Documents\\\\Calvin\\\\MyProjects\\\\datasets\\\\EmotionDataset\\\\Angry\\\\11644.jpg',\n",
       " 'C:\\\\Users\\\\taij\\\\Documents\\\\Calvin\\\\MyProjects\\\\datasets\\\\EmotionDataset\\\\Angry\\\\11645.jpg',\n",
       " 'C:\\\\Users\\\\taij\\\\Documents\\\\Calvin\\\\MyProjects\\\\datasets\\\\EmotionDataset\\\\Angry\\\\11647.jpg',\n",
       " 'C:\\\\Users\\\\taij\\\\Documents\\\\Calvin\\\\MyProjects\\\\datasets\\\\EmotionDataset\\\\Angry\\\\1166.jpg',\n",
       " 'C:\\\\Users\\\\taij\\\\Documents\\\\Calvin\\\\MyProjects\\\\datasets\\\\EmotionDataset\\\\Angry\\\\11669.jpg',\n",
       " 'C:\\\\Users\\\\taij\\\\Documents\\\\Calvin\\\\MyProjects\\\\datasets\\\\EmotionDataset\\\\Angry\\\\11675.jpg',\n",
       " 'C:\\\\Users\\\\taij\\\\Documents\\\\Calvin\\\\MyProjects\\\\datasets\\\\EmotionDataset\\\\Angry\\\\1168.jpg',\n",
       " 'C:\\\\Users\\\\taij\\\\Documents\\\\Calvin\\\\MyProjects\\\\datasets\\\\EmotionDataset\\\\Angry\\\\11688.jpg',\n",
       " 'C:\\\\Users\\\\taij\\\\Documents\\\\Calvin\\\\MyProjects\\\\datasets\\\\EmotionDataset\\\\Angry\\\\11694.jpg',\n",
       " 'C:\\\\Users\\\\taij\\\\Documents\\\\Calvin\\\\MyProjects\\\\datasets\\\\EmotionDataset\\\\Angry\\\\117.jpg',\n",
       " 'C:\\\\Users\\\\taij\\\\Documents\\\\Calvin\\\\MyProjects\\\\datasets\\\\EmotionDataset\\\\Angry\\\\1170.jpg',\n",
       " 'C:\\\\Users\\\\taij\\\\Documents\\\\Calvin\\\\MyProjects\\\\datasets\\\\EmotionDataset\\\\Angry\\\\11707.jpg',\n",
       " 'C:\\\\Users\\\\taij\\\\Documents\\\\Calvin\\\\MyProjects\\\\datasets\\\\EmotionDataset\\\\Angry\\\\11708.jpg',\n",
       " 'C:\\\\Users\\\\taij\\\\Documents\\\\Calvin\\\\MyProjects\\\\datasets\\\\EmotionDataset\\\\Angry\\\\11714.jpg',\n",
       " 'C:\\\\Users\\\\taij\\\\Documents\\\\Calvin\\\\MyProjects\\\\datasets\\\\EmotionDataset\\\\Angry\\\\11732.jpg',\n",
       " 'C:\\\\Users\\\\taij\\\\Documents\\\\Calvin\\\\MyProjects\\\\datasets\\\\EmotionDataset\\\\Angry\\\\11735.jpg',\n",
       " 'C:\\\\Users\\\\taij\\\\Documents\\\\Calvin\\\\MyProjects\\\\datasets\\\\EmotionDataset\\\\Angry\\\\11744.jpg',\n",
       " 'C:\\\\Users\\\\taij\\\\Documents\\\\Calvin\\\\MyProjects\\\\datasets\\\\EmotionDataset\\\\Angry\\\\11755.jpg',\n",
       " 'C:\\\\Users\\\\taij\\\\Documents\\\\Calvin\\\\MyProjects\\\\datasets\\\\EmotionDataset\\\\Angry\\\\11756.jpg',\n",
       " 'C:\\\\Users\\\\taij\\\\Documents\\\\Calvin\\\\MyProjects\\\\datasets\\\\EmotionDataset\\\\Angry\\\\11759.jpg',\n",
       " 'C:\\\\Users\\\\taij\\\\Documents\\\\Calvin\\\\MyProjects\\\\datasets\\\\EmotionDataset\\\\Angry\\\\11764.jpg',\n",
       " 'C:\\\\Users\\\\taij\\\\Documents\\\\Calvin\\\\MyProjects\\\\datasets\\\\EmotionDataset\\\\Angry\\\\11769.jpg',\n",
       " 'C:\\\\Users\\\\taij\\\\Documents\\\\Calvin\\\\MyProjects\\\\datasets\\\\EmotionDataset\\\\Angry\\\\1177.jpg',\n",
       " 'C:\\\\Users\\\\taij\\\\Documents\\\\Calvin\\\\MyProjects\\\\datasets\\\\EmotionDataset\\\\Angry\\\\1178.jpg',\n",
       " 'C:\\\\Users\\\\taij\\\\Documents\\\\Calvin\\\\MyProjects\\\\datasets\\\\EmotionDataset\\\\Angry\\\\11781.jpg',\n",
       " 'C:\\\\Users\\\\taij\\\\Documents\\\\Calvin\\\\MyProjects\\\\datasets\\\\EmotionDataset\\\\Angry\\\\11805.jpg',\n",
       " 'C:\\\\Users\\\\taij\\\\Documents\\\\Calvin\\\\MyProjects\\\\datasets\\\\EmotionDataset\\\\Angry\\\\1181.jpg',\n",
       " 'C:\\\\Users\\\\taij\\\\Documents\\\\Calvin\\\\MyProjects\\\\datasets\\\\EmotionDataset\\\\Angry\\\\11813.jpg',\n",
       " 'C:\\\\Users\\\\taij\\\\Documents\\\\Calvin\\\\MyProjects\\\\datasets\\\\EmotionDataset\\\\Angry\\\\11820.jpg',\n",
       " 'C:\\\\Users\\\\taij\\\\Documents\\\\Calvin\\\\MyProjects\\\\datasets\\\\EmotionDataset\\\\Angry\\\\11825.jpg',\n",
       " 'C:\\\\Users\\\\taij\\\\Documents\\\\Calvin\\\\MyProjects\\\\datasets\\\\EmotionDataset\\\\Angry\\\\11841.jpg',\n",
       " 'C:\\\\Users\\\\taij\\\\Documents\\\\Calvin\\\\MyProjects\\\\datasets\\\\EmotionDataset\\\\Angry\\\\11849.jpg',\n",
       " 'C:\\\\Users\\\\taij\\\\Documents\\\\Calvin\\\\MyProjects\\\\datasets\\\\EmotionDataset\\\\Angry\\\\11863.jpg',\n",
       " 'C:\\\\Users\\\\taij\\\\Documents\\\\Calvin\\\\MyProjects\\\\datasets\\\\EmotionDataset\\\\Angry\\\\11877.jpg',\n",
       " 'C:\\\\Users\\\\taij\\\\Documents\\\\Calvin\\\\MyProjects\\\\datasets\\\\EmotionDataset\\\\Angry\\\\11882.jpg',\n",
       " 'C:\\\\Users\\\\taij\\\\Documents\\\\Calvin\\\\MyProjects\\\\datasets\\\\EmotionDataset\\\\Angry\\\\11883.jpg',\n",
       " 'C:\\\\Users\\\\taij\\\\Documents\\\\Calvin\\\\MyProjects\\\\datasets\\\\EmotionDataset\\\\Angry\\\\11887.jpg',\n",
       " 'C:\\\\Users\\\\taij\\\\Documents\\\\Calvin\\\\MyProjects\\\\datasets\\\\EmotionDataset\\\\Angry\\\\11898.jpg',\n",
       " 'C:\\\\Users\\\\taij\\\\Documents\\\\Calvin\\\\MyProjects\\\\datasets\\\\EmotionDataset\\\\Angry\\\\11905.jpg',\n",
       " 'C:\\\\Users\\\\taij\\\\Documents\\\\Calvin\\\\MyProjects\\\\datasets\\\\EmotionDataset\\\\Angry\\\\11918.jpg',\n",
       " 'C:\\\\Users\\\\taij\\\\Documents\\\\Calvin\\\\MyProjects\\\\datasets\\\\EmotionDataset\\\\Angry\\\\1192.jpg',\n",
       " 'C:\\\\Users\\\\taij\\\\Documents\\\\Calvin\\\\MyProjects\\\\datasets\\\\EmotionDataset\\\\Angry\\\\11922.jpg',\n",
       " 'C:\\\\Users\\\\taij\\\\Documents\\\\Calvin\\\\MyProjects\\\\datasets\\\\EmotionDataset\\\\Angry\\\\11929.jpg',\n",
       " 'C:\\\\Users\\\\taij\\\\Documents\\\\Calvin\\\\MyProjects\\\\datasets\\\\EmotionDataset\\\\Angry\\\\1194.jpg',\n",
       " 'C:\\\\Users\\\\taij\\\\Documents\\\\Calvin\\\\MyProjects\\\\datasets\\\\EmotionDataset\\\\Angry\\\\11949.jpg',\n",
       " 'C:\\\\Users\\\\taij\\\\Documents\\\\Calvin\\\\MyProjects\\\\datasets\\\\EmotionDataset\\\\Angry\\\\11959.jpg',\n",
       " 'C:\\\\Users\\\\taij\\\\Documents\\\\Calvin\\\\MyProjects\\\\datasets\\\\EmotionDataset\\\\Angry\\\\11964.jpg',\n",
       " 'C:\\\\Users\\\\taij\\\\Documents\\\\Calvin\\\\MyProjects\\\\datasets\\\\EmotionDataset\\\\Angry\\\\11965.jpg',\n",
       " 'C:\\\\Users\\\\taij\\\\Documents\\\\Calvin\\\\MyProjects\\\\datasets\\\\EmotionDataset\\\\Angry\\\\11986.jpg',\n",
       " 'C:\\\\Users\\\\taij\\\\Documents\\\\Calvin\\\\MyProjects\\\\datasets\\\\EmotionDataset\\\\Angry\\\\120.jpg',\n",
       " 'C:\\\\Users\\\\taij\\\\Documents\\\\Calvin\\\\MyProjects\\\\datasets\\\\EmotionDataset\\\\Angry\\\\1200.jpg',\n",
       " 'C:\\\\Users\\\\taij\\\\Documents\\\\Calvin\\\\MyProjects\\\\datasets\\\\EmotionDataset\\\\Angry\\\\12016.jpg',\n",
       " 'C:\\\\Users\\\\taij\\\\Documents\\\\Calvin\\\\MyProjects\\\\datasets\\\\EmotionDataset\\\\Angry\\\\12022.jpg',\n",
       " 'C:\\\\Users\\\\taij\\\\Documents\\\\Calvin\\\\MyProjects\\\\datasets\\\\EmotionDataset\\\\Angry\\\\12025.jpg',\n",
       " 'C:\\\\Users\\\\taij\\\\Documents\\\\Calvin\\\\MyProjects\\\\datasets\\\\EmotionDataset\\\\Angry\\\\12027.jpg',\n",
       " 'C:\\\\Users\\\\taij\\\\Documents\\\\Calvin\\\\MyProjects\\\\datasets\\\\EmotionDataset\\\\Angry\\\\12034.jpg',\n",
       " 'C:\\\\Users\\\\taij\\\\Documents\\\\Calvin\\\\MyProjects\\\\datasets\\\\EmotionDataset\\\\Angry\\\\1204.jpg',\n",
       " 'C:\\\\Users\\\\taij\\\\Documents\\\\Calvin\\\\MyProjects\\\\datasets\\\\EmotionDataset\\\\Angry\\\\12048.jpg',\n",
       " 'C:\\\\Users\\\\taij\\\\Documents\\\\Calvin\\\\MyProjects\\\\datasets\\\\EmotionDataset\\\\Angry\\\\12049.jpg',\n",
       " 'C:\\\\Users\\\\taij\\\\Documents\\\\Calvin\\\\MyProjects\\\\datasets\\\\EmotionDataset\\\\Angry\\\\12055.jpg',\n",
       " 'C:\\\\Users\\\\taij\\\\Documents\\\\Calvin\\\\MyProjects\\\\datasets\\\\EmotionDataset\\\\Angry\\\\12075.jpg',\n",
       " 'C:\\\\Users\\\\taij\\\\Documents\\\\Calvin\\\\MyProjects\\\\datasets\\\\EmotionDataset\\\\Angry\\\\1210.jpg',\n",
       " 'C:\\\\Users\\\\taij\\\\Documents\\\\Calvin\\\\MyProjects\\\\datasets\\\\EmotionDataset\\\\Angry\\\\1211.jpg',\n",
       " 'C:\\\\Users\\\\taij\\\\Documents\\\\Calvin\\\\MyProjects\\\\datasets\\\\EmotionDataset\\\\Angry\\\\12110.jpg',\n",
       " 'C:\\\\Users\\\\taij\\\\Documents\\\\Calvin\\\\MyProjects\\\\datasets\\\\EmotionDataset\\\\Angry\\\\12118.jpg',\n",
       " 'C:\\\\Users\\\\taij\\\\Documents\\\\Calvin\\\\MyProjects\\\\datasets\\\\EmotionDataset\\\\Angry\\\\12124.jpg',\n",
       " 'C:\\\\Users\\\\taij\\\\Documents\\\\Calvin\\\\MyProjects\\\\datasets\\\\EmotionDataset\\\\Angry\\\\1213.jpg',\n",
       " 'C:\\\\Users\\\\taij\\\\Documents\\\\Calvin\\\\MyProjects\\\\datasets\\\\EmotionDataset\\\\Angry\\\\12133.jpg',\n",
       " 'C:\\\\Users\\\\taij\\\\Documents\\\\Calvin\\\\MyProjects\\\\datasets\\\\EmotionDataset\\\\Angry\\\\12136.jpg',\n",
       " 'C:\\\\Users\\\\taij\\\\Documents\\\\Calvin\\\\MyProjects\\\\datasets\\\\EmotionDataset\\\\Angry\\\\12142.jpg',\n",
       " 'C:\\\\Users\\\\taij\\\\Documents\\\\Calvin\\\\MyProjects\\\\datasets\\\\EmotionDataset\\\\Angry\\\\12144.jpg',\n",
       " 'C:\\\\Users\\\\taij\\\\Documents\\\\Calvin\\\\MyProjects\\\\datasets\\\\EmotionDataset\\\\Angry\\\\12146.jpg',\n",
       " 'C:\\\\Users\\\\taij\\\\Documents\\\\Calvin\\\\MyProjects\\\\datasets\\\\EmotionDataset\\\\Angry\\\\1215.jpg',\n",
       " 'C:\\\\Users\\\\taij\\\\Documents\\\\Calvin\\\\MyProjects\\\\datasets\\\\EmotionDataset\\\\Angry\\\\12155.jpg',\n",
       " 'C:\\\\Users\\\\taij\\\\Documents\\\\Calvin\\\\MyProjects\\\\datasets\\\\EmotionDataset\\\\Angry\\\\1216.jpg',\n",
       " 'C:\\\\Users\\\\taij\\\\Documents\\\\Calvin\\\\MyProjects\\\\datasets\\\\EmotionDataset\\\\Angry\\\\12171.jpg',\n",
       " 'C:\\\\Users\\\\taij\\\\Documents\\\\Calvin\\\\MyProjects\\\\datasets\\\\EmotionDataset\\\\Angry\\\\12181.jpg',\n",
       " 'C:\\\\Users\\\\taij\\\\Documents\\\\Calvin\\\\MyProjects\\\\datasets\\\\EmotionDataset\\\\Angry\\\\12183.jpg',\n",
       " 'C:\\\\Users\\\\taij\\\\Documents\\\\Calvin\\\\MyProjects\\\\datasets\\\\EmotionDataset\\\\Angry\\\\12196.jpg',\n",
       " 'C:\\\\Users\\\\taij\\\\Documents\\\\Calvin\\\\MyProjects\\\\datasets\\\\EmotionDataset\\\\Angry\\\\12198.jpg',\n",
       " 'C:\\\\Users\\\\taij\\\\Documents\\\\Calvin\\\\MyProjects\\\\datasets\\\\EmotionDataset\\\\Angry\\\\122.jpg',\n",
       " 'C:\\\\Users\\\\taij\\\\Documents\\\\Calvin\\\\MyProjects\\\\datasets\\\\EmotionDataset\\\\Angry\\\\12203.jpg',\n",
       " 'C:\\\\Users\\\\taij\\\\Documents\\\\Calvin\\\\MyProjects\\\\datasets\\\\EmotionDataset\\\\Angry\\\\12206.jpg',\n",
       " 'C:\\\\Users\\\\taij\\\\Documents\\\\Calvin\\\\MyProjects\\\\datasets\\\\EmotionDataset\\\\Angry\\\\1221.jpg',\n",
       " 'C:\\\\Users\\\\taij\\\\Documents\\\\Calvin\\\\MyProjects\\\\datasets\\\\EmotionDataset\\\\Angry\\\\12211.jpg',\n",
       " 'C:\\\\Users\\\\taij\\\\Documents\\\\Calvin\\\\MyProjects\\\\datasets\\\\EmotionDataset\\\\Angry\\\\12213.jpg',\n",
       " 'C:\\\\Users\\\\taij\\\\Documents\\\\Calvin\\\\MyProjects\\\\datasets\\\\EmotionDataset\\\\Angry\\\\12218.jpg',\n",
       " 'C:\\\\Users\\\\taij\\\\Documents\\\\Calvin\\\\MyProjects\\\\datasets\\\\EmotionDataset\\\\Angry\\\\12222.jpg',\n",
       " 'C:\\\\Users\\\\taij\\\\Documents\\\\Calvin\\\\MyProjects\\\\datasets\\\\EmotionDataset\\\\Angry\\\\12230.jpg',\n",
       " 'C:\\\\Users\\\\taij\\\\Documents\\\\Calvin\\\\MyProjects\\\\datasets\\\\EmotionDataset\\\\Angry\\\\12231.jpg',\n",
       " 'C:\\\\Users\\\\taij\\\\Documents\\\\Calvin\\\\MyProjects\\\\datasets\\\\EmotionDataset\\\\Angry\\\\12235.jpg',\n",
       " 'C:\\\\Users\\\\taij\\\\Documents\\\\Calvin\\\\MyProjects\\\\datasets\\\\EmotionDataset\\\\Angry\\\\12237.jpg',\n",
       " 'C:\\\\Users\\\\taij\\\\Documents\\\\Calvin\\\\MyProjects\\\\datasets\\\\EmotionDataset\\\\Angry\\\\12249.jpg',\n",
       " 'C:\\\\Users\\\\taij\\\\Documents\\\\Calvin\\\\MyProjects\\\\datasets\\\\EmotionDataset\\\\Angry\\\\1225.jpg',\n",
       " 'C:\\\\Users\\\\taij\\\\Documents\\\\Calvin\\\\MyProjects\\\\datasets\\\\EmotionDataset\\\\Angry\\\\12254.jpg',\n",
       " 'C:\\\\Users\\\\taij\\\\Documents\\\\Calvin\\\\MyProjects\\\\datasets\\\\EmotionDataset\\\\Angry\\\\1226.jpg',\n",
       " 'C:\\\\Users\\\\taij\\\\Documents\\\\Calvin\\\\MyProjects\\\\datasets\\\\EmotionDataset\\\\Angry\\\\12262.jpg',\n",
       " 'C:\\\\Users\\\\taij\\\\Documents\\\\Calvin\\\\MyProjects\\\\datasets\\\\EmotionDataset\\\\Angry\\\\12270.jpg',\n",
       " 'C:\\\\Users\\\\taij\\\\Documents\\\\Calvin\\\\MyProjects\\\\datasets\\\\EmotionDataset\\\\Angry\\\\12275.jpg',\n",
       " 'C:\\\\Users\\\\taij\\\\Documents\\\\Calvin\\\\MyProjects\\\\datasets\\\\EmotionDataset\\\\Angry\\\\12283.jpg',\n",
       " 'C:\\\\Users\\\\taij\\\\Documents\\\\Calvin\\\\MyProjects\\\\datasets\\\\EmotionDataset\\\\Angry\\\\12294.jpg',\n",
       " 'C:\\\\Users\\\\taij\\\\Documents\\\\Calvin\\\\MyProjects\\\\datasets\\\\EmotionDataset\\\\Angry\\\\12298.jpg',\n",
       " 'C:\\\\Users\\\\taij\\\\Documents\\\\Calvin\\\\MyProjects\\\\datasets\\\\EmotionDataset\\\\Angry\\\\123.jpg',\n",
       " 'C:\\\\Users\\\\taij\\\\Documents\\\\Calvin\\\\MyProjects\\\\datasets\\\\EmotionDataset\\\\Angry\\\\12304.jpg',\n",
       " 'C:\\\\Users\\\\taij\\\\Documents\\\\Calvin\\\\MyProjects\\\\datasets\\\\EmotionDataset\\\\Angry\\\\12307.jpg',\n",
       " 'C:\\\\Users\\\\taij\\\\Documents\\\\Calvin\\\\MyProjects\\\\datasets\\\\EmotionDataset\\\\Angry\\\\12310.jpg',\n",
       " 'C:\\\\Users\\\\taij\\\\Documents\\\\Calvin\\\\MyProjects\\\\datasets\\\\EmotionDataset\\\\Angry\\\\12314.jpg',\n",
       " 'C:\\\\Users\\\\taij\\\\Documents\\\\Calvin\\\\MyProjects\\\\datasets\\\\EmotionDataset\\\\Angry\\\\12316.jpg',\n",
       " 'C:\\\\Users\\\\taij\\\\Documents\\\\Calvin\\\\MyProjects\\\\datasets\\\\EmotionDataset\\\\Angry\\\\12328.jpg',\n",
       " 'C:\\\\Users\\\\taij\\\\Documents\\\\Calvin\\\\MyProjects\\\\datasets\\\\EmotionDataset\\\\Angry\\\\1233.jpg',\n",
       " 'C:\\\\Users\\\\taij\\\\Documents\\\\Calvin\\\\MyProjects\\\\datasets\\\\EmotionDataset\\\\Angry\\\\1235.jpg',\n",
       " 'C:\\\\Users\\\\taij\\\\Documents\\\\Calvin\\\\MyProjects\\\\datasets\\\\EmotionDataset\\\\Angry\\\\12352.jpg',\n",
       " 'C:\\\\Users\\\\taij\\\\Documents\\\\Calvin\\\\MyProjects\\\\datasets\\\\EmotionDataset\\\\Angry\\\\12365.jpg',\n",
       " 'C:\\\\Users\\\\taij\\\\Documents\\\\Calvin\\\\MyProjects\\\\datasets\\\\EmotionDataset\\\\Angry\\\\12367.jpg',\n",
       " 'C:\\\\Users\\\\taij\\\\Documents\\\\Calvin\\\\MyProjects\\\\datasets\\\\EmotionDataset\\\\Angry\\\\12375.jpg',\n",
       " 'C:\\\\Users\\\\taij\\\\Documents\\\\Calvin\\\\MyProjects\\\\datasets\\\\EmotionDataset\\\\Angry\\\\12392.jpg',\n",
       " 'C:\\\\Users\\\\taij\\\\Documents\\\\Calvin\\\\MyProjects\\\\datasets\\\\EmotionDataset\\\\Angry\\\\12400.jpg',\n",
       " 'C:\\\\Users\\\\taij\\\\Documents\\\\Calvin\\\\MyProjects\\\\datasets\\\\EmotionDataset\\\\Angry\\\\12404.jpg',\n",
       " 'C:\\\\Users\\\\taij\\\\Documents\\\\Calvin\\\\MyProjects\\\\datasets\\\\EmotionDataset\\\\Angry\\\\12419.jpg',\n",
       " 'C:\\\\Users\\\\taij\\\\Documents\\\\Calvin\\\\MyProjects\\\\datasets\\\\EmotionDataset\\\\Angry\\\\1242.jpg',\n",
       " 'C:\\\\Users\\\\taij\\\\Documents\\\\Calvin\\\\MyProjects\\\\datasets\\\\EmotionDataset\\\\Angry\\\\12421.jpg',\n",
       " 'C:\\\\Users\\\\taij\\\\Documents\\\\Calvin\\\\MyProjects\\\\datasets\\\\EmotionDataset\\\\Angry\\\\12432.jpg',\n",
       " 'C:\\\\Users\\\\taij\\\\Documents\\\\Calvin\\\\MyProjects\\\\datasets\\\\EmotionDataset\\\\Angry\\\\12443.jpg',\n",
       " 'C:\\\\Users\\\\taij\\\\Documents\\\\Calvin\\\\MyProjects\\\\datasets\\\\EmotionDataset\\\\Angry\\\\12450.jpg',\n",
       " 'C:\\\\Users\\\\taij\\\\Documents\\\\Calvin\\\\MyProjects\\\\datasets\\\\EmotionDataset\\\\Angry\\\\12451.jpg',\n",
       " 'C:\\\\Users\\\\taij\\\\Documents\\\\Calvin\\\\MyProjects\\\\datasets\\\\EmotionDataset\\\\Angry\\\\12456.jpg',\n",
       " 'C:\\\\Users\\\\taij\\\\Documents\\\\Calvin\\\\MyProjects\\\\datasets\\\\EmotionDataset\\\\Angry\\\\12459.jpg',\n",
       " 'C:\\\\Users\\\\taij\\\\Documents\\\\Calvin\\\\MyProjects\\\\datasets\\\\EmotionDataset\\\\Angry\\\\12469.jpg',\n",
       " 'C:\\\\Users\\\\taij\\\\Documents\\\\Calvin\\\\MyProjects\\\\datasets\\\\EmotionDataset\\\\Angry\\\\12474.jpg',\n",
       " 'C:\\\\Users\\\\taij\\\\Documents\\\\Calvin\\\\MyProjects\\\\datasets\\\\EmotionDataset\\\\Angry\\\\12475.jpg',\n",
       " 'C:\\\\Users\\\\taij\\\\Documents\\\\Calvin\\\\MyProjects\\\\datasets\\\\EmotionDataset\\\\Angry\\\\12476.jpg',\n",
       " 'C:\\\\Users\\\\taij\\\\Documents\\\\Calvin\\\\MyProjects\\\\datasets\\\\EmotionDataset\\\\Angry\\\\12483.jpg',\n",
       " 'C:\\\\Users\\\\taij\\\\Documents\\\\Calvin\\\\MyProjects\\\\datasets\\\\EmotionDataset\\\\Angry\\\\12489.jpg',\n",
       " 'C:\\\\Users\\\\taij\\\\Documents\\\\Calvin\\\\MyProjects\\\\datasets\\\\EmotionDataset\\\\Angry\\\\12494.jpg',\n",
       " 'C:\\\\Users\\\\taij\\\\Documents\\\\Calvin\\\\MyProjects\\\\datasets\\\\EmotionDataset\\\\Angry\\\\1250.jpg',\n",
       " 'C:\\\\Users\\\\taij\\\\Documents\\\\Calvin\\\\MyProjects\\\\datasets\\\\EmotionDataset\\\\Angry\\\\12503.jpg',\n",
       " 'C:\\\\Users\\\\taij\\\\Documents\\\\Calvin\\\\MyProjects\\\\datasets\\\\EmotionDataset\\\\Angry\\\\12511.jpg',\n",
       " 'C:\\\\Users\\\\taij\\\\Documents\\\\Calvin\\\\MyProjects\\\\datasets\\\\EmotionDataset\\\\Angry\\\\1252.jpg',\n",
       " 'C:\\\\Users\\\\taij\\\\Documents\\\\Calvin\\\\MyProjects\\\\datasets\\\\EmotionDataset\\\\Angry\\\\12525.jpg',\n",
       " 'C:\\\\Users\\\\taij\\\\Documents\\\\Calvin\\\\MyProjects\\\\datasets\\\\EmotionDataset\\\\Angry\\\\12532.jpg',\n",
       " 'C:\\\\Users\\\\taij\\\\Documents\\\\Calvin\\\\MyProjects\\\\datasets\\\\EmotionDataset\\\\Angry\\\\12540.jpg',\n",
       " 'C:\\\\Users\\\\taij\\\\Documents\\\\Calvin\\\\MyProjects\\\\datasets\\\\EmotionDataset\\\\Angry\\\\12543.jpg',\n",
       " 'C:\\\\Users\\\\taij\\\\Documents\\\\Calvin\\\\MyProjects\\\\datasets\\\\EmotionDataset\\\\Angry\\\\1255.jpg',\n",
       " 'C:\\\\Users\\\\taij\\\\Documents\\\\Calvin\\\\MyProjects\\\\datasets\\\\EmotionDataset\\\\Angry\\\\12552.jpg',\n",
       " 'C:\\\\Users\\\\taij\\\\Documents\\\\Calvin\\\\MyProjects\\\\datasets\\\\EmotionDataset\\\\Angry\\\\12584.jpg',\n",
       " 'C:\\\\Users\\\\taij\\\\Documents\\\\Calvin\\\\MyProjects\\\\datasets\\\\EmotionDataset\\\\Angry\\\\12585.jpg',\n",
       " 'C:\\\\Users\\\\taij\\\\Documents\\\\Calvin\\\\MyProjects\\\\datasets\\\\EmotionDataset\\\\Angry\\\\12595.jpg',\n",
       " 'C:\\\\Users\\\\taij\\\\Documents\\\\Calvin\\\\MyProjects\\\\datasets\\\\EmotionDataset\\\\Angry\\\\126.jpg',\n",
       " 'C:\\\\Users\\\\taij\\\\Documents\\\\Calvin\\\\MyProjects\\\\datasets\\\\EmotionDataset\\\\Angry\\\\12613.jpg',\n",
       " 'C:\\\\Users\\\\taij\\\\Documents\\\\Calvin\\\\MyProjects\\\\datasets\\\\EmotionDataset\\\\Angry\\\\12616.jpg',\n",
       " 'C:\\\\Users\\\\taij\\\\Documents\\\\Calvin\\\\MyProjects\\\\datasets\\\\EmotionDataset\\\\Angry\\\\12622.jpg',\n",
       " 'C:\\\\Users\\\\taij\\\\Documents\\\\Calvin\\\\MyProjects\\\\datasets\\\\EmotionDataset\\\\Angry\\\\12633.jpg',\n",
       " 'C:\\\\Users\\\\taij\\\\Documents\\\\Calvin\\\\MyProjects\\\\datasets\\\\EmotionDataset\\\\Angry\\\\12635.jpg',\n",
       " 'C:\\\\Users\\\\taij\\\\Documents\\\\Calvin\\\\MyProjects\\\\datasets\\\\EmotionDataset\\\\Angry\\\\12644.jpg',\n",
       " 'C:\\\\Users\\\\taij\\\\Documents\\\\Calvin\\\\MyProjects\\\\datasets\\\\EmotionDataset\\\\Angry\\\\12645.jpg',\n",
       " 'C:\\\\Users\\\\taij\\\\Documents\\\\Calvin\\\\MyProjects\\\\datasets\\\\EmotionDataset\\\\Angry\\\\12666.jpg',\n",
       " 'C:\\\\Users\\\\taij\\\\Documents\\\\Calvin\\\\MyProjects\\\\datasets\\\\EmotionDataset\\\\Angry\\\\12667.jpg',\n",
       " 'C:\\\\Users\\\\taij\\\\Documents\\\\Calvin\\\\MyProjects\\\\datasets\\\\EmotionDataset\\\\Angry\\\\12669.jpg',\n",
       " 'C:\\\\Users\\\\taij\\\\Documents\\\\Calvin\\\\MyProjects\\\\datasets\\\\EmotionDataset\\\\Angry\\\\1267.jpg',\n",
       " 'C:\\\\Users\\\\taij\\\\Documents\\\\Calvin\\\\MyProjects\\\\datasets\\\\EmotionDataset\\\\Angry\\\\12675.jpg',\n",
       " 'C:\\\\Users\\\\taij\\\\Documents\\\\Calvin\\\\MyProjects\\\\datasets\\\\EmotionDataset\\\\Angry\\\\12679.jpg',\n",
       " 'C:\\\\Users\\\\taij\\\\Documents\\\\Calvin\\\\MyProjects\\\\datasets\\\\EmotionDataset\\\\Angry\\\\1268.jpg',\n",
       " 'C:\\\\Users\\\\taij\\\\Documents\\\\Calvin\\\\MyProjects\\\\datasets\\\\EmotionDataset\\\\Angry\\\\12680.jpg',\n",
       " 'C:\\\\Users\\\\taij\\\\Documents\\\\Calvin\\\\MyProjects\\\\datasets\\\\EmotionDataset\\\\Angry\\\\12681.jpg',\n",
       " 'C:\\\\Users\\\\taij\\\\Documents\\\\Calvin\\\\MyProjects\\\\datasets\\\\EmotionDataset\\\\Angry\\\\12688.jpg',\n",
       " 'C:\\\\Users\\\\taij\\\\Documents\\\\Calvin\\\\MyProjects\\\\datasets\\\\EmotionDataset\\\\Angry\\\\12693.jpg',\n",
       " 'C:\\\\Users\\\\taij\\\\Documents\\\\Calvin\\\\MyProjects\\\\datasets\\\\EmotionDataset\\\\Angry\\\\12695.jpg',\n",
       " 'C:\\\\Users\\\\taij\\\\Documents\\\\Calvin\\\\MyProjects\\\\datasets\\\\EmotionDataset\\\\Angry\\\\12710.jpg',\n",
       " 'C:\\\\Users\\\\taij\\\\Documents\\\\Calvin\\\\MyProjects\\\\datasets\\\\EmotionDataset\\\\Angry\\\\12733.jpg',\n",
       " 'C:\\\\Users\\\\taij\\\\Documents\\\\Calvin\\\\MyProjects\\\\datasets\\\\EmotionDataset\\\\Angry\\\\12735.jpg',\n",
       " 'C:\\\\Users\\\\taij\\\\Documents\\\\Calvin\\\\MyProjects\\\\datasets\\\\EmotionDataset\\\\Angry\\\\12746.jpg',\n",
       " 'C:\\\\Users\\\\taij\\\\Documents\\\\Calvin\\\\MyProjects\\\\datasets\\\\EmotionDataset\\\\Angry\\\\12747.jpg',\n",
       " 'C:\\\\Users\\\\taij\\\\Documents\\\\Calvin\\\\MyProjects\\\\datasets\\\\EmotionDataset\\\\Angry\\\\12751.jpg',\n",
       " 'C:\\\\Users\\\\taij\\\\Documents\\\\Calvin\\\\MyProjects\\\\datasets\\\\EmotionDataset\\\\Angry\\\\12752.jpg',\n",
       " 'C:\\\\Users\\\\taij\\\\Documents\\\\Calvin\\\\MyProjects\\\\datasets\\\\EmotionDataset\\\\Angry\\\\12769.jpg',\n",
       " 'C:\\\\Users\\\\taij\\\\Documents\\\\Calvin\\\\MyProjects\\\\datasets\\\\EmotionDataset\\\\Angry\\\\12770.jpg',\n",
       " 'C:\\\\Users\\\\taij\\\\Documents\\\\Calvin\\\\MyProjects\\\\datasets\\\\EmotionDataset\\\\Angry\\\\12778.jpg',\n",
       " 'C:\\\\Users\\\\taij\\\\Documents\\\\Calvin\\\\MyProjects\\\\datasets\\\\EmotionDataset\\\\Angry\\\\12783.jpg',\n",
       " 'C:\\\\Users\\\\taij\\\\Documents\\\\Calvin\\\\MyProjects\\\\datasets\\\\EmotionDataset\\\\Angry\\\\12808.jpg',\n",
       " 'C:\\\\Users\\\\taij\\\\Documents\\\\Calvin\\\\MyProjects\\\\datasets\\\\EmotionDataset\\\\Angry\\\\12810.jpg',\n",
       " 'C:\\\\Users\\\\taij\\\\Documents\\\\Calvin\\\\MyProjects\\\\datasets\\\\EmotionDataset\\\\Angry\\\\12817.jpg',\n",
       " 'C:\\\\Users\\\\taij\\\\Documents\\\\Calvin\\\\MyProjects\\\\datasets\\\\EmotionDataset\\\\Angry\\\\12841.jpg',\n",
       " 'C:\\\\Users\\\\taij\\\\Documents\\\\Calvin\\\\MyProjects\\\\datasets\\\\EmotionDataset\\\\Angry\\\\12842.jpg',\n",
       " 'C:\\\\Users\\\\taij\\\\Documents\\\\Calvin\\\\MyProjects\\\\datasets\\\\EmotionDataset\\\\Angry\\\\12846.jpg',\n",
       " 'C:\\\\Users\\\\taij\\\\Documents\\\\Calvin\\\\MyProjects\\\\datasets\\\\EmotionDataset\\\\Angry\\\\12851.jpg',\n",
       " 'C:\\\\Users\\\\taij\\\\Documents\\\\Calvin\\\\MyProjects\\\\datasets\\\\EmotionDataset\\\\Angry\\\\12853.jpg',\n",
       " 'C:\\\\Users\\\\taij\\\\Documents\\\\Calvin\\\\MyProjects\\\\datasets\\\\EmotionDataset\\\\Angry\\\\12855.jpg',\n",
       " 'C:\\\\Users\\\\taij\\\\Documents\\\\Calvin\\\\MyProjects\\\\datasets\\\\EmotionDataset\\\\Angry\\\\12860.jpg',\n",
       " 'C:\\\\Users\\\\taij\\\\Documents\\\\Calvin\\\\MyProjects\\\\datasets\\\\EmotionDataset\\\\Angry\\\\12863.jpg',\n",
       " 'C:\\\\Users\\\\taij\\\\Documents\\\\Calvin\\\\MyProjects\\\\datasets\\\\EmotionDataset\\\\Angry\\\\12874.jpg',\n",
       " 'C:\\\\Users\\\\taij\\\\Documents\\\\Calvin\\\\MyProjects\\\\datasets\\\\EmotionDataset\\\\Angry\\\\12876.jpg',\n",
       " 'C:\\\\Users\\\\taij\\\\Documents\\\\Calvin\\\\MyProjects\\\\datasets\\\\EmotionDataset\\\\Angry\\\\12889.jpg',\n",
       " 'C:\\\\Users\\\\taij\\\\Documents\\\\Calvin\\\\MyProjects\\\\datasets\\\\EmotionDataset\\\\Angry\\\\12915.jpg',\n",
       " 'C:\\\\Users\\\\taij\\\\Documents\\\\Calvin\\\\MyProjects\\\\datasets\\\\EmotionDataset\\\\Angry\\\\12928.jpg',\n",
       " 'C:\\\\Users\\\\taij\\\\Documents\\\\Calvin\\\\MyProjects\\\\datasets\\\\EmotionDataset\\\\Angry\\\\12945.jpg',\n",
       " 'C:\\\\Users\\\\taij\\\\Documents\\\\Calvin\\\\MyProjects\\\\datasets\\\\EmotionDataset\\\\Angry\\\\12947.jpg',\n",
       " 'C:\\\\Users\\\\taij\\\\Documents\\\\Calvin\\\\MyProjects\\\\datasets\\\\EmotionDataset\\\\Angry\\\\12962.jpg',\n",
       " 'C:\\\\Users\\\\taij\\\\Documents\\\\Calvin\\\\MyProjects\\\\datasets\\\\EmotionDataset\\\\Angry\\\\12968.jpg',\n",
       " 'C:\\\\Users\\\\taij\\\\Documents\\\\Calvin\\\\MyProjects\\\\datasets\\\\EmotionDataset\\\\Angry\\\\12970.jpg',\n",
       " 'C:\\\\Users\\\\taij\\\\Documents\\\\Calvin\\\\MyProjects\\\\datasets\\\\EmotionDataset\\\\Angry\\\\12971.jpg',\n",
       " 'C:\\\\Users\\\\taij\\\\Documents\\\\Calvin\\\\MyProjects\\\\datasets\\\\EmotionDataset\\\\Angry\\\\12972.jpg',\n",
       " 'C:\\\\Users\\\\taij\\\\Documents\\\\Calvin\\\\MyProjects\\\\datasets\\\\EmotionDataset\\\\Angry\\\\12975.jpg',\n",
       " 'C:\\\\Users\\\\taij\\\\Documents\\\\Calvin\\\\MyProjects\\\\datasets\\\\EmotionDataset\\\\Angry\\\\12984.jpg',\n",
       " 'C:\\\\Users\\\\taij\\\\Documents\\\\Calvin\\\\MyProjects\\\\datasets\\\\EmotionDataset\\\\Angry\\\\12989.jpg',\n",
       " 'C:\\\\Users\\\\taij\\\\Documents\\\\Calvin\\\\MyProjects\\\\datasets\\\\EmotionDataset\\\\Angry\\\\1299.jpg',\n",
       " 'C:\\\\Users\\\\taij\\\\Documents\\\\Calvin\\\\MyProjects\\\\datasets\\\\EmotionDataset\\\\Angry\\\\13001.jpg',\n",
       " 'C:\\\\Users\\\\taij\\\\Documents\\\\Calvin\\\\MyProjects\\\\datasets\\\\EmotionDataset\\\\Angry\\\\13013.jpg',\n",
       " 'C:\\\\Users\\\\taij\\\\Documents\\\\Calvin\\\\MyProjects\\\\datasets\\\\EmotionDataset\\\\Angry\\\\13019.jpg',\n",
       " 'C:\\\\Users\\\\taij\\\\Documents\\\\Calvin\\\\MyProjects\\\\datasets\\\\EmotionDataset\\\\Angry\\\\13022.jpg',\n",
       " 'C:\\\\Users\\\\taij\\\\Documents\\\\Calvin\\\\MyProjects\\\\datasets\\\\EmotionDataset\\\\Angry\\\\13029.jpg',\n",
       " 'C:\\\\Users\\\\taij\\\\Documents\\\\Calvin\\\\MyProjects\\\\datasets\\\\EmotionDataset\\\\Angry\\\\13038.jpg',\n",
       " 'C:\\\\Users\\\\taij\\\\Documents\\\\Calvin\\\\MyProjects\\\\datasets\\\\EmotionDataset\\\\Angry\\\\13041.jpg',\n",
       " 'C:\\\\Users\\\\taij\\\\Documents\\\\Calvin\\\\MyProjects\\\\datasets\\\\EmotionDataset\\\\Angry\\\\13055.jpg',\n",
       " 'C:\\\\Users\\\\taij\\\\Documents\\\\Calvin\\\\MyProjects\\\\datasets\\\\EmotionDataset\\\\Angry\\\\13057.jpg',\n",
       " 'C:\\\\Users\\\\taij\\\\Documents\\\\Calvin\\\\MyProjects\\\\datasets\\\\EmotionDataset\\\\Angry\\\\13059.jpg',\n",
       " 'C:\\\\Users\\\\taij\\\\Documents\\\\Calvin\\\\MyProjects\\\\datasets\\\\EmotionDataset\\\\Angry\\\\13075.jpg',\n",
       " 'C:\\\\Users\\\\taij\\\\Documents\\\\Calvin\\\\MyProjects\\\\datasets\\\\EmotionDataset\\\\Angry\\\\1308.jpg',\n",
       " 'C:\\\\Users\\\\taij\\\\Documents\\\\Calvin\\\\MyProjects\\\\datasets\\\\EmotionDataset\\\\Angry\\\\13092.jpg',\n",
       " 'C:\\\\Users\\\\taij\\\\Documents\\\\Calvin\\\\MyProjects\\\\datasets\\\\EmotionDataset\\\\Angry\\\\13094.jpg',\n",
       " 'C:\\\\Users\\\\taij\\\\Documents\\\\Calvin\\\\MyProjects\\\\datasets\\\\EmotionDataset\\\\Angry\\\\13095.jpg',\n",
       " 'C:\\\\Users\\\\taij\\\\Documents\\\\Calvin\\\\MyProjects\\\\datasets\\\\EmotionDataset\\\\Angry\\\\1311.jpg',\n",
       " 'C:\\\\Users\\\\taij\\\\Documents\\\\Calvin\\\\MyProjects\\\\datasets\\\\EmotionDataset\\\\Angry\\\\13118.jpg',\n",
       " 'C:\\\\Users\\\\taij\\\\Documents\\\\Calvin\\\\MyProjects\\\\datasets\\\\EmotionDataset\\\\Angry\\\\13125.jpg',\n",
       " 'C:\\\\Users\\\\taij\\\\Documents\\\\Calvin\\\\MyProjects\\\\datasets\\\\EmotionDataset\\\\Angry\\\\13128.jpg',\n",
       " 'C:\\\\Users\\\\taij\\\\Documents\\\\Calvin\\\\MyProjects\\\\datasets\\\\EmotionDataset\\\\Angry\\\\13134.jpg',\n",
       " 'C:\\\\Users\\\\taij\\\\Documents\\\\Calvin\\\\MyProjects\\\\datasets\\\\EmotionDataset\\\\Angry\\\\13141.jpg',\n",
       " 'C:\\\\Users\\\\taij\\\\Documents\\\\Calvin\\\\MyProjects\\\\datasets\\\\EmotionDataset\\\\Angry\\\\13148.jpg',\n",
       " 'C:\\\\Users\\\\taij\\\\Documents\\\\Calvin\\\\MyProjects\\\\datasets\\\\EmotionDataset\\\\Angry\\\\13149.jpg',\n",
       " 'C:\\\\Users\\\\taij\\\\Documents\\\\Calvin\\\\MyProjects\\\\datasets\\\\EmotionDataset\\\\Angry\\\\13159.jpg',\n",
       " 'C:\\\\Users\\\\taij\\\\Documents\\\\Calvin\\\\MyProjects\\\\datasets\\\\EmotionDataset\\\\Angry\\\\13167.jpg',\n",
       " 'C:\\\\Users\\\\taij\\\\Documents\\\\Calvin\\\\MyProjects\\\\datasets\\\\EmotionDataset\\\\Angry\\\\1317.jpg',\n",
       " 'C:\\\\Users\\\\taij\\\\Documents\\\\Calvin\\\\MyProjects\\\\datasets\\\\EmotionDataset\\\\Angry\\\\13182.jpg',\n",
       " 'C:\\\\Users\\\\taij\\\\Documents\\\\Calvin\\\\MyProjects\\\\datasets\\\\EmotionDataset\\\\Angry\\\\13190.jpg',\n",
       " 'C:\\\\Users\\\\taij\\\\Documents\\\\Calvin\\\\MyProjects\\\\datasets\\\\EmotionDataset\\\\Angry\\\\13201.jpg',\n",
       " 'C:\\\\Users\\\\taij\\\\Documents\\\\Calvin\\\\MyProjects\\\\datasets\\\\EmotionDataset\\\\Angry\\\\13207.jpg',\n",
       " 'C:\\\\Users\\\\taij\\\\Documents\\\\Calvin\\\\MyProjects\\\\datasets\\\\EmotionDataset\\\\Angry\\\\13208.jpg',\n",
       " 'C:\\\\Users\\\\taij\\\\Documents\\\\Calvin\\\\MyProjects\\\\datasets\\\\EmotionDataset\\\\Angry\\\\13210.jpg',\n",
       " 'C:\\\\Users\\\\taij\\\\Documents\\\\Calvin\\\\MyProjects\\\\datasets\\\\EmotionDataset\\\\Angry\\\\13216.jpg',\n",
       " 'C:\\\\Users\\\\taij\\\\Documents\\\\Calvin\\\\MyProjects\\\\datasets\\\\EmotionDataset\\\\Angry\\\\13220.jpg',\n",
       " 'C:\\\\Users\\\\taij\\\\Documents\\\\Calvin\\\\MyProjects\\\\datasets\\\\EmotionDataset\\\\Angry\\\\13223.jpg',\n",
       " 'C:\\\\Users\\\\taij\\\\Documents\\\\Calvin\\\\MyProjects\\\\datasets\\\\EmotionDataset\\\\Angry\\\\13224.jpg',\n",
       " 'C:\\\\Users\\\\taij\\\\Documents\\\\Calvin\\\\MyProjects\\\\datasets\\\\EmotionDataset\\\\Angry\\\\13238.jpg',\n",
       " 'C:\\\\Users\\\\taij\\\\Documents\\\\Calvin\\\\MyProjects\\\\datasets\\\\EmotionDataset\\\\Angry\\\\13239.jpg',\n",
       " 'C:\\\\Users\\\\taij\\\\Documents\\\\Calvin\\\\MyProjects\\\\datasets\\\\EmotionDataset\\\\Angry\\\\13256.jpg',\n",
       " 'C:\\\\Users\\\\taij\\\\Documents\\\\Calvin\\\\MyProjects\\\\datasets\\\\EmotionDataset\\\\Angry\\\\13267.jpg',\n",
       " 'C:\\\\Users\\\\taij\\\\Documents\\\\Calvin\\\\MyProjects\\\\datasets\\\\EmotionDataset\\\\Angry\\\\13279.jpg',\n",
       " 'C:\\\\Users\\\\taij\\\\Documents\\\\Calvin\\\\MyProjects\\\\datasets\\\\EmotionDataset\\\\Angry\\\\13297.jpg',\n",
       " 'C:\\\\Users\\\\taij\\\\Documents\\\\Calvin\\\\MyProjects\\\\datasets\\\\EmotionDataset\\\\Angry\\\\13324.jpg',\n",
       " 'C:\\\\Users\\\\taij\\\\Documents\\\\Calvin\\\\MyProjects\\\\datasets\\\\EmotionDataset\\\\Angry\\\\13334.jpg',\n",
       " 'C:\\\\Users\\\\taij\\\\Documents\\\\Calvin\\\\MyProjects\\\\datasets\\\\EmotionDataset\\\\Angry\\\\13345.jpg',\n",
       " 'C:\\\\Users\\\\taij\\\\Documents\\\\Calvin\\\\MyProjects\\\\datasets\\\\EmotionDataset\\\\Angry\\\\13351.jpg',\n",
       " 'C:\\\\Users\\\\taij\\\\Documents\\\\Calvin\\\\MyProjects\\\\datasets\\\\EmotionDataset\\\\Angry\\\\13352.jpg',\n",
       " 'C:\\\\Users\\\\taij\\\\Documents\\\\Calvin\\\\MyProjects\\\\datasets\\\\EmotionDataset\\\\Angry\\\\13355.jpg',\n",
       " 'C:\\\\Users\\\\taij\\\\Documents\\\\Calvin\\\\MyProjects\\\\datasets\\\\EmotionDataset\\\\Angry\\\\13376.jpg',\n",
       " 'C:\\\\Users\\\\taij\\\\Documents\\\\Calvin\\\\MyProjects\\\\datasets\\\\EmotionDataset\\\\Angry\\\\1338.jpg',\n",
       " 'C:\\\\Users\\\\taij\\\\Documents\\\\Calvin\\\\MyProjects\\\\datasets\\\\EmotionDataset\\\\Angry\\\\13386.jpg',\n",
       " 'C:\\\\Users\\\\taij\\\\Documents\\\\Calvin\\\\MyProjects\\\\datasets\\\\EmotionDataset\\\\Angry\\\\13391.jpg',\n",
       " 'C:\\\\Users\\\\taij\\\\Documents\\\\Calvin\\\\MyProjects\\\\datasets\\\\EmotionDataset\\\\Angry\\\\13395.jpg',\n",
       " 'C:\\\\Users\\\\taij\\\\Documents\\\\Calvin\\\\MyProjects\\\\datasets\\\\EmotionDataset\\\\Angry\\\\13399.jpg',\n",
       " 'C:\\\\Users\\\\taij\\\\Documents\\\\Calvin\\\\MyProjects\\\\datasets\\\\EmotionDataset\\\\Angry\\\\134.jpg',\n",
       " 'C:\\\\Users\\\\taij\\\\Documents\\\\Calvin\\\\MyProjects\\\\datasets\\\\EmotionDataset\\\\Angry\\\\1340.jpg',\n",
       " 'C:\\\\Users\\\\taij\\\\Documents\\\\Calvin\\\\MyProjects\\\\datasets\\\\EmotionDataset\\\\Angry\\\\13402.jpg',\n",
       " 'C:\\\\Users\\\\taij\\\\Documents\\\\Calvin\\\\MyProjects\\\\datasets\\\\EmotionDataset\\\\Angry\\\\13403.jpg',\n",
       " 'C:\\\\Users\\\\taij\\\\Documents\\\\Calvin\\\\MyProjects\\\\datasets\\\\EmotionDataset\\\\Angry\\\\13408.jpg',\n",
       " 'C:\\\\Users\\\\taij\\\\Documents\\\\Calvin\\\\MyProjects\\\\datasets\\\\EmotionDataset\\\\Angry\\\\13415.jpg',\n",
       " 'C:\\\\Users\\\\taij\\\\Documents\\\\Calvin\\\\MyProjects\\\\datasets\\\\EmotionDataset\\\\Angry\\\\13416.jpg',\n",
       " 'C:\\\\Users\\\\taij\\\\Documents\\\\Calvin\\\\MyProjects\\\\datasets\\\\EmotionDataset\\\\Angry\\\\13418.jpg',\n",
       " 'C:\\\\Users\\\\taij\\\\Documents\\\\Calvin\\\\MyProjects\\\\datasets\\\\EmotionDataset\\\\Angry\\\\13425.jpg',\n",
       " 'C:\\\\Users\\\\taij\\\\Documents\\\\Calvin\\\\MyProjects\\\\datasets\\\\EmotionDataset\\\\Angry\\\\13431.jpg',\n",
       " 'C:\\\\Users\\\\taij\\\\Documents\\\\Calvin\\\\MyProjects\\\\datasets\\\\EmotionDataset\\\\Angry\\\\13437.jpg',\n",
       " 'C:\\\\Users\\\\taij\\\\Documents\\\\Calvin\\\\MyProjects\\\\datasets\\\\EmotionDataset\\\\Angry\\\\13442.jpg',\n",
       " 'C:\\\\Users\\\\taij\\\\Documents\\\\Calvin\\\\MyProjects\\\\datasets\\\\EmotionDataset\\\\Angry\\\\13451.jpg',\n",
       " 'C:\\\\Users\\\\taij\\\\Documents\\\\Calvin\\\\MyProjects\\\\datasets\\\\EmotionDataset\\\\Angry\\\\13452.jpg',\n",
       " 'C:\\\\Users\\\\taij\\\\Documents\\\\Calvin\\\\MyProjects\\\\datasets\\\\EmotionDataset\\\\Angry\\\\13463.jpg',\n",
       " 'C:\\\\Users\\\\taij\\\\Documents\\\\Calvin\\\\MyProjects\\\\datasets\\\\EmotionDataset\\\\Angry\\\\13478.jpg',\n",
       " 'C:\\\\Users\\\\taij\\\\Documents\\\\Calvin\\\\MyProjects\\\\datasets\\\\EmotionDataset\\\\Angry\\\\13481.jpg',\n",
       " 'C:\\\\Users\\\\taij\\\\Documents\\\\Calvin\\\\MyProjects\\\\datasets\\\\EmotionDataset\\\\Angry\\\\1349.jpg',\n",
       " 'C:\\\\Users\\\\taij\\\\Documents\\\\Calvin\\\\MyProjects\\\\datasets\\\\EmotionDataset\\\\Angry\\\\13499.jpg',\n",
       " 'C:\\\\Users\\\\taij\\\\Documents\\\\Calvin\\\\MyProjects\\\\datasets\\\\EmotionDataset\\\\Angry\\\\1350.jpg',\n",
       " 'C:\\\\Users\\\\taij\\\\Documents\\\\Calvin\\\\MyProjects\\\\datasets\\\\EmotionDataset\\\\Angry\\\\13503.jpg',\n",
       " 'C:\\\\Users\\\\taij\\\\Documents\\\\Calvin\\\\MyProjects\\\\datasets\\\\EmotionDataset\\\\Angry\\\\13511.jpg',\n",
       " 'C:\\\\Users\\\\taij\\\\Documents\\\\Calvin\\\\MyProjects\\\\datasets\\\\EmotionDataset\\\\Angry\\\\13514.jpg',\n",
       " 'C:\\\\Users\\\\taij\\\\Documents\\\\Calvin\\\\MyProjects\\\\datasets\\\\EmotionDataset\\\\Angry\\\\13517.jpg',\n",
       " 'C:\\\\Users\\\\taij\\\\Documents\\\\Calvin\\\\MyProjects\\\\datasets\\\\EmotionDataset\\\\Angry\\\\13533.jpg',\n",
       " 'C:\\\\Users\\\\taij\\\\Documents\\\\Calvin\\\\MyProjects\\\\datasets\\\\EmotionDataset\\\\Angry\\\\13535.jpg',\n",
       " 'C:\\\\Users\\\\taij\\\\Documents\\\\Calvin\\\\MyProjects\\\\datasets\\\\EmotionDataset\\\\Angry\\\\13543.jpg',\n",
       " 'C:\\\\Users\\\\taij\\\\Documents\\\\Calvin\\\\MyProjects\\\\datasets\\\\EmotionDataset\\\\Angry\\\\13550.jpg',\n",
       " 'C:\\\\Users\\\\taij\\\\Documents\\\\Calvin\\\\MyProjects\\\\datasets\\\\EmotionDataset\\\\Angry\\\\13559.jpg',\n",
       " 'C:\\\\Users\\\\taij\\\\Documents\\\\Calvin\\\\MyProjects\\\\datasets\\\\EmotionDataset\\\\Angry\\\\13568.jpg',\n",
       " 'C:\\\\Users\\\\taij\\\\Documents\\\\Calvin\\\\MyProjects\\\\datasets\\\\EmotionDataset\\\\Angry\\\\13577.jpg',\n",
       " 'C:\\\\Users\\\\taij\\\\Documents\\\\Calvin\\\\MyProjects\\\\datasets\\\\EmotionDataset\\\\Angry\\\\1358.jpg',\n",
       " 'C:\\\\Users\\\\taij\\\\Documents\\\\Calvin\\\\MyProjects\\\\datasets\\\\EmotionDataset\\\\Angry\\\\13582.jpg',\n",
       " 'C:\\\\Users\\\\taij\\\\Documents\\\\Calvin\\\\MyProjects\\\\datasets\\\\EmotionDataset\\\\Angry\\\\13599.jpg',\n",
       " 'C:\\\\Users\\\\taij\\\\Documents\\\\Calvin\\\\MyProjects\\\\datasets\\\\EmotionDataset\\\\Angry\\\\13607.jpg',\n",
       " 'C:\\\\Users\\\\taij\\\\Documents\\\\Calvin\\\\MyProjects\\\\datasets\\\\EmotionDataset\\\\Angry\\\\13621.jpg',\n",
       " 'C:\\\\Users\\\\taij\\\\Documents\\\\Calvin\\\\MyProjects\\\\datasets\\\\EmotionDataset\\\\Angry\\\\13636.jpg',\n",
       " 'C:\\\\Users\\\\taij\\\\Documents\\\\Calvin\\\\MyProjects\\\\datasets\\\\EmotionDataset\\\\Angry\\\\13640.jpg',\n",
       " 'C:\\\\Users\\\\taij\\\\Documents\\\\Calvin\\\\MyProjects\\\\datasets\\\\EmotionDataset\\\\Angry\\\\1365.jpg',\n",
       " 'C:\\\\Users\\\\taij\\\\Documents\\\\Calvin\\\\MyProjects\\\\datasets\\\\EmotionDataset\\\\Angry\\\\13671.jpg',\n",
       " 'C:\\\\Users\\\\taij\\\\Documents\\\\Calvin\\\\MyProjects\\\\datasets\\\\EmotionDataset\\\\Angry\\\\13672.jpg',\n",
       " 'C:\\\\Users\\\\taij\\\\Documents\\\\Calvin\\\\MyProjects\\\\datasets\\\\EmotionDataset\\\\Angry\\\\13673.jpg',\n",
       " 'C:\\\\Users\\\\taij\\\\Documents\\\\Calvin\\\\MyProjects\\\\datasets\\\\EmotionDataset\\\\Angry\\\\13675.jpg',\n",
       " 'C:\\\\Users\\\\taij\\\\Documents\\\\Calvin\\\\MyProjects\\\\datasets\\\\EmotionDataset\\\\Angry\\\\13676.jpg',\n",
       " 'C:\\\\Users\\\\taij\\\\Documents\\\\Calvin\\\\MyProjects\\\\datasets\\\\EmotionDataset\\\\Angry\\\\13680.jpg',\n",
       " 'C:\\\\Users\\\\taij\\\\Documents\\\\Calvin\\\\MyProjects\\\\datasets\\\\EmotionDataset\\\\Angry\\\\1370.jpg',\n",
       " 'C:\\\\Users\\\\taij\\\\Documents\\\\Calvin\\\\MyProjects\\\\datasets\\\\EmotionDataset\\\\Angry\\\\1372.jpg',\n",
       " 'C:\\\\Users\\\\taij\\\\Documents\\\\Calvin\\\\MyProjects\\\\datasets\\\\EmotionDataset\\\\Angry\\\\1373.jpg',\n",
       " 'C:\\\\Users\\\\taij\\\\Documents\\\\Calvin\\\\MyProjects\\\\datasets\\\\EmotionDataset\\\\Angry\\\\13735.jpg',\n",
       " 'C:\\\\Users\\\\taij\\\\Documents\\\\Calvin\\\\MyProjects\\\\datasets\\\\EmotionDataset\\\\Angry\\\\13738.jpg',\n",
       " 'C:\\\\Users\\\\taij\\\\Documents\\\\Calvin\\\\MyProjects\\\\datasets\\\\EmotionDataset\\\\Angry\\\\1374.jpg',\n",
       " 'C:\\\\Users\\\\taij\\\\Documents\\\\Calvin\\\\MyProjects\\\\datasets\\\\EmotionDataset\\\\Angry\\\\13742.jpg',\n",
       " 'C:\\\\Users\\\\taij\\\\Documents\\\\Calvin\\\\MyProjects\\\\datasets\\\\EmotionDataset\\\\Angry\\\\13745.jpg',\n",
       " 'C:\\\\Users\\\\taij\\\\Documents\\\\Calvin\\\\MyProjects\\\\datasets\\\\EmotionDataset\\\\Angry\\\\13746.jpg',\n",
       " 'C:\\\\Users\\\\taij\\\\Documents\\\\Calvin\\\\MyProjects\\\\datasets\\\\EmotionDataset\\\\Angry\\\\13748.jpg',\n",
       " 'C:\\\\Users\\\\taij\\\\Documents\\\\Calvin\\\\MyProjects\\\\datasets\\\\EmotionDataset\\\\Angry\\\\1375.jpg',\n",
       " 'C:\\\\Users\\\\taij\\\\Documents\\\\Calvin\\\\MyProjects\\\\datasets\\\\EmotionDataset\\\\Angry\\\\13758.jpg',\n",
       " 'C:\\\\Users\\\\taij\\\\Documents\\\\Calvin\\\\MyProjects\\\\datasets\\\\EmotionDataset\\\\Angry\\\\13768.jpg',\n",
       " 'C:\\\\Users\\\\taij\\\\Documents\\\\Calvin\\\\MyProjects\\\\datasets\\\\EmotionDataset\\\\Angry\\\\13770.jpg',\n",
       " 'C:\\\\Users\\\\taij\\\\Documents\\\\Calvin\\\\MyProjects\\\\datasets\\\\EmotionDataset\\\\Angry\\\\13778.jpg',\n",
       " 'C:\\\\Users\\\\taij\\\\Documents\\\\Calvin\\\\MyProjects\\\\datasets\\\\EmotionDataset\\\\Angry\\\\13781.jpg',\n",
       " 'C:\\\\Users\\\\taij\\\\Documents\\\\Calvin\\\\MyProjects\\\\datasets\\\\EmotionDataset\\\\Angry\\\\13787.jpg',\n",
       " 'C:\\\\Users\\\\taij\\\\Documents\\\\Calvin\\\\MyProjects\\\\datasets\\\\EmotionDataset\\\\Angry\\\\13791.jpg',\n",
       " 'C:\\\\Users\\\\taij\\\\Documents\\\\Calvin\\\\MyProjects\\\\datasets\\\\EmotionDataset\\\\Angry\\\\13797.jpg',\n",
       " 'C:\\\\Users\\\\taij\\\\Documents\\\\Calvin\\\\MyProjects\\\\datasets\\\\EmotionDataset\\\\Angry\\\\13809.jpg',\n",
       " 'C:\\\\Users\\\\taij\\\\Documents\\\\Calvin\\\\MyProjects\\\\datasets\\\\EmotionDataset\\\\Angry\\\\13831.jpg',\n",
       " 'C:\\\\Users\\\\taij\\\\Documents\\\\Calvin\\\\MyProjects\\\\datasets\\\\EmotionDataset\\\\Angry\\\\1384.jpg',\n",
       " 'C:\\\\Users\\\\taij\\\\Documents\\\\Calvin\\\\MyProjects\\\\datasets\\\\EmotionDataset\\\\Angry\\\\13844.jpg',\n",
       " 'C:\\\\Users\\\\taij\\\\Documents\\\\Calvin\\\\MyProjects\\\\datasets\\\\EmotionDataset\\\\Angry\\\\13858.jpg',\n",
       " 'C:\\\\Users\\\\taij\\\\Documents\\\\Calvin\\\\MyProjects\\\\datasets\\\\EmotionDataset\\\\Angry\\\\1386.jpg',\n",
       " 'C:\\\\Users\\\\taij\\\\Documents\\\\Calvin\\\\MyProjects\\\\datasets\\\\EmotionDataset\\\\Angry\\\\13861.jpg',\n",
       " 'C:\\\\Users\\\\taij\\\\Documents\\\\Calvin\\\\MyProjects\\\\datasets\\\\EmotionDataset\\\\Angry\\\\13862.jpg',\n",
       " 'C:\\\\Users\\\\taij\\\\Documents\\\\Calvin\\\\MyProjects\\\\datasets\\\\EmotionDataset\\\\Angry\\\\13890.jpg',\n",
       " 'C:\\\\Users\\\\taij\\\\Documents\\\\Calvin\\\\MyProjects\\\\datasets\\\\EmotionDataset\\\\Angry\\\\13892.jpg',\n",
       " 'C:\\\\Users\\\\taij\\\\Documents\\\\Calvin\\\\MyProjects\\\\datasets\\\\EmotionDataset\\\\Angry\\\\13902.jpg',\n",
       " 'C:\\\\Users\\\\taij\\\\Documents\\\\Calvin\\\\MyProjects\\\\datasets\\\\EmotionDataset\\\\Angry\\\\13903.jpg',\n",
       " 'C:\\\\Users\\\\taij\\\\Documents\\\\Calvin\\\\MyProjects\\\\datasets\\\\EmotionDataset\\\\Angry\\\\1392.jpg',\n",
       " 'C:\\\\Users\\\\taij\\\\Documents\\\\Calvin\\\\MyProjects\\\\datasets\\\\EmotionDataset\\\\Angry\\\\13926.jpg',\n",
       " 'C:\\\\Users\\\\taij\\\\Documents\\\\Calvin\\\\MyProjects\\\\datasets\\\\EmotionDataset\\\\Angry\\\\1393.jpg',\n",
       " 'C:\\\\Users\\\\taij\\\\Documents\\\\Calvin\\\\MyProjects\\\\datasets\\\\EmotionDataset\\\\Angry\\\\13934.jpg',\n",
       " 'C:\\\\Users\\\\taij\\\\Documents\\\\Calvin\\\\MyProjects\\\\datasets\\\\EmotionDataset\\\\Angry\\\\13936.jpg',\n",
       " 'C:\\\\Users\\\\taij\\\\Documents\\\\Calvin\\\\MyProjects\\\\datasets\\\\EmotionDataset\\\\Angry\\\\13941.jpg',\n",
       " 'C:\\\\Users\\\\taij\\\\Documents\\\\Calvin\\\\MyProjects\\\\datasets\\\\EmotionDataset\\\\Angry\\\\13942.jpg',\n",
       " 'C:\\\\Users\\\\taij\\\\Documents\\\\Calvin\\\\MyProjects\\\\datasets\\\\EmotionDataset\\\\Angry\\\\13948.jpg',\n",
       " 'C:\\\\Users\\\\taij\\\\Documents\\\\Calvin\\\\MyProjects\\\\datasets\\\\EmotionDataset\\\\Angry\\\\13950.jpg',\n",
       " 'C:\\\\Users\\\\taij\\\\Documents\\\\Calvin\\\\MyProjects\\\\datasets\\\\EmotionDataset\\\\Angry\\\\13951.jpg',\n",
       " 'C:\\\\Users\\\\taij\\\\Documents\\\\Calvin\\\\MyProjects\\\\datasets\\\\EmotionDataset\\\\Angry\\\\13952.jpg',\n",
       " 'C:\\\\Users\\\\taij\\\\Documents\\\\Calvin\\\\MyProjects\\\\datasets\\\\EmotionDataset\\\\Angry\\\\13956.jpg',\n",
       " 'C:\\\\Users\\\\taij\\\\Documents\\\\Calvin\\\\MyProjects\\\\datasets\\\\EmotionDataset\\\\Angry\\\\13958.jpg',\n",
       " 'C:\\\\Users\\\\taij\\\\Documents\\\\Calvin\\\\MyProjects\\\\datasets\\\\EmotionDataset\\\\Angry\\\\1396.jpg',\n",
       " 'C:\\\\Users\\\\taij\\\\Documents\\\\Calvin\\\\MyProjects\\\\datasets\\\\EmotionDataset\\\\Angry\\\\13961.jpg',\n",
       " 'C:\\\\Users\\\\taij\\\\Documents\\\\Calvin\\\\MyProjects\\\\datasets\\\\EmotionDataset\\\\Angry\\\\13967.jpg',\n",
       " 'C:\\\\Users\\\\taij\\\\Documents\\\\Calvin\\\\MyProjects\\\\datasets\\\\EmotionDataset\\\\Angry\\\\1397.jpg',\n",
       " 'C:\\\\Users\\\\taij\\\\Documents\\\\Calvin\\\\MyProjects\\\\datasets\\\\EmotionDataset\\\\Angry\\\\13978.jpg',\n",
       " 'C:\\\\Users\\\\taij\\\\Documents\\\\Calvin\\\\MyProjects\\\\datasets\\\\EmotionDataset\\\\Angry\\\\13981.jpg',\n",
       " 'C:\\\\Users\\\\taij\\\\Documents\\\\Calvin\\\\MyProjects\\\\datasets\\\\EmotionDataset\\\\Angry\\\\14008.jpg',\n",
       " 'C:\\\\Users\\\\taij\\\\Documents\\\\Calvin\\\\MyProjects\\\\datasets\\\\EmotionDataset\\\\Angry\\\\14018.jpg',\n",
       " 'C:\\\\Users\\\\taij\\\\Documents\\\\Calvin\\\\MyProjects\\\\datasets\\\\EmotionDataset\\\\Angry\\\\14022.jpg',\n",
       " 'C:\\\\Users\\\\taij\\\\Documents\\\\Calvin\\\\MyProjects\\\\datasets\\\\EmotionDataset\\\\Angry\\\\14029.jpg',\n",
       " 'C:\\\\Users\\\\taij\\\\Documents\\\\Calvin\\\\MyProjects\\\\datasets\\\\EmotionDataset\\\\Angry\\\\14030.jpg',\n",
       " 'C:\\\\Users\\\\taij\\\\Documents\\\\Calvin\\\\MyProjects\\\\datasets\\\\EmotionDataset\\\\Angry\\\\14046.jpg',\n",
       " 'C:\\\\Users\\\\taij\\\\Documents\\\\Calvin\\\\MyProjects\\\\datasets\\\\EmotionDataset\\\\Angry\\\\14056.jpg',\n",
       " 'C:\\\\Users\\\\taij\\\\Documents\\\\Calvin\\\\MyProjects\\\\datasets\\\\EmotionDataset\\\\Angry\\\\14058.jpg',\n",
       " 'C:\\\\Users\\\\taij\\\\Documents\\\\Calvin\\\\MyProjects\\\\datasets\\\\EmotionDataset\\\\Angry\\\\14061.jpg',\n",
       " 'C:\\\\Users\\\\taij\\\\Documents\\\\Calvin\\\\MyProjects\\\\datasets\\\\EmotionDataset\\\\Angry\\\\14064.jpg',\n",
       " 'C:\\\\Users\\\\taij\\\\Documents\\\\Calvin\\\\MyProjects\\\\datasets\\\\EmotionDataset\\\\Angry\\\\14071.jpg',\n",
       " 'C:\\\\Users\\\\taij\\\\Documents\\\\Calvin\\\\MyProjects\\\\datasets\\\\EmotionDataset\\\\Angry\\\\14083.jpg',\n",
       " 'C:\\\\Users\\\\taij\\\\Documents\\\\Calvin\\\\MyProjects\\\\datasets\\\\EmotionDataset\\\\Angry\\\\14085.jpg',\n",
       " 'C:\\\\Users\\\\taij\\\\Documents\\\\Calvin\\\\MyProjects\\\\datasets\\\\EmotionDataset\\\\Angry\\\\14095.jpg',\n",
       " 'C:\\\\Users\\\\taij\\\\Documents\\\\Calvin\\\\MyProjects\\\\datasets\\\\EmotionDataset\\\\Angry\\\\14096.jpg',\n",
       " 'C:\\\\Users\\\\taij\\\\Documents\\\\Calvin\\\\MyProjects\\\\datasets\\\\EmotionDataset\\\\Angry\\\\14104.jpg',\n",
       " 'C:\\\\Users\\\\taij\\\\Documents\\\\Calvin\\\\MyProjects\\\\datasets\\\\EmotionDataset\\\\Angry\\\\14108.jpg',\n",
       " 'C:\\\\Users\\\\taij\\\\Documents\\\\Calvin\\\\MyProjects\\\\datasets\\\\EmotionDataset\\\\Angry\\\\14118.jpg',\n",
       " 'C:\\\\Users\\\\taij\\\\Documents\\\\Calvin\\\\MyProjects\\\\datasets\\\\EmotionDataset\\\\Angry\\\\1412.jpg',\n",
       " 'C:\\\\Users\\\\taij\\\\Documents\\\\Calvin\\\\MyProjects\\\\datasets\\\\EmotionDataset\\\\Angry\\\\14120.jpg',\n",
       " 'C:\\\\Users\\\\taij\\\\Documents\\\\Calvin\\\\MyProjects\\\\datasets\\\\EmotionDataset\\\\Angry\\\\14126.jpg',\n",
       " 'C:\\\\Users\\\\taij\\\\Documents\\\\Calvin\\\\MyProjects\\\\datasets\\\\EmotionDataset\\\\Angry\\\\14129.jpg',\n",
       " 'C:\\\\Users\\\\taij\\\\Documents\\\\Calvin\\\\MyProjects\\\\datasets\\\\EmotionDataset\\\\Angry\\\\1413.jpg',\n",
       " 'C:\\\\Users\\\\taij\\\\Documents\\\\Calvin\\\\MyProjects\\\\datasets\\\\EmotionDataset\\\\Angry\\\\14137.jpg',\n",
       " 'C:\\\\Users\\\\taij\\\\Documents\\\\Calvin\\\\MyProjects\\\\datasets\\\\EmotionDataset\\\\Angry\\\\14142.jpg',\n",
       " 'C:\\\\Users\\\\taij\\\\Documents\\\\Calvin\\\\MyProjects\\\\datasets\\\\EmotionDataset\\\\Angry\\\\14143.jpg',\n",
       " 'C:\\\\Users\\\\taij\\\\Documents\\\\Calvin\\\\MyProjects\\\\datasets\\\\EmotionDataset\\\\Angry\\\\14147.jpg',\n",
       " 'C:\\\\Users\\\\taij\\\\Documents\\\\Calvin\\\\MyProjects\\\\datasets\\\\EmotionDataset\\\\Angry\\\\14148.jpg',\n",
       " 'C:\\\\Users\\\\taij\\\\Documents\\\\Calvin\\\\MyProjects\\\\datasets\\\\EmotionDataset\\\\Angry\\\\14164.jpg',\n",
       " 'C:\\\\Users\\\\taij\\\\Documents\\\\Calvin\\\\MyProjects\\\\datasets\\\\EmotionDataset\\\\Angry\\\\14166.jpg',\n",
       " 'C:\\\\Users\\\\taij\\\\Documents\\\\Calvin\\\\MyProjects\\\\datasets\\\\EmotionDataset\\\\Angry\\\\14168.jpg',\n",
       " 'C:\\\\Users\\\\taij\\\\Documents\\\\Calvin\\\\MyProjects\\\\datasets\\\\EmotionDataset\\\\Angry\\\\14172.jpg',\n",
       " 'C:\\\\Users\\\\taij\\\\Documents\\\\Calvin\\\\MyProjects\\\\datasets\\\\EmotionDataset\\\\Angry\\\\14179.jpg',\n",
       " 'C:\\\\Users\\\\taij\\\\Documents\\\\Calvin\\\\MyProjects\\\\datasets\\\\EmotionDataset\\\\Angry\\\\14184.jpg',\n",
       " 'C:\\\\Users\\\\taij\\\\Documents\\\\Calvin\\\\MyProjects\\\\datasets\\\\EmotionDataset\\\\Angry\\\\14185.jpg',\n",
       " 'C:\\\\Users\\\\taij\\\\Documents\\\\Calvin\\\\MyProjects\\\\datasets\\\\EmotionDataset\\\\Angry\\\\14196.jpg',\n",
       " 'C:\\\\Users\\\\taij\\\\Documents\\\\Calvin\\\\MyProjects\\\\datasets\\\\EmotionDataset\\\\Angry\\\\14202.jpg',\n",
       " 'C:\\\\Users\\\\taij\\\\Documents\\\\Calvin\\\\MyProjects\\\\datasets\\\\EmotionDataset\\\\Angry\\\\14206.jpg',\n",
       " 'C:\\\\Users\\\\taij\\\\Documents\\\\Calvin\\\\MyProjects\\\\datasets\\\\EmotionDataset\\\\Angry\\\\14213.jpg',\n",
       " 'C:\\\\Users\\\\taij\\\\Documents\\\\Calvin\\\\MyProjects\\\\datasets\\\\EmotionDataset\\\\Angry\\\\14215.jpg',\n",
       " 'C:\\\\Users\\\\taij\\\\Documents\\\\Calvin\\\\MyProjects\\\\datasets\\\\EmotionDataset\\\\Angry\\\\14217.jpg',\n",
       " 'C:\\\\Users\\\\taij\\\\Documents\\\\Calvin\\\\MyProjects\\\\datasets\\\\EmotionDataset\\\\Angry\\\\1422.jpg',\n",
       " 'C:\\\\Users\\\\taij\\\\Documents\\\\Calvin\\\\MyProjects\\\\datasets\\\\EmotionDataset\\\\Angry\\\\14221.jpg',\n",
       " 'C:\\\\Users\\\\taij\\\\Documents\\\\Calvin\\\\MyProjects\\\\datasets\\\\EmotionDataset\\\\Angry\\\\14243.jpg',\n",
       " 'C:\\\\Users\\\\taij\\\\Documents\\\\Calvin\\\\MyProjects\\\\datasets\\\\EmotionDataset\\\\Angry\\\\14248.jpg',\n",
       " 'C:\\\\Users\\\\taij\\\\Documents\\\\Calvin\\\\MyProjects\\\\datasets\\\\EmotionDataset\\\\Angry\\\\14266.jpg',\n",
       " 'C:\\\\Users\\\\taij\\\\Documents\\\\Calvin\\\\MyProjects\\\\datasets\\\\EmotionDataset\\\\Angry\\\\14296.jpg',\n",
       " 'C:\\\\Users\\\\taij\\\\Documents\\\\Calvin\\\\MyProjects\\\\datasets\\\\EmotionDataset\\\\Angry\\\\14299.jpg',\n",
       " 'C:\\\\Users\\\\taij\\\\Documents\\\\Calvin\\\\MyProjects\\\\datasets\\\\EmotionDataset\\\\Angry\\\\14304.jpg',\n",
       " 'C:\\\\Users\\\\taij\\\\Documents\\\\Calvin\\\\MyProjects\\\\datasets\\\\EmotionDataset\\\\Angry\\\\14312.jpg',\n",
       " 'C:\\\\Users\\\\taij\\\\Documents\\\\Calvin\\\\MyProjects\\\\datasets\\\\EmotionDataset\\\\Angry\\\\14313.jpg',\n",
       " 'C:\\\\Users\\\\taij\\\\Documents\\\\Calvin\\\\MyProjects\\\\datasets\\\\EmotionDataset\\\\Angry\\\\14315.jpg',\n",
       " 'C:\\\\Users\\\\taij\\\\Documents\\\\Calvin\\\\MyProjects\\\\datasets\\\\EmotionDataset\\\\Angry\\\\14329.jpg',\n",
       " 'C:\\\\Users\\\\taij\\\\Documents\\\\Calvin\\\\MyProjects\\\\datasets\\\\EmotionDataset\\\\Angry\\\\14338.jpg',\n",
       " 'C:\\\\Users\\\\taij\\\\Documents\\\\Calvin\\\\MyProjects\\\\datasets\\\\EmotionDataset\\\\Angry\\\\14344.jpg',\n",
       " 'C:\\\\Users\\\\taij\\\\Documents\\\\Calvin\\\\MyProjects\\\\datasets\\\\EmotionDataset\\\\Angry\\\\14353.jpg',\n",
       " 'C:\\\\Users\\\\taij\\\\Documents\\\\Calvin\\\\MyProjects\\\\datasets\\\\EmotionDataset\\\\Angry\\\\14357.jpg',\n",
       " 'C:\\\\Users\\\\taij\\\\Documents\\\\Calvin\\\\MyProjects\\\\datasets\\\\EmotionDataset\\\\Angry\\\\14359.jpg',\n",
       " 'C:\\\\Users\\\\taij\\\\Documents\\\\Calvin\\\\MyProjects\\\\datasets\\\\EmotionDataset\\\\Angry\\\\14368.jpg',\n",
       " 'C:\\\\Users\\\\taij\\\\Documents\\\\Calvin\\\\MyProjects\\\\datasets\\\\EmotionDataset\\\\Angry\\\\14376.jpg',\n",
       " 'C:\\\\Users\\\\taij\\\\Documents\\\\Calvin\\\\MyProjects\\\\datasets\\\\EmotionDataset\\\\Angry\\\\1438.jpg',\n",
       " 'C:\\\\Users\\\\taij\\\\Documents\\\\Calvin\\\\MyProjects\\\\datasets\\\\EmotionDataset\\\\Angry\\\\14381.jpg',\n",
       " 'C:\\\\Users\\\\taij\\\\Documents\\\\Calvin\\\\MyProjects\\\\datasets\\\\EmotionDataset\\\\Angry\\\\14412.jpg',\n",
       " 'C:\\\\Users\\\\taij\\\\Documents\\\\Calvin\\\\MyProjects\\\\datasets\\\\EmotionDataset\\\\Angry\\\\14416.jpg',\n",
       " 'C:\\\\Users\\\\taij\\\\Documents\\\\Calvin\\\\MyProjects\\\\datasets\\\\EmotionDataset\\\\Angry\\\\14421.jpg',\n",
       " 'C:\\\\Users\\\\taij\\\\Documents\\\\Calvin\\\\MyProjects\\\\datasets\\\\EmotionDataset\\\\Angry\\\\14426.jpg',\n",
       " 'C:\\\\Users\\\\taij\\\\Documents\\\\Calvin\\\\MyProjects\\\\datasets\\\\EmotionDataset\\\\Angry\\\\1443.jpg',\n",
       " 'C:\\\\Users\\\\taij\\\\Documents\\\\Calvin\\\\MyProjects\\\\datasets\\\\EmotionDataset\\\\Angry\\\\14438.jpg',\n",
       " 'C:\\\\Users\\\\taij\\\\Documents\\\\Calvin\\\\MyProjects\\\\datasets\\\\EmotionDataset\\\\Angry\\\\14439.jpg',\n",
       " 'C:\\\\Users\\\\taij\\\\Documents\\\\Calvin\\\\MyProjects\\\\datasets\\\\EmotionDataset\\\\Angry\\\\1444.jpg',\n",
       " 'C:\\\\Users\\\\taij\\\\Documents\\\\Calvin\\\\MyProjects\\\\datasets\\\\EmotionDataset\\\\Angry\\\\14445.jpg',\n",
       " 'C:\\\\Users\\\\taij\\\\Documents\\\\Calvin\\\\MyProjects\\\\datasets\\\\EmotionDataset\\\\Angry\\\\14453.jpg',\n",
       " 'C:\\\\Users\\\\taij\\\\Documents\\\\Calvin\\\\MyProjects\\\\datasets\\\\EmotionDataset\\\\Angry\\\\14460.jpg',\n",
       " 'C:\\\\Users\\\\taij\\\\Documents\\\\Calvin\\\\MyProjects\\\\datasets\\\\EmotionDataset\\\\Angry\\\\14478.jpg',\n",
       " 'C:\\\\Users\\\\taij\\\\Documents\\\\Calvin\\\\MyProjects\\\\datasets\\\\EmotionDataset\\\\Angry\\\\1448.jpg',\n",
       " 'C:\\\\Users\\\\taij\\\\Documents\\\\Calvin\\\\MyProjects\\\\datasets\\\\EmotionDataset\\\\Angry\\\\14482.jpg',\n",
       " 'C:\\\\Users\\\\taij\\\\Documents\\\\Calvin\\\\MyProjects\\\\datasets\\\\EmotionDataset\\\\Angry\\\\14498.jpg',\n",
       " 'C:\\\\Users\\\\taij\\\\Documents\\\\Calvin\\\\MyProjects\\\\datasets\\\\EmotionDataset\\\\Angry\\\\1450.jpg',\n",
       " 'C:\\\\Users\\\\taij\\\\Documents\\\\Calvin\\\\MyProjects\\\\datasets\\\\EmotionDataset\\\\Angry\\\\14501.jpg',\n",
       " 'C:\\\\Users\\\\taij\\\\Documents\\\\Calvin\\\\MyProjects\\\\datasets\\\\EmotionDataset\\\\Angry\\\\14511.jpg',\n",
       " 'C:\\\\Users\\\\taij\\\\Documents\\\\Calvin\\\\MyProjects\\\\datasets\\\\EmotionDataset\\\\Angry\\\\14526.jpg',\n",
       " 'C:\\\\Users\\\\taij\\\\Documents\\\\Calvin\\\\MyProjects\\\\datasets\\\\EmotionDataset\\\\Angry\\\\1453.jpg',\n",
       " 'C:\\\\Users\\\\taij\\\\Documents\\\\Calvin\\\\MyProjects\\\\datasets\\\\EmotionDataset\\\\Angry\\\\14557.jpg',\n",
       " 'C:\\\\Users\\\\taij\\\\Documents\\\\Calvin\\\\MyProjects\\\\datasets\\\\EmotionDataset\\\\Angry\\\\14575.jpg',\n",
       " 'C:\\\\Users\\\\taij\\\\Documents\\\\Calvin\\\\MyProjects\\\\datasets\\\\EmotionDataset\\\\Angry\\\\14583.jpg',\n",
       " 'C:\\\\Users\\\\taij\\\\Documents\\\\Calvin\\\\MyProjects\\\\datasets\\\\EmotionDataset\\\\Angry\\\\14599.jpg',\n",
       " 'C:\\\\Users\\\\taij\\\\Documents\\\\Calvin\\\\MyProjects\\\\datasets\\\\EmotionDataset\\\\Angry\\\\1460.jpg',\n",
       " 'C:\\\\Users\\\\taij\\\\Documents\\\\Calvin\\\\MyProjects\\\\datasets\\\\EmotionDataset\\\\Angry\\\\14603.jpg',\n",
       " 'C:\\\\Users\\\\taij\\\\Documents\\\\Calvin\\\\MyProjects\\\\datasets\\\\EmotionDataset\\\\Angry\\\\14604.jpg',\n",
       " 'C:\\\\Users\\\\taij\\\\Documents\\\\Calvin\\\\MyProjects\\\\datasets\\\\EmotionDataset\\\\Angry\\\\14614.jpg',\n",
       " 'C:\\\\Users\\\\taij\\\\Documents\\\\Calvin\\\\MyProjects\\\\datasets\\\\EmotionDataset\\\\Angry\\\\14616.jpg',\n",
       " 'C:\\\\Users\\\\taij\\\\Documents\\\\Calvin\\\\MyProjects\\\\datasets\\\\EmotionDataset\\\\Angry\\\\1462.jpg',\n",
       " 'C:\\\\Users\\\\taij\\\\Documents\\\\Calvin\\\\MyProjects\\\\datasets\\\\EmotionDataset\\\\Angry\\\\14638.jpg',\n",
       " 'C:\\\\Users\\\\taij\\\\Documents\\\\Calvin\\\\MyProjects\\\\datasets\\\\EmotionDataset\\\\Angry\\\\14640.jpg',\n",
       " 'C:\\\\Users\\\\taij\\\\Documents\\\\Calvin\\\\MyProjects\\\\datasets\\\\EmotionDataset\\\\Angry\\\\14661.jpg',\n",
       " 'C:\\\\Users\\\\taij\\\\Documents\\\\Calvin\\\\MyProjects\\\\datasets\\\\EmotionDataset\\\\Angry\\\\14667.jpg',\n",
       " 'C:\\\\Users\\\\taij\\\\Documents\\\\Calvin\\\\MyProjects\\\\datasets\\\\EmotionDataset\\\\Angry\\\\14669.jpg',\n",
       " 'C:\\\\Users\\\\taij\\\\Documents\\\\Calvin\\\\MyProjects\\\\datasets\\\\EmotionDataset\\\\Angry\\\\14679.jpg',\n",
       " 'C:\\\\Users\\\\taij\\\\Documents\\\\Calvin\\\\MyProjects\\\\datasets\\\\EmotionDataset\\\\Angry\\\\1468.jpg',\n",
       " 'C:\\\\Users\\\\taij\\\\Documents\\\\Calvin\\\\MyProjects\\\\datasets\\\\EmotionDataset\\\\Angry\\\\14698.jpg',\n",
       " 'C:\\\\Users\\\\taij\\\\Documents\\\\Calvin\\\\MyProjects\\\\datasets\\\\EmotionDataset\\\\Angry\\\\14706.jpg',\n",
       " 'C:\\\\Users\\\\taij\\\\Documents\\\\Calvin\\\\MyProjects\\\\datasets\\\\EmotionDataset\\\\Angry\\\\14709.jpg',\n",
       " 'C:\\\\Users\\\\taij\\\\Documents\\\\Calvin\\\\MyProjects\\\\datasets\\\\EmotionDataset\\\\Angry\\\\14719.jpg',\n",
       " 'C:\\\\Users\\\\taij\\\\Documents\\\\Calvin\\\\MyProjects\\\\datasets\\\\EmotionDataset\\\\Angry\\\\14739.jpg',\n",
       " 'C:\\\\Users\\\\taij\\\\Documents\\\\Calvin\\\\MyProjects\\\\datasets\\\\EmotionDataset\\\\Angry\\\\14752.jpg',\n",
       " 'C:\\\\Users\\\\taij\\\\Documents\\\\Calvin\\\\MyProjects\\\\datasets\\\\EmotionDataset\\\\Angry\\\\14758.jpg',\n",
       " 'C:\\\\Users\\\\taij\\\\Documents\\\\Calvin\\\\MyProjects\\\\datasets\\\\EmotionDataset\\\\Angry\\\\14763.jpg',\n",
       " 'C:\\\\Users\\\\taij\\\\Documents\\\\Calvin\\\\MyProjects\\\\datasets\\\\EmotionDataset\\\\Angry\\\\14768.jpg',\n",
       " 'C:\\\\Users\\\\taij\\\\Documents\\\\Calvin\\\\MyProjects\\\\datasets\\\\EmotionDataset\\\\Angry\\\\1477.jpg',\n",
       " 'C:\\\\Users\\\\taij\\\\Documents\\\\Calvin\\\\MyProjects\\\\datasets\\\\EmotionDataset\\\\Angry\\\\14773.jpg',\n",
       " 'C:\\\\Users\\\\taij\\\\Documents\\\\Calvin\\\\MyProjects\\\\datasets\\\\EmotionDataset\\\\Angry\\\\14775.jpg',\n",
       " 'C:\\\\Users\\\\taij\\\\Documents\\\\Calvin\\\\MyProjects\\\\datasets\\\\EmotionDataset\\\\Angry\\\\14776.jpg',\n",
       " 'C:\\\\Users\\\\taij\\\\Documents\\\\Calvin\\\\MyProjects\\\\datasets\\\\EmotionDataset\\\\Angry\\\\14778.jpg',\n",
       " 'C:\\\\Users\\\\taij\\\\Documents\\\\Calvin\\\\MyProjects\\\\datasets\\\\EmotionDataset\\\\Angry\\\\14791.jpg',\n",
       " 'C:\\\\Users\\\\taij\\\\Documents\\\\Calvin\\\\MyProjects\\\\datasets\\\\EmotionDataset\\\\Angry\\\\14801.jpg',\n",
       " 'C:\\\\Users\\\\taij\\\\Documents\\\\Calvin\\\\MyProjects\\\\datasets\\\\EmotionDataset\\\\Angry\\\\14807.jpg',\n",
       " 'C:\\\\Users\\\\taij\\\\Documents\\\\Calvin\\\\MyProjects\\\\datasets\\\\EmotionDataset\\\\Angry\\\\14821.jpg',\n",
       " 'C:\\\\Users\\\\taij\\\\Documents\\\\Calvin\\\\MyProjects\\\\datasets\\\\EmotionDataset\\\\Angry\\\\14826.jpg',\n",
       " 'C:\\\\Users\\\\taij\\\\Documents\\\\Calvin\\\\MyProjects\\\\datasets\\\\EmotionDataset\\\\Angry\\\\14827.jpg',\n",
       " 'C:\\\\Users\\\\taij\\\\Documents\\\\Calvin\\\\MyProjects\\\\datasets\\\\EmotionDataset\\\\Angry\\\\1483.jpg',\n",
       " 'C:\\\\Users\\\\taij\\\\Documents\\\\Calvin\\\\MyProjects\\\\datasets\\\\EmotionDataset\\\\Angry\\\\14831.jpg',\n",
       " 'C:\\\\Users\\\\taij\\\\Documents\\\\Calvin\\\\MyProjects\\\\datasets\\\\EmotionDataset\\\\Angry\\\\14856.jpg',\n",
       " 'C:\\\\Users\\\\taij\\\\Documents\\\\Calvin\\\\MyProjects\\\\datasets\\\\EmotionDataset\\\\Angry\\\\14864.jpg',\n",
       " 'C:\\\\Users\\\\taij\\\\Documents\\\\Calvin\\\\MyProjects\\\\datasets\\\\EmotionDataset\\\\Angry\\\\14865.jpg',\n",
       " 'C:\\\\Users\\\\taij\\\\Documents\\\\Calvin\\\\MyProjects\\\\datasets\\\\EmotionDataset\\\\Angry\\\\14870.jpg',\n",
       " 'C:\\\\Users\\\\taij\\\\Documents\\\\Calvin\\\\MyProjects\\\\datasets\\\\EmotionDataset\\\\Angry\\\\14873.jpg',\n",
       " 'C:\\\\Users\\\\taij\\\\Documents\\\\Calvin\\\\MyProjects\\\\datasets\\\\EmotionDataset\\\\Angry\\\\149.jpg',\n",
       " 'C:\\\\Users\\\\taij\\\\Documents\\\\Calvin\\\\MyProjects\\\\datasets\\\\EmotionDataset\\\\Angry\\\\1490.jpg',\n",
       " 'C:\\\\Users\\\\taij\\\\Documents\\\\Calvin\\\\MyProjects\\\\datasets\\\\EmotionDataset\\\\Angry\\\\14928.jpg',\n",
       " 'C:\\\\Users\\\\taij\\\\Documents\\\\Calvin\\\\MyProjects\\\\datasets\\\\EmotionDataset\\\\Angry\\\\14936.jpg',\n",
       " 'C:\\\\Users\\\\taij\\\\Documents\\\\Calvin\\\\MyProjects\\\\datasets\\\\EmotionDataset\\\\Angry\\\\14937.jpg',\n",
       " 'C:\\\\Users\\\\taij\\\\Documents\\\\Calvin\\\\MyProjects\\\\datasets\\\\EmotionDataset\\\\Angry\\\\14945.jpg',\n",
       " 'C:\\\\Users\\\\taij\\\\Documents\\\\Calvin\\\\MyProjects\\\\datasets\\\\EmotionDataset\\\\Angry\\\\14961.jpg',\n",
       " 'C:\\\\Users\\\\taij\\\\Documents\\\\Calvin\\\\MyProjects\\\\datasets\\\\EmotionDataset\\\\Angry\\\\14976.jpg',\n",
       " 'C:\\\\Users\\\\taij\\\\Documents\\\\Calvin\\\\MyProjects\\\\datasets\\\\EmotionDataset\\\\Angry\\\\14977.jpg',\n",
       " 'C:\\\\Users\\\\taij\\\\Documents\\\\Calvin\\\\MyProjects\\\\datasets\\\\EmotionDataset\\\\Angry\\\\14989.jpg',\n",
       " 'C:\\\\Users\\\\taij\\\\Documents\\\\Calvin\\\\MyProjects\\\\datasets\\\\EmotionDataset\\\\Angry\\\\14993.jpg',\n",
       " 'C:\\\\Users\\\\taij\\\\Documents\\\\Calvin\\\\MyProjects\\\\datasets\\\\EmotionDataset\\\\Angry\\\\150.jpg',\n",
       " 'C:\\\\Users\\\\taij\\\\Documents\\\\Calvin\\\\MyProjects\\\\datasets\\\\EmotionDataset\\\\Angry\\\\15000.jpg',\n",
       " 'C:\\\\Users\\\\taij\\\\Documents\\\\Calvin\\\\MyProjects\\\\datasets\\\\EmotionDataset\\\\Angry\\\\15002.jpg',\n",
       " 'C:\\\\Users\\\\taij\\\\Documents\\\\Calvin\\\\MyProjects\\\\datasets\\\\EmotionDataset\\\\Angry\\\\15005.jpg',\n",
       " 'C:\\\\Users\\\\taij\\\\Documents\\\\Calvin\\\\MyProjects\\\\datasets\\\\EmotionDataset\\\\Angry\\\\15014.jpg',\n",
       " 'C:\\\\Users\\\\taij\\\\Documents\\\\Calvin\\\\MyProjects\\\\datasets\\\\EmotionDataset\\\\Angry\\\\15020.jpg',\n",
       " 'C:\\\\Users\\\\taij\\\\Documents\\\\Calvin\\\\MyProjects\\\\datasets\\\\EmotionDataset\\\\Angry\\\\15023.jpg',\n",
       " 'C:\\\\Users\\\\taij\\\\Documents\\\\Calvin\\\\MyProjects\\\\datasets\\\\EmotionDataset\\\\Angry\\\\15048.jpg',\n",
       " 'C:\\\\Users\\\\taij\\\\Documents\\\\Calvin\\\\MyProjects\\\\datasets\\\\EmotionDataset\\\\Angry\\\\15055.jpg',\n",
       " 'C:\\\\Users\\\\taij\\\\Documents\\\\Calvin\\\\MyProjects\\\\datasets\\\\EmotionDataset\\\\Angry\\\\15064.jpg',\n",
       " 'C:\\\\Users\\\\taij\\\\Documents\\\\Calvin\\\\MyProjects\\\\datasets\\\\EmotionDataset\\\\Angry\\\\15068.jpg',\n",
       " 'C:\\\\Users\\\\taij\\\\Documents\\\\Calvin\\\\MyProjects\\\\datasets\\\\EmotionDataset\\\\Angry\\\\15069.jpg',\n",
       " 'C:\\\\Users\\\\taij\\\\Documents\\\\Calvin\\\\MyProjects\\\\datasets\\\\EmotionDataset\\\\Angry\\\\15074.jpg',\n",
       " 'C:\\\\Users\\\\taij\\\\Documents\\\\Calvin\\\\MyProjects\\\\datasets\\\\EmotionDataset\\\\Angry\\\\1508.jpg',\n",
       " 'C:\\\\Users\\\\taij\\\\Documents\\\\Calvin\\\\MyProjects\\\\datasets\\\\EmotionDataset\\\\Angry\\\\15080.jpg',\n",
       " 'C:\\\\Users\\\\taij\\\\Documents\\\\Calvin\\\\MyProjects\\\\datasets\\\\EmotionDataset\\\\Angry\\\\15083.jpg',\n",
       " 'C:\\\\Users\\\\taij\\\\Documents\\\\Calvin\\\\MyProjects\\\\datasets\\\\EmotionDataset\\\\Angry\\\\15089.jpg',\n",
       " 'C:\\\\Users\\\\taij\\\\Documents\\\\Calvin\\\\MyProjects\\\\datasets\\\\EmotionDataset\\\\Angry\\\\15111.jpg',\n",
       " 'C:\\\\Users\\\\taij\\\\Documents\\\\Calvin\\\\MyProjects\\\\datasets\\\\EmotionDataset\\\\Angry\\\\15112.jpg',\n",
       " 'C:\\\\Users\\\\taij\\\\Documents\\\\Calvin\\\\MyProjects\\\\datasets\\\\EmotionDataset\\\\Angry\\\\15122.jpg',\n",
       " 'C:\\\\Users\\\\taij\\\\Documents\\\\Calvin\\\\MyProjects\\\\datasets\\\\EmotionDataset\\\\Angry\\\\1513.jpg',\n",
       " 'C:\\\\Users\\\\taij\\\\Documents\\\\Calvin\\\\MyProjects\\\\datasets\\\\EmotionDataset\\\\Angry\\\\15133.jpg',\n",
       " 'C:\\\\Users\\\\taij\\\\Documents\\\\Calvin\\\\MyProjects\\\\datasets\\\\EmotionDataset\\\\Angry\\\\15136.jpg',\n",
       " 'C:\\\\Users\\\\taij\\\\Documents\\\\Calvin\\\\MyProjects\\\\datasets\\\\EmotionDataset\\\\Angry\\\\15138.jpg',\n",
       " 'C:\\\\Users\\\\taij\\\\Documents\\\\Calvin\\\\MyProjects\\\\datasets\\\\EmotionDataset\\\\Angry\\\\15139.jpg',\n",
       " 'C:\\\\Users\\\\taij\\\\Documents\\\\Calvin\\\\MyProjects\\\\datasets\\\\EmotionDataset\\\\Angry\\\\15157.jpg',\n",
       " 'C:\\\\Users\\\\taij\\\\Documents\\\\Calvin\\\\MyProjects\\\\datasets\\\\EmotionDataset\\\\Angry\\\\15160.jpg',\n",
       " 'C:\\\\Users\\\\taij\\\\Documents\\\\Calvin\\\\MyProjects\\\\datasets\\\\EmotionDataset\\\\Angry\\\\15172.jpg',\n",
       " 'C:\\\\Users\\\\taij\\\\Documents\\\\Calvin\\\\MyProjects\\\\datasets\\\\EmotionDataset\\\\Angry\\\\15190.jpg',\n",
       " 'C:\\\\Users\\\\taij\\\\Documents\\\\Calvin\\\\MyProjects\\\\datasets\\\\EmotionDataset\\\\Angry\\\\15194.jpg',\n",
       " 'C:\\\\Users\\\\taij\\\\Documents\\\\Calvin\\\\MyProjects\\\\datasets\\\\EmotionDataset\\\\Angry\\\\1520.jpg',\n",
       " 'C:\\\\Users\\\\taij\\\\Documents\\\\Calvin\\\\MyProjects\\\\datasets\\\\EmotionDataset\\\\Angry\\\\15217.jpg',\n",
       " 'C:\\\\Users\\\\taij\\\\Documents\\\\Calvin\\\\MyProjects\\\\datasets\\\\EmotionDataset\\\\Angry\\\\1522.jpg',\n",
       " 'C:\\\\Users\\\\taij\\\\Documents\\\\Calvin\\\\MyProjects\\\\datasets\\\\EmotionDataset\\\\Angry\\\\15222.jpg',\n",
       " 'C:\\\\Users\\\\taij\\\\Documents\\\\Calvin\\\\MyProjects\\\\datasets\\\\EmotionDataset\\\\Angry\\\\15223.jpg',\n",
       " 'C:\\\\Users\\\\taij\\\\Documents\\\\Calvin\\\\MyProjects\\\\datasets\\\\EmotionDataset\\\\Angry\\\\15261.jpg',\n",
       " 'C:\\\\Users\\\\taij\\\\Documents\\\\Calvin\\\\MyProjects\\\\datasets\\\\EmotionDataset\\\\Angry\\\\15262.jpg',\n",
       " 'C:\\\\Users\\\\taij\\\\Documents\\\\Calvin\\\\MyProjects\\\\datasets\\\\EmotionDataset\\\\Angry\\\\15273.jpg',\n",
       " 'C:\\\\Users\\\\taij\\\\Documents\\\\Calvin\\\\MyProjects\\\\datasets\\\\EmotionDataset\\\\Angry\\\\15278.jpg',\n",
       " 'C:\\\\Users\\\\taij\\\\Documents\\\\Calvin\\\\MyProjects\\\\datasets\\\\EmotionDataset\\\\Angry\\\\15295.jpg',\n",
       " 'C:\\\\Users\\\\taij\\\\Documents\\\\Calvin\\\\MyProjects\\\\datasets\\\\EmotionDataset\\\\Angry\\\\15297.jpg',\n",
       " 'C:\\\\Users\\\\taij\\\\Documents\\\\Calvin\\\\MyProjects\\\\datasets\\\\EmotionDataset\\\\Angry\\\\15318.jpg',\n",
       " 'C:\\\\Users\\\\taij\\\\Documents\\\\Calvin\\\\MyProjects\\\\datasets\\\\EmotionDataset\\\\Angry\\\\15321.jpg',\n",
       " 'C:\\\\Users\\\\taij\\\\Documents\\\\Calvin\\\\MyProjects\\\\datasets\\\\EmotionDataset\\\\Angry\\\\15325.jpg',\n",
       " 'C:\\\\Users\\\\taij\\\\Documents\\\\Calvin\\\\MyProjects\\\\datasets\\\\EmotionDataset\\\\Angry\\\\15327.jpg',\n",
       " 'C:\\\\Users\\\\taij\\\\Documents\\\\Calvin\\\\MyProjects\\\\datasets\\\\EmotionDataset\\\\Angry\\\\1533.jpg',\n",
       " 'C:\\\\Users\\\\taij\\\\Documents\\\\Calvin\\\\MyProjects\\\\datasets\\\\EmotionDataset\\\\Angry\\\\15330.jpg',\n",
       " 'C:\\\\Users\\\\taij\\\\Documents\\\\Calvin\\\\MyProjects\\\\datasets\\\\EmotionDataset\\\\Angry\\\\15344.jpg',\n",
       " 'C:\\\\Users\\\\taij\\\\Documents\\\\Calvin\\\\MyProjects\\\\datasets\\\\EmotionDataset\\\\Angry\\\\15345.jpg',\n",
       " 'C:\\\\Users\\\\taij\\\\Documents\\\\Calvin\\\\MyProjects\\\\datasets\\\\EmotionDataset\\\\Angry\\\\15352.jpg',\n",
       " 'C:\\\\Users\\\\taij\\\\Documents\\\\Calvin\\\\MyProjects\\\\datasets\\\\EmotionDataset\\\\Angry\\\\15359.jpg',\n",
       " 'C:\\\\Users\\\\taij\\\\Documents\\\\Calvin\\\\MyProjects\\\\datasets\\\\EmotionDataset\\\\Angry\\\\15363.jpg',\n",
       " 'C:\\\\Users\\\\taij\\\\Documents\\\\Calvin\\\\MyProjects\\\\datasets\\\\EmotionDataset\\\\Angry\\\\15368.jpg',\n",
       " 'C:\\\\Users\\\\taij\\\\Documents\\\\Calvin\\\\MyProjects\\\\datasets\\\\EmotionDataset\\\\Angry\\\\15381.jpg',\n",
       " 'C:\\\\Users\\\\taij\\\\Documents\\\\Calvin\\\\MyProjects\\\\datasets\\\\EmotionDataset\\\\Angry\\\\15385.jpg',\n",
       " 'C:\\\\Users\\\\taij\\\\Documents\\\\Calvin\\\\MyProjects\\\\datasets\\\\EmotionDataset\\\\Angry\\\\15390.jpg',\n",
       " 'C:\\\\Users\\\\taij\\\\Documents\\\\Calvin\\\\MyProjects\\\\datasets\\\\EmotionDataset\\\\Angry\\\\15391.jpg',\n",
       " 'C:\\\\Users\\\\taij\\\\Documents\\\\Calvin\\\\MyProjects\\\\datasets\\\\EmotionDataset\\\\Angry\\\\15395.jpg',\n",
       " 'C:\\\\Users\\\\taij\\\\Documents\\\\Calvin\\\\MyProjects\\\\datasets\\\\EmotionDataset\\\\Angry\\\\15399.jpg',\n",
       " 'C:\\\\Users\\\\taij\\\\Documents\\\\Calvin\\\\MyProjects\\\\datasets\\\\EmotionDataset\\\\Angry\\\\15404.jpg',\n",
       " 'C:\\\\Users\\\\taij\\\\Documents\\\\Calvin\\\\MyProjects\\\\datasets\\\\EmotionDataset\\\\Angry\\\\15410.jpg',\n",
       " 'C:\\\\Users\\\\taij\\\\Documents\\\\Calvin\\\\MyProjects\\\\datasets\\\\EmotionDataset\\\\Angry\\\\15413.jpg',\n",
       " 'C:\\\\Users\\\\taij\\\\Documents\\\\Calvin\\\\MyProjects\\\\datasets\\\\EmotionDataset\\\\Angry\\\\15418.jpg',\n",
       " 'C:\\\\Users\\\\taij\\\\Documents\\\\Calvin\\\\MyProjects\\\\datasets\\\\EmotionDataset\\\\Angry\\\\15433.jpg',\n",
       " 'C:\\\\Users\\\\taij\\\\Documents\\\\Calvin\\\\MyProjects\\\\datasets\\\\EmotionDataset\\\\Angry\\\\15444.jpg',\n",
       " 'C:\\\\Users\\\\taij\\\\Documents\\\\Calvin\\\\MyProjects\\\\datasets\\\\EmotionDataset\\\\Angry\\\\15464.jpg',\n",
       " 'C:\\\\Users\\\\taij\\\\Documents\\\\Calvin\\\\MyProjects\\\\datasets\\\\EmotionDataset\\\\Angry\\\\15465.jpg',\n",
       " 'C:\\\\Users\\\\taij\\\\Documents\\\\Calvin\\\\MyProjects\\\\datasets\\\\EmotionDataset\\\\Angry\\\\15471.jpg',\n",
       " 'C:\\\\Users\\\\taij\\\\Documents\\\\Calvin\\\\MyProjects\\\\datasets\\\\EmotionDataset\\\\Angry\\\\15474.jpg',\n",
       " 'C:\\\\Users\\\\taij\\\\Documents\\\\Calvin\\\\MyProjects\\\\datasets\\\\EmotionDataset\\\\Angry\\\\15478.jpg',\n",
       " 'C:\\\\Users\\\\taij\\\\Documents\\\\Calvin\\\\MyProjects\\\\datasets\\\\EmotionDataset\\\\Angry\\\\15480.jpg',\n",
       " 'C:\\\\Users\\\\taij\\\\Documents\\\\Calvin\\\\MyProjects\\\\datasets\\\\EmotionDataset\\\\Angry\\\\15482.jpg',\n",
       " 'C:\\\\Users\\\\taij\\\\Documents\\\\Calvin\\\\MyProjects\\\\datasets\\\\EmotionDataset\\\\Angry\\\\15490.jpg',\n",
       " 'C:\\\\Users\\\\taij\\\\Documents\\\\Calvin\\\\MyProjects\\\\datasets\\\\EmotionDataset\\\\Angry\\\\15500.jpg',\n",
       " 'C:\\\\Users\\\\taij\\\\Documents\\\\Calvin\\\\MyProjects\\\\datasets\\\\EmotionDataset\\\\Angry\\\\15502.jpg',\n",
       " 'C:\\\\Users\\\\taij\\\\Documents\\\\Calvin\\\\MyProjects\\\\datasets\\\\EmotionDataset\\\\Angry\\\\15505.jpg',\n",
       " 'C:\\\\Users\\\\taij\\\\Documents\\\\Calvin\\\\MyProjects\\\\datasets\\\\EmotionDataset\\\\Angry\\\\15526.jpg',\n",
       " 'C:\\\\Users\\\\taij\\\\Documents\\\\Calvin\\\\MyProjects\\\\datasets\\\\EmotionDataset\\\\Angry\\\\1555.jpg',\n",
       " 'C:\\\\Users\\\\taij\\\\Documents\\\\Calvin\\\\MyProjects\\\\datasets\\\\EmotionDataset\\\\Angry\\\\15552.jpg',\n",
       " 'C:\\\\Users\\\\taij\\\\Documents\\\\Calvin\\\\MyProjects\\\\datasets\\\\EmotionDataset\\\\Angry\\\\15557.jpg',\n",
       " 'C:\\\\Users\\\\taij\\\\Documents\\\\Calvin\\\\MyProjects\\\\datasets\\\\EmotionDataset\\\\Angry\\\\1556.jpg',\n",
       " 'C:\\\\Users\\\\taij\\\\Documents\\\\Calvin\\\\MyProjects\\\\datasets\\\\EmotionDataset\\\\Angry\\\\15562.jpg',\n",
       " 'C:\\\\Users\\\\taij\\\\Documents\\\\Calvin\\\\MyProjects\\\\datasets\\\\EmotionDataset\\\\Angry\\\\15569.jpg',\n",
       " 'C:\\\\Users\\\\taij\\\\Documents\\\\Calvin\\\\MyProjects\\\\datasets\\\\EmotionDataset\\\\Angry\\\\15575.jpg',\n",
       " 'C:\\\\Users\\\\taij\\\\Documents\\\\Calvin\\\\MyProjects\\\\datasets\\\\EmotionDataset\\\\Angry\\\\1558.jpg',\n",
       " 'C:\\\\Users\\\\taij\\\\Documents\\\\Calvin\\\\MyProjects\\\\datasets\\\\EmotionDataset\\\\Angry\\\\15593.jpg',\n",
       " 'C:\\\\Users\\\\taij\\\\Documents\\\\Calvin\\\\MyProjects\\\\datasets\\\\EmotionDataset\\\\Angry\\\\15594.jpg',\n",
       " 'C:\\\\Users\\\\taij\\\\Documents\\\\Calvin\\\\MyProjects\\\\datasets\\\\EmotionDataset\\\\Angry\\\\15596.jpg',\n",
       " 'C:\\\\Users\\\\taij\\\\Documents\\\\Calvin\\\\MyProjects\\\\datasets\\\\EmotionDataset\\\\Angry\\\\15610.jpg',\n",
       " 'C:\\\\Users\\\\taij\\\\Documents\\\\Calvin\\\\MyProjects\\\\datasets\\\\EmotionDataset\\\\Angry\\\\15612.jpg',\n",
       " 'C:\\\\Users\\\\taij\\\\Documents\\\\Calvin\\\\MyProjects\\\\datasets\\\\EmotionDataset\\\\Angry\\\\15620.jpg',\n",
       " 'C:\\\\Users\\\\taij\\\\Documents\\\\Calvin\\\\MyProjects\\\\datasets\\\\EmotionDataset\\\\Angry\\\\15625.jpg',\n",
       " 'C:\\\\Users\\\\taij\\\\Documents\\\\Calvin\\\\MyProjects\\\\datasets\\\\EmotionDataset\\\\Angry\\\\15637.jpg',\n",
       " 'C:\\\\Users\\\\taij\\\\Documents\\\\Calvin\\\\MyProjects\\\\datasets\\\\EmotionDataset\\\\Angry\\\\1564.jpg',\n",
       " 'C:\\\\Users\\\\taij\\\\Documents\\\\Calvin\\\\MyProjects\\\\datasets\\\\EmotionDataset\\\\Angry\\\\15644.jpg',\n",
       " 'C:\\\\Users\\\\taij\\\\Documents\\\\Calvin\\\\MyProjects\\\\datasets\\\\EmotionDataset\\\\Angry\\\\15650.jpg',\n",
       " 'C:\\\\Users\\\\taij\\\\Documents\\\\Calvin\\\\MyProjects\\\\datasets\\\\EmotionDataset\\\\Angry\\\\15654.jpg',\n",
       " 'C:\\\\Users\\\\taij\\\\Documents\\\\Calvin\\\\MyProjects\\\\datasets\\\\EmotionDataset\\\\Angry\\\\15659.jpg',\n",
       " 'C:\\\\Users\\\\taij\\\\Documents\\\\Calvin\\\\MyProjects\\\\datasets\\\\EmotionDataset\\\\Angry\\\\15662.jpg',\n",
       " 'C:\\\\Users\\\\taij\\\\Documents\\\\Calvin\\\\MyProjects\\\\datasets\\\\EmotionDataset\\\\Angry\\\\15688.jpg',\n",
       " 'C:\\\\Users\\\\taij\\\\Documents\\\\Calvin\\\\MyProjects\\\\datasets\\\\EmotionDataset\\\\Angry\\\\15689.jpg',\n",
       " 'C:\\\\Users\\\\taij\\\\Documents\\\\Calvin\\\\MyProjects\\\\datasets\\\\EmotionDataset\\\\Angry\\\\15692.jpg',\n",
       " 'C:\\\\Users\\\\taij\\\\Documents\\\\Calvin\\\\MyProjects\\\\datasets\\\\EmotionDataset\\\\Angry\\\\15699.jpg',\n",
       " 'C:\\\\Users\\\\taij\\\\Documents\\\\Calvin\\\\MyProjects\\\\datasets\\\\EmotionDataset\\\\Angry\\\\157.jpg',\n",
       " 'C:\\\\Users\\\\taij\\\\Documents\\\\Calvin\\\\MyProjects\\\\datasets\\\\EmotionDataset\\\\Angry\\\\15700.jpg',\n",
       " 'C:\\\\Users\\\\taij\\\\Documents\\\\Calvin\\\\MyProjects\\\\datasets\\\\EmotionDataset\\\\Angry\\\\15706.jpg',\n",
       " 'C:\\\\Users\\\\taij\\\\Documents\\\\Calvin\\\\MyProjects\\\\datasets\\\\EmotionDataset\\\\Angry\\\\15709.jpg',\n",
       " 'C:\\\\Users\\\\taij\\\\Documents\\\\Calvin\\\\MyProjects\\\\datasets\\\\EmotionDataset\\\\Angry\\\\15712.jpg',\n",
       " 'C:\\\\Users\\\\taij\\\\Documents\\\\Calvin\\\\MyProjects\\\\datasets\\\\EmotionDataset\\\\Angry\\\\15715.jpg',\n",
       " 'C:\\\\Users\\\\taij\\\\Documents\\\\Calvin\\\\MyProjects\\\\datasets\\\\EmotionDataset\\\\Angry\\\\15719.jpg',\n",
       " 'C:\\\\Users\\\\taij\\\\Documents\\\\Calvin\\\\MyProjects\\\\datasets\\\\EmotionDataset\\\\Angry\\\\15725.jpg',\n",
       " 'C:\\\\Users\\\\taij\\\\Documents\\\\Calvin\\\\MyProjects\\\\datasets\\\\EmotionDataset\\\\Angry\\\\15726.jpg',\n",
       " 'C:\\\\Users\\\\taij\\\\Documents\\\\Calvin\\\\MyProjects\\\\datasets\\\\EmotionDataset\\\\Angry\\\\15739.jpg',\n",
       " 'C:\\\\Users\\\\taij\\\\Documents\\\\Calvin\\\\MyProjects\\\\datasets\\\\EmotionDataset\\\\Angry\\\\15743.jpg',\n",
       " 'C:\\\\Users\\\\taij\\\\Documents\\\\Calvin\\\\MyProjects\\\\datasets\\\\EmotionDataset\\\\Angry\\\\1575.jpg',\n",
       " 'C:\\\\Users\\\\taij\\\\Documents\\\\Calvin\\\\MyProjects\\\\datasets\\\\EmotionDataset\\\\Angry\\\\15763.jpg',\n",
       " 'C:\\\\Users\\\\taij\\\\Documents\\\\Calvin\\\\MyProjects\\\\datasets\\\\EmotionDataset\\\\Angry\\\\15769.jpg',\n",
       " 'C:\\\\Users\\\\taij\\\\Documents\\\\Calvin\\\\MyProjects\\\\datasets\\\\EmotionDataset\\\\Angry\\\\15771.jpg',\n",
       " 'C:\\\\Users\\\\taij\\\\Documents\\\\Calvin\\\\MyProjects\\\\datasets\\\\EmotionDataset\\\\Angry\\\\15779.jpg',\n",
       " 'C:\\\\Users\\\\taij\\\\Documents\\\\Calvin\\\\MyProjects\\\\datasets\\\\EmotionDataset\\\\Angry\\\\15805.jpg',\n",
       " 'C:\\\\Users\\\\taij\\\\Documents\\\\Calvin\\\\MyProjects\\\\datasets\\\\EmotionDataset\\\\Angry\\\\15807.jpg',\n",
       " 'C:\\\\Users\\\\taij\\\\Documents\\\\Calvin\\\\MyProjects\\\\datasets\\\\EmotionDataset\\\\Angry\\\\1582.jpg',\n",
       " 'C:\\\\Users\\\\taij\\\\Documents\\\\Calvin\\\\MyProjects\\\\datasets\\\\EmotionDataset\\\\Angry\\\\15820.jpg',\n",
       " 'C:\\\\Users\\\\taij\\\\Documents\\\\Calvin\\\\MyProjects\\\\datasets\\\\EmotionDataset\\\\Angry\\\\15821.jpg',\n",
       " 'C:\\\\Users\\\\taij\\\\Documents\\\\Calvin\\\\MyProjects\\\\datasets\\\\EmotionDataset\\\\Angry\\\\15825.jpg',\n",
       " 'C:\\\\Users\\\\taij\\\\Documents\\\\Calvin\\\\MyProjects\\\\datasets\\\\EmotionDataset\\\\Angry\\\\15835.jpg',\n",
       " 'C:\\\\Users\\\\taij\\\\Documents\\\\Calvin\\\\MyProjects\\\\datasets\\\\EmotionDataset\\\\Angry\\\\15836.jpg',\n",
       " 'C:\\\\Users\\\\taij\\\\Documents\\\\Calvin\\\\MyProjects\\\\datasets\\\\EmotionDataset\\\\Angry\\\\15839.jpg',\n",
       " 'C:\\\\Users\\\\taij\\\\Documents\\\\Calvin\\\\MyProjects\\\\datasets\\\\EmotionDataset\\\\Angry\\\\1584.jpg',\n",
       " 'C:\\\\Users\\\\taij\\\\Documents\\\\Calvin\\\\MyProjects\\\\datasets\\\\EmotionDataset\\\\Angry\\\\15842.jpg',\n",
       " 'C:\\\\Users\\\\taij\\\\Documents\\\\Calvin\\\\MyProjects\\\\datasets\\\\EmotionDataset\\\\Angry\\\\15844.jpg',\n",
       " 'C:\\\\Users\\\\taij\\\\Documents\\\\Calvin\\\\MyProjects\\\\datasets\\\\EmotionDataset\\\\Angry\\\\15848.jpg',\n",
       " 'C:\\\\Users\\\\taij\\\\Documents\\\\Calvin\\\\MyProjects\\\\datasets\\\\EmotionDataset\\\\Angry\\\\15849.jpg',\n",
       " 'C:\\\\Users\\\\taij\\\\Documents\\\\Calvin\\\\MyProjects\\\\datasets\\\\EmotionDataset\\\\Angry\\\\1586.jpg',\n",
       " 'C:\\\\Users\\\\taij\\\\Documents\\\\Calvin\\\\MyProjects\\\\datasets\\\\EmotionDataset\\\\Angry\\\\15860.jpg',\n",
       " 'C:\\\\Users\\\\taij\\\\Documents\\\\Calvin\\\\MyProjects\\\\datasets\\\\EmotionDataset\\\\Angry\\\\1587.jpg',\n",
       " 'C:\\\\Users\\\\taij\\\\Documents\\\\Calvin\\\\MyProjects\\\\datasets\\\\EmotionDataset\\\\Angry\\\\1588.jpg',\n",
       " 'C:\\\\Users\\\\taij\\\\Documents\\\\Calvin\\\\MyProjects\\\\datasets\\\\EmotionDataset\\\\Angry\\\\15894.jpg',\n",
       " 'C:\\\\Users\\\\taij\\\\Documents\\\\Calvin\\\\MyProjects\\\\datasets\\\\EmotionDataset\\\\Angry\\\\15897.jpg',\n",
       " 'C:\\\\Users\\\\taij\\\\Documents\\\\Calvin\\\\MyProjects\\\\datasets\\\\EmotionDataset\\\\Angry\\\\15902.jpg',\n",
       " 'C:\\\\Users\\\\taij\\\\Documents\\\\Calvin\\\\MyProjects\\\\datasets\\\\EmotionDataset\\\\Angry\\\\15903.jpg',\n",
       " 'C:\\\\Users\\\\taij\\\\Documents\\\\Calvin\\\\MyProjects\\\\datasets\\\\EmotionDataset\\\\Angry\\\\15919.jpg',\n",
       " 'C:\\\\Users\\\\taij\\\\Documents\\\\Calvin\\\\MyProjects\\\\datasets\\\\EmotionDataset\\\\Angry\\\\15926.jpg',\n",
       " 'C:\\\\Users\\\\taij\\\\Documents\\\\Calvin\\\\MyProjects\\\\datasets\\\\EmotionDataset\\\\Angry\\\\15928.jpg',\n",
       " 'C:\\\\Users\\\\taij\\\\Documents\\\\Calvin\\\\MyProjects\\\\datasets\\\\EmotionDataset\\\\Angry\\\\1593.jpg',\n",
       " 'C:\\\\Users\\\\taij\\\\Documents\\\\Calvin\\\\MyProjects\\\\datasets\\\\EmotionDataset\\\\Angry\\\\15941.jpg',\n",
       " 'C:\\\\Users\\\\taij\\\\Documents\\\\Calvin\\\\MyProjects\\\\datasets\\\\EmotionDataset\\\\Angry\\\\1595.jpg',\n",
       " 'C:\\\\Users\\\\taij\\\\Documents\\\\Calvin\\\\MyProjects\\\\datasets\\\\EmotionDataset\\\\Angry\\\\15952.jpg',\n",
       " 'C:\\\\Users\\\\taij\\\\Documents\\\\Calvin\\\\MyProjects\\\\datasets\\\\EmotionDataset\\\\Angry\\\\15954.jpg',\n",
       " 'C:\\\\Users\\\\taij\\\\Documents\\\\Calvin\\\\MyProjects\\\\datasets\\\\EmotionDataset\\\\Angry\\\\15962.jpg',\n",
       " 'C:\\\\Users\\\\taij\\\\Documents\\\\Calvin\\\\MyProjects\\\\datasets\\\\EmotionDataset\\\\Angry\\\\1597.jpg',\n",
       " 'C:\\\\Users\\\\taij\\\\Documents\\\\Calvin\\\\MyProjects\\\\datasets\\\\EmotionDataset\\\\Angry\\\\15977.jpg',\n",
       " 'C:\\\\Users\\\\taij\\\\Documents\\\\Calvin\\\\MyProjects\\\\datasets\\\\EmotionDataset\\\\Angry\\\\15979.jpg',\n",
       " 'C:\\\\Users\\\\taij\\\\Documents\\\\Calvin\\\\MyProjects\\\\datasets\\\\EmotionDataset\\\\Angry\\\\15988.jpg',\n",
       " 'C:\\\\Users\\\\taij\\\\Documents\\\\Calvin\\\\MyProjects\\\\datasets\\\\EmotionDataset\\\\Angry\\\\15990.jpg',\n",
       " 'C:\\\\Users\\\\taij\\\\Documents\\\\Calvin\\\\MyProjects\\\\datasets\\\\EmotionDataset\\\\Angry\\\\15994.jpg',\n",
       " 'C:\\\\Users\\\\taij\\\\Documents\\\\Calvin\\\\MyProjects\\\\datasets\\\\EmotionDataset\\\\Angry\\\\15997.jpg',\n",
       " 'C:\\\\Users\\\\taij\\\\Documents\\\\Calvin\\\\MyProjects\\\\datasets\\\\EmotionDataset\\\\Angry\\\\16009.jpg',\n",
       " 'C:\\\\Users\\\\taij\\\\Documents\\\\Calvin\\\\MyProjects\\\\datasets\\\\EmotionDataset\\\\Angry\\\\16011.jpg',\n",
       " 'C:\\\\Users\\\\taij\\\\Documents\\\\Calvin\\\\MyProjects\\\\datasets\\\\EmotionDataset\\\\Angry\\\\16012.jpg',\n",
       " 'C:\\\\Users\\\\taij\\\\Documents\\\\Calvin\\\\MyProjects\\\\datasets\\\\EmotionDataset\\\\Angry\\\\16014.jpg',\n",
       " 'C:\\\\Users\\\\taij\\\\Documents\\\\Calvin\\\\MyProjects\\\\datasets\\\\EmotionDataset\\\\Angry\\\\16018.jpg',\n",
       " 'C:\\\\Users\\\\taij\\\\Documents\\\\Calvin\\\\MyProjects\\\\datasets\\\\EmotionDataset\\\\Angry\\\\16027.jpg',\n",
       " 'C:\\\\Users\\\\taij\\\\Documents\\\\Calvin\\\\MyProjects\\\\datasets\\\\EmotionDataset\\\\Angry\\\\16033.jpg',\n",
       " 'C:\\\\Users\\\\taij\\\\Documents\\\\Calvin\\\\MyProjects\\\\datasets\\\\EmotionDataset\\\\Angry\\\\16044.jpg',\n",
       " 'C:\\\\Users\\\\taij\\\\Documents\\\\Calvin\\\\MyProjects\\\\datasets\\\\EmotionDataset\\\\Angry\\\\16047.jpg',\n",
       " 'C:\\\\Users\\\\taij\\\\Documents\\\\Calvin\\\\MyProjects\\\\datasets\\\\EmotionDataset\\\\Angry\\\\16073.jpg',\n",
       " 'C:\\\\Users\\\\taij\\\\Documents\\\\Calvin\\\\MyProjects\\\\datasets\\\\EmotionDataset\\\\Angry\\\\16096.jpg',\n",
       " 'C:\\\\Users\\\\taij\\\\Documents\\\\Calvin\\\\MyProjects\\\\datasets\\\\EmotionDataset\\\\Angry\\\\16098.jpg',\n",
       " 'C:\\\\Users\\\\taij\\\\Documents\\\\Calvin\\\\MyProjects\\\\datasets\\\\EmotionDataset\\\\Angry\\\\1610.jpg',\n",
       " 'C:\\\\Users\\\\taij\\\\Documents\\\\Calvin\\\\MyProjects\\\\datasets\\\\EmotionDataset\\\\Angry\\\\16102.jpg',\n",
       " 'C:\\\\Users\\\\taij\\\\Documents\\\\Calvin\\\\MyProjects\\\\datasets\\\\EmotionDataset\\\\Angry\\\\16107.jpg',\n",
       " 'C:\\\\Users\\\\taij\\\\Documents\\\\Calvin\\\\MyProjects\\\\datasets\\\\EmotionDataset\\\\Angry\\\\16114.jpg',\n",
       " 'C:\\\\Users\\\\taij\\\\Documents\\\\Calvin\\\\MyProjects\\\\datasets\\\\EmotionDataset\\\\Angry\\\\16124.jpg',\n",
       " 'C:\\\\Users\\\\taij\\\\Documents\\\\Calvin\\\\MyProjects\\\\datasets\\\\EmotionDataset\\\\Angry\\\\16127.jpg',\n",
       " 'C:\\\\Users\\\\taij\\\\Documents\\\\Calvin\\\\MyProjects\\\\datasets\\\\EmotionDataset\\\\Angry\\\\16130.jpg',\n",
       " 'C:\\\\Users\\\\taij\\\\Documents\\\\Calvin\\\\MyProjects\\\\datasets\\\\EmotionDataset\\\\Angry\\\\16137.jpg',\n",
       " 'C:\\\\Users\\\\taij\\\\Documents\\\\Calvin\\\\MyProjects\\\\datasets\\\\EmotionDataset\\\\Angry\\\\16163.jpg',\n",
       " 'C:\\\\Users\\\\taij\\\\Documents\\\\Calvin\\\\MyProjects\\\\datasets\\\\EmotionDataset\\\\Angry\\\\16169.jpg',\n",
       " 'C:\\\\Users\\\\taij\\\\Documents\\\\Calvin\\\\MyProjects\\\\datasets\\\\EmotionDataset\\\\Angry\\\\16182.jpg',\n",
       " 'C:\\\\Users\\\\taij\\\\Documents\\\\Calvin\\\\MyProjects\\\\datasets\\\\EmotionDataset\\\\Angry\\\\16186.jpg',\n",
       " 'C:\\\\Users\\\\taij\\\\Documents\\\\Calvin\\\\MyProjects\\\\datasets\\\\EmotionDataset\\\\Angry\\\\16189.jpg',\n",
       " 'C:\\\\Users\\\\taij\\\\Documents\\\\Calvin\\\\MyProjects\\\\datasets\\\\EmotionDataset\\\\Angry\\\\16193.jpg',\n",
       " 'C:\\\\Users\\\\taij\\\\Documents\\\\Calvin\\\\MyProjects\\\\datasets\\\\EmotionDataset\\\\Angry\\\\16197.jpg',\n",
       " 'C:\\\\Users\\\\taij\\\\Documents\\\\Calvin\\\\MyProjects\\\\datasets\\\\EmotionDataset\\\\Angry\\\\16211.jpg',\n",
       " 'C:\\\\Users\\\\taij\\\\Documents\\\\Calvin\\\\MyProjects\\\\datasets\\\\EmotionDataset\\\\Angry\\\\16218.jpg',\n",
       " 'C:\\\\Users\\\\taij\\\\Documents\\\\Calvin\\\\MyProjects\\\\datasets\\\\EmotionDataset\\\\Angry\\\\16222.jpg',\n",
       " 'C:\\\\Users\\\\taij\\\\Documents\\\\Calvin\\\\MyProjects\\\\datasets\\\\EmotionDataset\\\\Angry\\\\16228.jpg',\n",
       " 'C:\\\\Users\\\\taij\\\\Documents\\\\Calvin\\\\MyProjects\\\\datasets\\\\EmotionDataset\\\\Angry\\\\16232.jpg',\n",
       " 'C:\\\\Users\\\\taij\\\\Documents\\\\Calvin\\\\MyProjects\\\\datasets\\\\EmotionDataset\\\\Angry\\\\16233.jpg',\n",
       " 'C:\\\\Users\\\\taij\\\\Documents\\\\Calvin\\\\MyProjects\\\\datasets\\\\EmotionDataset\\\\Angry\\\\16240.jpg',\n",
       " 'C:\\\\Users\\\\taij\\\\Documents\\\\Calvin\\\\MyProjects\\\\datasets\\\\EmotionDataset\\\\Angry\\\\16253.jpg',\n",
       " 'C:\\\\Users\\\\taij\\\\Documents\\\\Calvin\\\\MyProjects\\\\datasets\\\\EmotionDataset\\\\Angry\\\\16256.jpg',\n",
       " 'C:\\\\Users\\\\taij\\\\Documents\\\\Calvin\\\\MyProjects\\\\datasets\\\\EmotionDataset\\\\Angry\\\\16261.jpg',\n",
       " 'C:\\\\Users\\\\taij\\\\Documents\\\\Calvin\\\\MyProjects\\\\datasets\\\\EmotionDataset\\\\Angry\\\\16263.jpg',\n",
       " 'C:\\\\Users\\\\taij\\\\Documents\\\\Calvin\\\\MyProjects\\\\datasets\\\\EmotionDataset\\\\Angry\\\\16267.jpg',\n",
       " 'C:\\\\Users\\\\taij\\\\Documents\\\\Calvin\\\\MyProjects\\\\datasets\\\\EmotionDataset\\\\Angry\\\\16271.jpg',\n",
       " 'C:\\\\Users\\\\taij\\\\Documents\\\\Calvin\\\\MyProjects\\\\datasets\\\\EmotionDataset\\\\Angry\\\\16283.jpg',\n",
       " 'C:\\\\Users\\\\taij\\\\Documents\\\\Calvin\\\\MyProjects\\\\datasets\\\\EmotionDataset\\\\Angry\\\\16285.jpg',\n",
       " 'C:\\\\Users\\\\taij\\\\Documents\\\\Calvin\\\\MyProjects\\\\datasets\\\\EmotionDataset\\\\Angry\\\\16286.jpg',\n",
       " 'C:\\\\Users\\\\taij\\\\Documents\\\\Calvin\\\\MyProjects\\\\datasets\\\\EmotionDataset\\\\Angry\\\\16287.jpg',\n",
       " 'C:\\\\Users\\\\taij\\\\Documents\\\\Calvin\\\\MyProjects\\\\datasets\\\\EmotionDataset\\\\Angry\\\\16289.jpg',\n",
       " 'C:\\\\Users\\\\taij\\\\Documents\\\\Calvin\\\\MyProjects\\\\datasets\\\\EmotionDataset\\\\Angry\\\\16290.jpg',\n",
       " 'C:\\\\Users\\\\taij\\\\Documents\\\\Calvin\\\\MyProjects\\\\datasets\\\\EmotionDataset\\\\Angry\\\\16292.jpg',\n",
       " 'C:\\\\Users\\\\taij\\\\Documents\\\\Calvin\\\\MyProjects\\\\datasets\\\\EmotionDataset\\\\Angry\\\\16295.jpg',\n",
       " 'C:\\\\Users\\\\taij\\\\Documents\\\\Calvin\\\\MyProjects\\\\datasets\\\\EmotionDataset\\\\Angry\\\\16297.jpg',\n",
       " 'C:\\\\Users\\\\taij\\\\Documents\\\\Calvin\\\\MyProjects\\\\datasets\\\\EmotionDataset\\\\Angry\\\\1631.jpg',\n",
       " 'C:\\\\Users\\\\taij\\\\Documents\\\\Calvin\\\\MyProjects\\\\datasets\\\\EmotionDataset\\\\Angry\\\\16312.jpg',\n",
       " 'C:\\\\Users\\\\taij\\\\Documents\\\\Calvin\\\\MyProjects\\\\datasets\\\\EmotionDataset\\\\Angry\\\\16316.jpg',\n",
       " 'C:\\\\Users\\\\taij\\\\Documents\\\\Calvin\\\\MyProjects\\\\datasets\\\\EmotionDataset\\\\Angry\\\\16319.jpg',\n",
       " 'C:\\\\Users\\\\taij\\\\Documents\\\\Calvin\\\\MyProjects\\\\datasets\\\\EmotionDataset\\\\Angry\\\\16320.jpg',\n",
       " 'C:\\\\Users\\\\taij\\\\Documents\\\\Calvin\\\\MyProjects\\\\datasets\\\\EmotionDataset\\\\Angry\\\\16323.jpg',\n",
       " 'C:\\\\Users\\\\taij\\\\Documents\\\\Calvin\\\\MyProjects\\\\datasets\\\\EmotionDataset\\\\Angry\\\\16339.jpg',\n",
       " 'C:\\\\Users\\\\taij\\\\Documents\\\\Calvin\\\\MyProjects\\\\datasets\\\\EmotionDataset\\\\Angry\\\\16344.jpg',\n",
       " 'C:\\\\Users\\\\taij\\\\Documents\\\\Calvin\\\\MyProjects\\\\datasets\\\\EmotionDataset\\\\Angry\\\\16354.jpg',\n",
       " 'C:\\\\Users\\\\taij\\\\Documents\\\\Calvin\\\\MyProjects\\\\datasets\\\\EmotionDataset\\\\Angry\\\\16355.jpg',\n",
       " 'C:\\\\Users\\\\taij\\\\Documents\\\\Calvin\\\\MyProjects\\\\datasets\\\\EmotionDataset\\\\Angry\\\\16377.jpg',\n",
       " 'C:\\\\Users\\\\taij\\\\Documents\\\\Calvin\\\\MyProjects\\\\datasets\\\\EmotionDataset\\\\Angry\\\\16378.jpg',\n",
       " 'C:\\\\Users\\\\taij\\\\Documents\\\\Calvin\\\\MyProjects\\\\datasets\\\\EmotionDataset\\\\Angry\\\\16379.jpg',\n",
       " 'C:\\\\Users\\\\taij\\\\Documents\\\\Calvin\\\\MyProjects\\\\datasets\\\\EmotionDataset\\\\Angry\\\\16380.jpg',\n",
       " 'C:\\\\Users\\\\taij\\\\Documents\\\\Calvin\\\\MyProjects\\\\datasets\\\\EmotionDataset\\\\Angry\\\\16381.jpg',\n",
       " 'C:\\\\Users\\\\taij\\\\Documents\\\\Calvin\\\\MyProjects\\\\datasets\\\\EmotionDataset\\\\Angry\\\\1639.jpg',\n",
       " 'C:\\\\Users\\\\taij\\\\Documents\\\\Calvin\\\\MyProjects\\\\datasets\\\\EmotionDataset\\\\Angry\\\\16397.jpg',\n",
       " 'C:\\\\Users\\\\taij\\\\Documents\\\\Calvin\\\\MyProjects\\\\datasets\\\\EmotionDataset\\\\Angry\\\\16406.jpg',\n",
       " 'C:\\\\Users\\\\taij\\\\Documents\\\\Calvin\\\\MyProjects\\\\datasets\\\\EmotionDataset\\\\Angry\\\\1641.jpg',\n",
       " 'C:\\\\Users\\\\taij\\\\Documents\\\\Calvin\\\\MyProjects\\\\datasets\\\\EmotionDataset\\\\Angry\\\\16410.jpg',\n",
       " 'C:\\\\Users\\\\taij\\\\Documents\\\\Calvin\\\\MyProjects\\\\datasets\\\\EmotionDataset\\\\Angry\\\\16413.jpg',\n",
       " 'C:\\\\Users\\\\taij\\\\Documents\\\\Calvin\\\\MyProjects\\\\datasets\\\\EmotionDataset\\\\Angry\\\\16414.jpg',\n",
       " 'C:\\\\Users\\\\taij\\\\Documents\\\\Calvin\\\\MyProjects\\\\datasets\\\\EmotionDataset\\\\Angry\\\\16424.jpg',\n",
       " 'C:\\\\Users\\\\taij\\\\Documents\\\\Calvin\\\\MyProjects\\\\datasets\\\\EmotionDataset\\\\Angry\\\\16428.jpg',\n",
       " 'C:\\\\Users\\\\taij\\\\Documents\\\\Calvin\\\\MyProjects\\\\datasets\\\\EmotionDataset\\\\Angry\\\\16439.jpg',\n",
       " 'C:\\\\Users\\\\taij\\\\Documents\\\\Calvin\\\\MyProjects\\\\datasets\\\\EmotionDataset\\\\Angry\\\\16468.jpg',\n",
       " 'C:\\\\Users\\\\taij\\\\Documents\\\\Calvin\\\\MyProjects\\\\datasets\\\\EmotionDataset\\\\Angry\\\\1647.jpg',\n",
       " 'C:\\\\Users\\\\taij\\\\Documents\\\\Calvin\\\\MyProjects\\\\datasets\\\\EmotionDataset\\\\Angry\\\\16477.jpg',\n",
       " 'C:\\\\Users\\\\taij\\\\Documents\\\\Calvin\\\\MyProjects\\\\datasets\\\\EmotionDataset\\\\Angry\\\\16481.jpg',\n",
       " 'C:\\\\Users\\\\taij\\\\Documents\\\\Calvin\\\\MyProjects\\\\datasets\\\\EmotionDataset\\\\Angry\\\\16483.jpg',\n",
       " 'C:\\\\Users\\\\taij\\\\Documents\\\\Calvin\\\\MyProjects\\\\datasets\\\\EmotionDataset\\\\Angry\\\\16484.jpg',\n",
       " 'C:\\\\Users\\\\taij\\\\Documents\\\\Calvin\\\\MyProjects\\\\datasets\\\\EmotionDataset\\\\Angry\\\\16490.jpg',\n",
       " 'C:\\\\Users\\\\taij\\\\Documents\\\\Calvin\\\\MyProjects\\\\datasets\\\\EmotionDataset\\\\Angry\\\\16494.jpg',\n",
       " 'C:\\\\Users\\\\taij\\\\Documents\\\\Calvin\\\\MyProjects\\\\datasets\\\\EmotionDataset\\\\Angry\\\\16502.jpg',\n",
       " 'C:\\\\Users\\\\taij\\\\Documents\\\\Calvin\\\\MyProjects\\\\datasets\\\\EmotionDataset\\\\Angry\\\\16506.jpg',\n",
       " 'C:\\\\Users\\\\taij\\\\Documents\\\\Calvin\\\\MyProjects\\\\datasets\\\\EmotionDataset\\\\Angry\\\\1651.jpg',\n",
       " 'C:\\\\Users\\\\taij\\\\Documents\\\\Calvin\\\\MyProjects\\\\datasets\\\\EmotionDataset\\\\Angry\\\\16510.jpg',\n",
       " 'C:\\\\Users\\\\taij\\\\Documents\\\\Calvin\\\\MyProjects\\\\datasets\\\\EmotionDataset\\\\Angry\\\\16516.jpg',\n",
       " 'C:\\\\Users\\\\taij\\\\Documents\\\\Calvin\\\\MyProjects\\\\datasets\\\\EmotionDataset\\\\Angry\\\\16520.jpg',\n",
       " 'C:\\\\Users\\\\taij\\\\Documents\\\\Calvin\\\\MyProjects\\\\datasets\\\\EmotionDataset\\\\Angry\\\\16527.jpg',\n",
       " ...]"
      ]
     },
     "execution_count": 15,
     "metadata": {},
     "output_type": "execute_result"
    }
   ],
   "source": [
    "print(len(imagePaths))\n",
    "imagePaths"
   ]
  },
  {
   "cell_type": "code",
   "execution_count": 16,
   "metadata": {},
   "outputs": [
    {
     "data": {
      "image/png": "[encoded data removed]",
      "text/plain": [
       "<Figure size 864x576 with 3 Axes>"
      ]
     },
     "metadata": {
      "needs_background": "light"
     },
     "output_type": "display_data"
    }
   ],
   "source": [
    "import matplotlib.pyplot as plt\n",
    "plt.figure(figsize=(12, 8))\n",
    "plt.subplot(1, 3, 1)\n",
    "plt.imshow(img_to_array(load_img(imagePaths[0]))[:,:,0].reshape(48,48), cmap=plt.cm.gray)\n",
    "plt.subplot(1, 3, 2)\n",
    "plt.imshow(img_to_array(load_img(imagePaths[0]))[:,:,1].reshape(48,48), cmap=plt.cm.gray)\n",
    "plt.subplot(1, 3, 3)\n",
    "plt.imshow(img_to_array(load_img(imagePaths[0]))[:,:,2].reshape(48,48), cmap=plt.cm.gray)\n",
    "plt.show()"
   ]
  },
  {
   "cell_type": "code",
   "execution_count": 17,
   "metadata": {
    "scrolled": true
   },
   "outputs": [
    {
     "data": {
      "image/png": "[encoded data removed]",
      "text/plain": [
       "<Figure size 864x576 with 3 Axes>"
      ]
     },
     "metadata": {
      "needs_background": "light"
     },
     "output_type": "display_data"
    }
   ],
   "source": [
    "plt.figure(figsize=(12, 8))\n",
    "plt.subplot(1, 3, 1)\n",
    "plt.imshow(img_to_array(load_img(imagePaths[35886]))[:,:,0].reshape(48,48), cmap=plt.cm.gray)\n",
    "plt.subplot(1, 3, 2)\n",
    "plt.imshow(img_to_array(load_img(imagePaths[35886]))[:,:,1].reshape(48,48), cmap=plt.cm.gray)\n",
    "plt.subplot(1, 3, 3)\n",
    "plt.imshow(img_to_array(load_img(imagePaths[35886]))[:,:,2].reshape(48,48), cmap=plt.cm.gray)\n",
    "plt.show()"
   ]
  },
  {
   "cell_type": "code",
   "execution_count": 18,
   "metadata": {},
   "outputs": [],
   "source": [
    "# As you can see above, the images have three channels but the three channels are the same. Hence, no additional information is\n",
    "# given to us. Therefore, we will only take one channel and reshape them to (48,48). Note (48,48) is the height and width of the\n",
    "# images"
   ]
  },
  {
   "cell_type": "code",
   "execution_count": 19,
   "metadata": {
    "scrolled": true
   },
   "outputs": [
    {
     "data": {
      "text/plain": [
       "array([[ 29.,  25.,  21., ...,  38.,  45.,  37.],\n",
       "       [ 31.,  24.,  20., ...,  36.,  36.,  40.],\n",
       "       [ 28.,  21.,  21., ...,  35.,  32.,  40.],\n",
       "       ...,\n",
       "       [ 28.,  29.,  26., ..., 118., 137., 148.],\n",
       "       [ 30.,  30.,  26., ..., 151., 158., 164.],\n",
       "       [ 32.,  30.,  27., ..., 174., 173., 174.]], dtype=float32)"
      ]
     },
     "execution_count": 19,
     "metadata": {},
     "output_type": "execute_result"
    }
   ],
   "source": [
    "img_to_array(load_img(imagePaths[2]))[:,:,1].reshape(48,48)"
   ]
  },
  {
   "cell_type": "code",
   "execution_count": 20,
   "metadata": {},
   "outputs": [],
   "source": [
    "for imagePath in imagePaths:\n",
    "    # extract the class label from the filename\n",
    "    label = imagePath.split(os.path.sep)[-2]\n",
    "\n",
    "    # load the input image (48x48) and preprocess it\n",
    "    image = load_img(imagePath, target_size=(48,48))\n",
    "    image = img_to_array(image)\n",
    "    \n",
    "    # update the data and labels lists, respectively\n",
    "    data.append(image)\n",
    "    labels.append(label)\n",
    "\n",
    "# convert the data and labels to NumPy arrays\n",
    "data = np.array(data, dtype=\"float32\")\n",
    "labels = np.array(labels)"
   ]
  },
  {
   "cell_type": "code",
   "execution_count": 21,
   "metadata": {},
   "outputs": [
    {
     "data": {
      "text/plain": [
       "array(['Angry', 'Angry', 'Angry', ..., 'Surprise', 'Surprise', 'Surprise'],\n",
       "      dtype='<U8')"
      ]
     },
     "execution_count": 21,
     "metadata": {},
     "output_type": "execute_result"
    }
   ],
   "source": [
    "labels"
   ]
  },
  {
   "cell_type": "code",
   "execution_count": 22,
   "metadata": {},
   "outputs": [
    {
     "name": "stdout",
     "output_type": "stream",
     "text": [
      "0\n",
      "4953\n",
      "5500\n",
      "10621\n",
      "19610\n",
      "25808\n",
      "31885\n"
     ]
    },
    {
     "data": {
      "image/png": "[encoded data removed]",
      "text/plain": [
       "<Figure size 864x576 with 7 Axes>"
      ]
     },
     "metadata": {
      "needs_background": "light"
     },
     "output_type": "display_data"
    }
   ],
   "source": [
    "idx0, idx1, idx2, idx3, idx4, idx5, idx6 = 0,0,0,0,0,0,0\n",
    "for string in labels:\n",
    "    if string == 'Angry':\n",
    "        print(idx0)\n",
    "        break\n",
    "    idx0 += 1\n",
    "for string in labels:\n",
    "    if string == 'Disgust':\n",
    "        print(idx1)\n",
    "        break\n",
    "    idx1 += 1\n",
    "for string in labels:\n",
    "    if string == 'Fear':\n",
    "        print(idx2)\n",
    "        break\n",
    "    idx2 += 1\n",
    "for string in labels:\n",
    "    if string == 'Happy':\n",
    "        print(idx3)\n",
    "        break\n",
    "    idx3 += 1\n",
    "for string in labels:\n",
    "    if string == 'Neutral':\n",
    "        print(idx4)\n",
    "        break\n",
    "    idx4 += 1\n",
    "for string in labels:\n",
    "    if string == 'Sad':\n",
    "        print(idx5)\n",
    "        break\n",
    "    idx5 += 1\n",
    "for string in labels:\n",
    "    if string == 'Surprise':\n",
    "        print(idx6)\n",
    "        break\n",
    "    idx6 += 1\n",
    "plt.figure(figsize=(12, 8))\n",
    "plt.subplot(3, 3, 1)\n",
    "plt.title(\"Angry\")\n",
    "plt.imshow(img_to_array(load_img(imagePaths[idx0]))[:,:,0].reshape(48,48), cmap=plt.cm.gray)\n",
    "plt.subplot(3, 3, 2)\n",
    "plt.title(\"Disgust\")\n",
    "plt.imshow(img_to_array(load_img(imagePaths[idx1]))[:,:,1].reshape(48,48), cmap=plt.cm.gray)\n",
    "plt.subplot(3, 3, 3)\n",
    "plt.title(\"Fear\")\n",
    "plt.imshow(img_to_array(load_img(imagePaths[idx2]))[:,:,2].reshape(48,48), cmap=plt.cm.gray)\n",
    "plt.subplot(3, 3, 4)\n",
    "plt.title(\"Happy\")\n",
    "plt.imshow(img_to_array(load_img(imagePaths[idx3]))[:,:,0].reshape(48,48), cmap=plt.cm.gray)\n",
    "plt.subplot(3, 3, 5)\n",
    "plt.title(\"Neutral\")\n",
    "plt.imshow(img_to_array(load_img(imagePaths[idx4]))[:,:,1].reshape(48,48), cmap=plt.cm.gray)\n",
    "plt.subplot(3, 3, 6)\n",
    "plt.title(\"Sad\")\n",
    "plt.imshow(img_to_array(load_img(imagePaths[idx5]))[:,:,2].reshape(48,48), cmap=plt.cm.gray)\n",
    "plt.subplot(3, 3, 7)\n",
    "plt.title(\"Surprise\")\n",
    "plt.imshow(img_to_array(load_img(imagePaths[idx6]))[:,:,0].reshape(48,48), cmap=plt.cm.gray)\n",
    "plt.show()"
   ]
  },
  {
   "cell_type": "code",
   "execution_count": 23,
   "metadata": {},
   "outputs": [
    {
     "name": "stdout",
     "output_type": "stream",
     "text": [
      "[['Angry' '4953']\n",
      " ['Disgust' '547']\n",
      " ['Fear' '5121']\n",
      " ['Happy' '8989']\n",
      " ['Neutral' '6198']\n",
      " ['Sad' '6077']\n",
      " ['Surprise' '4002']]\n"
     ]
    }
   ],
   "source": [
    "(unique, counts) = np.unique(labels, return_counts=True)\n",
    "frequencies = np.asarray((unique, counts)).T\n",
    "print(frequencies)"
   ]
  },
  {
   "cell_type": "code",
   "execution_count": 24,
   "metadata": {},
   "outputs": [],
   "source": [
    "from sklearn.preprocessing import OrdinalEncoder\n",
    "ordinal_encoder = OrdinalEncoder()\n",
    "oElabels = ordinal_encoder.fit_transform(labels.reshape(-1, 1))"
   ]
  },
  {
   "cell_type": "code",
   "execution_count": 25,
   "metadata": {},
   "outputs": [
    {
     "data": {
      "text/plain": [
       "array([[0.],\n",
       "       [0.],\n",
       "       [0.],\n",
       "       ...,\n",
       "       [6.],\n",
       "       [6.],\n",
       "       [6.]])"
      ]
     },
     "execution_count": 25,
     "metadata": {},
     "output_type": "execute_result"
    }
   ],
   "source": [
    "oElabels"
   ]
  },
  {
   "cell_type": "code",
   "execution_count": 26,
   "metadata": {},
   "outputs": [],
   "source": [
    "(trainX, testX, trainY, testY) = train_test_split(data, oElabels, test_size=0.10, stratify=oElabels, shuffle=True,random_state=42)"
   ]
  },
  {
   "cell_type": "code",
   "execution_count": 27,
   "metadata": {},
   "outputs": [
    {
     "name": "stdout",
     "output_type": "stream",
     "text": [
      "(32298, 48, 48, 3)\n",
      "(3589, 48, 48, 3)\n",
      "(32298, 1)\n",
      "(3589, 1)\n"
     ]
    }
   ],
   "source": [
    "print(trainX.shape)\n",
    "print(testX.shape)\n",
    "print(trainY.shape)\n",
    "print(testY.shape)"
   ]
  },
  {
   "cell_type": "code",
   "execution_count": 28,
   "metadata": {},
   "outputs": [],
   "source": [
    "trainY = trainY.flatten()\n",
    "testY = testY.flatten()"
   ]
  },
  {
   "cell_type": "code",
   "execution_count": 29,
   "metadata": {},
   "outputs": [
    {
     "name": "stdout",
     "output_type": "stream",
     "text": [
      "(32298, 48, 48, 3)\n",
      "(3589, 48, 48, 3)\n",
      "(32298,)\n",
      "(3589,)\n"
     ]
    }
   ],
   "source": [
    "print(trainX.shape)\n",
    "print(testX.shape)\n",
    "print(trainY.shape)\n",
    "print(testY.shape)"
   ]
  },
  {
   "cell_type": "code",
   "execution_count": 30,
   "metadata": {},
   "outputs": [],
   "source": [
    "# We only need one channel of the three since stacked gray images do not provide extra information\n",
    "trainX1 = trainX[:,:,:,0][...,np.newaxis]\n",
    "testX1 = testX[:,:,:,0][...,np.newaxis]"
   ]
  },
  {
   "cell_type": "code",
   "execution_count": 31,
   "metadata": {
    "scrolled": true
   },
   "outputs": [
    {
     "name": "stdout",
     "output_type": "stream",
     "text": [
      "(32298, 48, 48, 1)\n",
      "(3589, 48, 48, 1)\n",
      "(32298,)\n",
      "(3589,)\n"
     ]
    }
   ],
   "source": [
    "print(trainX1.shape)\n",
    "print(testX1.shape)\n",
    "print(trainY.shape)\n",
    "print(testY.shape)\n",
    "# Below is the form factor we want for the matrices"
   ]
  },
  {
   "cell_type": "code",
   "execution_count": 32,
   "metadata": {},
   "outputs": [
    {
     "data": {
      "text/plain": [
       "array([  0.,   1.,   2.,   3.,   4.,   5.,   6.,   7.,   8.,   9.,  10.,\n",
       "        11.,  12.,  13.,  14.,  15.,  16.,  17.,  18.,  19.,  20.,  21.,\n",
       "        22.,  23.,  24.,  25.,  26.,  27.,  28.,  29.,  30.,  31.,  32.,\n",
       "        33.,  34.,  35.,  36.,  37.,  38.,  39.,  40.,  41.,  42.,  43.,\n",
       "        44.,  45.,  46.,  47.,  48.,  49.,  50.,  51.,  52.,  53.,  54.,\n",
       "        55.,  56.,  57.,  58.,  59.,  60.,  61.,  62.,  63.,  64.,  65.,\n",
       "        66.,  67.,  68.,  69.,  70.,  71.,  72.,  73.,  74.,  75.,  76.,\n",
       "        77.,  78.,  79.,  80.,  81.,  82.,  83.,  84.,  85.,  86.,  87.,\n",
       "        88.,  89.,  90.,  91.,  92.,  93.,  94.,  95.,  96.,  97.,  98.,\n",
       "        99., 100., 101., 102., 103., 104., 105., 106., 107., 108., 109.,\n",
       "       110., 111., 112., 113., 114., 115., 116., 117., 118., 119., 120.,\n",
       "       121., 122., 123., 124., 125., 126., 127., 128., 129., 130., 131.,\n",
       "       132., 133., 134., 135., 136., 137., 138., 139., 140., 141., 142.,\n",
       "       143., 144., 145., 146., 147., 148., 149., 150., 151., 152., 153.,\n",
       "       154., 155., 156., 157., 158., 159., 160., 161., 162., 163., 164.,\n",
       "       165., 166., 167., 168., 169., 170., 171., 172., 173., 174., 175.,\n",
       "       176., 177., 178., 179., 180., 181., 182., 183., 184., 185., 186.,\n",
       "       187., 188., 189., 190., 191., 192., 193., 194., 195., 196., 197.,\n",
       "       198., 199., 200., 201., 202., 203., 204., 205., 206., 207., 208.,\n",
       "       209., 210., 211., 212., 213., 214., 215., 216., 217., 218., 219.,\n",
       "       220., 221., 222., 223., 224., 225., 226., 227., 228., 229., 230.,\n",
       "       231., 232., 233., 234., 235., 236., 237., 238., 239., 240., 241.,\n",
       "       242., 243., 244., 245., 246., 247., 248., 249., 250., 251., 252.,\n",
       "       253., 254., 255.], dtype=float32)"
      ]
     },
     "execution_count": 32,
     "metadata": {},
     "output_type": "execute_result"
    }
   ],
   "source": [
    "np.unique(trainX1)"
   ]
  },
  {
   "cell_type": "code",
   "execution_count": 33,
   "metadata": {},
   "outputs": [],
   "source": [
    "# Scaling is always a good idea, to help with training\n",
    "X1_mean = trainX1.mean(axis=0, keepdims=True)\n",
    "X1_std = trainX1.std(axis=0, keepdims=True) + 1e-7 # avoid division by zero\n",
    "trainX1 = (trainX1 - X1_mean) / X1_std\n",
    "testX1 = (testX1 - X1_mean) / X1_std"
   ]
  },
  {
   "cell_type": "code",
   "execution_count": 34,
   "metadata": {},
   "outputs": [
    {
     "name": "stdout",
     "output_type": "stream",
     "text": [
      "(1, 48, 48, 1)\n",
      "(1, 48, 48, 1)\n"
     ]
    }
   ],
   "source": [
    "print(X1_mean.shape)\n",
    "print(X1_std.shape)"
   ]
  },
  {
   "cell_type": "code",
   "execution_count": 35,
   "metadata": {},
   "outputs": [
    {
     "data": {
      "text/plain": [
       "array([-3.4335093, -3.4248273, -3.4201741, ...,  2.4446962,  2.4462457,\n",
       "        2.4491885], dtype=float32)"
      ]
     },
     "execution_count": 35,
     "metadata": {},
     "output_type": "execute_result"
    }
   ],
   "source": [
    "np.unique(trainX1) # Looks reasonable (centered at 0 with some std)"
   ]
  },
  {
   "cell_type": "code",
   "execution_count": 36,
   "metadata": {},
   "outputs": [],
   "source": [
    "# To generate more data on the fly\n",
    "aug = ImageDataGenerator(\n",
    "    rotation_range=10,\n",
    "    zoom_range=0.1,\n",
    "    width_shift_range=0.1,\n",
    "    height_shift_range=0.1,\n",
    "    shear_range=0.1,\n",
    "    horizontal_flip=True,\n",
    "    fill_mode=\"nearest\")"
   ]
  },
  {
   "cell_type": "code",
   "execution_count": null,
   "metadata": {},
   "outputs": [],
   "source": [
    "early_stopping_cb = keras.callbacks.EarlyStopping(monitor='val_loss',\n",
    "                                                  patience=30, # Early stop if there's no more significant improvement on the val_set for 30 epochs\n",
    "                                                  restore_best_weights=True)\n",
    "checkpoint_cb = keras.callbacks.ModelCheckpoint(\"models/my_CNN_emotion_checkpoint.h5\", \n",
    "                                                verbose=2, \n",
    "                                                save_best_only=True,\n",
    "                                                save_weights_only=True,\n",
    "                                                monitor='val_accuracy') # save it to my_CNN_emotion_checkpoint.h5. Why save? in case computer crashes"
   ]
  },
  {
   "cell_type": "code",
   "execution_count": null,
   "metadata": {},
   "outputs": [],
   "source": [
    "# Since we can't use a pre-trained model, we hereby build our own resNet-34 for 48x48x1. Credit goes to Aurelien geron"
   ]
  },
  {
   "cell_type": "code",
   "execution_count": null,
   "metadata": {},
   "outputs": [],
   "source": [
    "from functools import partial\n",
    "DefaultConv2D = partial(keras.layers.Conv2D, kernel_size=3, strides=1,\n",
    "                        padding=\"SAME\", use_bias=False)\n",
    "\n",
    "class ResidualUnit(keras.layers.Layer):\n",
    "    def __init__(self, filters, strides=1, activation=\"relu\", **kwargs):\n",
    "        super().__init__(**kwargs)\n",
    "        self.activation = keras.activations.get(activation)\n",
    "        self.main_layers = [\n",
    "            DefaultConv2D(filters, strides=strides),\n",
    "            keras.layers.BatchNormalization(),\n",
    "            self.activation,\n",
    "            DefaultConv2D(filters),\n",
    "            keras.layers.BatchNormalization()]\n",
    "        self.skip_layers = []\n",
    "        if strides > 1:\n",
    "            self.skip_layers = [\n",
    "                DefaultConv2D(filters, kernel_size=1, strides=strides),\n",
    "                keras.layers.BatchNormalization()]\n",
    "    \n",
    "    def call(self, inputs):\n",
    "        Z = inputs\n",
    "        for layer in self.main_layers:\n",
    "            Z = layer(Z)\n",
    "        skip_Z = inputs\n",
    "        for layer in self.skip_layers:\n",
    "            skip_Z = layer(skip_Z)\n",
    "        return self.activation(Z + skip_Z)\n",
    "    \n",
    "    def get_config(self):\n",
    "        base_config = super().get_config()\n",
    "        return {**base_config, \n",
    "                \"main_layers\": self.main_layers,\n",
    "                \"skip_layers\": self.skip_layers,\n",
    "                 \"activation\": keras.activations.serialize(self.activation)}"
   ]
  },
  {
   "cell_type": "code",
   "execution_count": null,
   "metadata": {},
   "outputs": [],
   "source": [
    "# Note that the input shape is (48,48,1), architecture picture: https://towardsdatascience.com/understanding-and-visualizing-resnets-442284831be8\n",
    "model = keras.models.Sequential()\n",
    "model.add(DefaultConv2D(64, kernel_size=7, strides=2,\n",
    "                        input_shape=[48, 48, 1]))\n",
    "model.add(keras.layers.BatchNormalization())\n",
    "model.add(keras.layers.Activation(\"relu\"))\n",
    "model.add(keras.layers.MaxPool2D(pool_size=3, strides=2, padding=\"SAME\"))\n",
    "prev_filters = 64\n",
    "for filters in [64] * 3 + [128] * 4 + [256] * 6 + [512] * 3:\n",
    "    strides = 1 if filters == prev_filters else 2\n",
    "    model.add(ResidualUnit(filters, strides=strides))  # Note that the number of feature maps is doubled every few residual units, at the same time as their height and width are halved (using a convolutional layer with stride 2)\n",
    "    prev_filters = filters\n",
    "model.add(keras.layers.GlobalAvgPool2D())\n",
    "model.add(keras.layers.Flatten())\n",
    "model.add(keras.layers.Dense(7, activation=\"softmax\")) # there are 7 emotions"
   ]
  },
  {
   "cell_type": "code",
   "execution_count": null,
   "metadata": {},
   "outputs": [],
   "source": [
    "model.summary()"
   ]
  },
  {
   "cell_type": "code",
   "execution_count": null,
   "metadata": {},
   "outputs": [],
   "source": [
    "tf.keras.backend.clear_session() # Destroys the current TF graph and session, and creates a new one"
   ]
  },
  {
   "cell_type": "code",
   "execution_count": null,
   "metadata": {
    "scrolled": true
   },
   "outputs": [],
   "source": [
    "# If you face GPU memory issue, you need to free up the GPU memory. There are many solutions for LINUX. On windows, you simply have to\n",
    "# go to device manager, under \"Display adapters\", disable and enable the GPU card.\n",
    "model.compile(loss=\"sparse_categorical_crossentropy\", optimizer=\"nadam\", metrics=[\"accuracy\"]) # sparse_categorical_crossentropy because trainY is not one-hot\n",
    "history = model.fit(aug.flow(trainX1, trainY, batch_size=BS), # fits the model on batches with real-time data augmentation: returns an iterator yielding tuples of (x,y)\n",
    "                    steps_per_epoch=len(trainX1) // BS, # Number of batches to use for training from the generator in one epoch\n",
    "                    validation_data=(testX1, testY),\n",
    "                    validation_steps=len(testX1) // BS, # Number of batches to use for validation in one epoch\n",
    "                    callbacks=[early_stopping_cb,checkpoint_cb],\n",
    "                    epochs=EPOCHS)"
   ]
  },
  {
   "cell_type": "code",
   "execution_count": null,
   "metadata": {},
   "outputs": [],
   "source": [
    "score = model.evaluate(testX1, testY)\n",
    "print(score)\n",
    "# Got [0.9790992784148042, 0.63806075] for ['loss', 'accuracy']"
   ]
  },
  {
   "cell_type": "code",
   "execution_count": null,
   "metadata": {},
   "outputs": [],
   "source": [
    "model.metrics_names"
   ]
  },
  {
   "cell_type": "code",
   "execution_count": null,
   "metadata": {},
   "outputs": [],
   "source": [
    "predictions = model.predict(testX1, batch_size=BS)\n",
    "print(predictions.shape)"
   ]
  },
  {
   "cell_type": "code",
   "execution_count": null,
   "metadata": {},
   "outputs": [],
   "source": [
    "predIdxs = np.argmax(predictions, axis=1)\n",
    "print(predIdxs.shape)\n",
    "print(predIdxs)\n",
    "print(testY)"
   ]
  },
  {
   "cell_type": "code",
   "execution_count": null,
   "metadata": {},
   "outputs": [],
   "source": [
    "(unique, counts) = np.unique(predIdxs, return_counts=True)\n",
    "frequencies = np.asarray((unique, counts)).T\n",
    "print(frequencies)"
   ]
  },
  {
   "cell_type": "code",
   "execution_count": null,
   "metadata": {},
   "outputs": [],
   "source": [
    "(unique, counts) = np.unique(testY, return_counts=True)\n",
    "frequencies = np.asarray((unique, counts)).T\n",
    "print(frequencies)"
   ]
  },
  {
   "cell_type": "code",
   "execution_count": null,
   "metadata": {},
   "outputs": [],
   "source": [
    "print(classification_report(testY, predIdxs))"
   ]
  },
  {
   "cell_type": "code",
   "execution_count": null,
   "metadata": {},
   "outputs": [],
   "source": [
    "model.save_weights(\"models/my_custom_CNN_emotion_model_weights\")"
   ]
  },
  {
   "cell_type": "code",
   "execution_count": null,
   "metadata": {},
   "outputs": [],
   "source": [
    "# plot the training loss and accuracy\n",
    "N = len(history.history[\"loss\"])\n",
    "plt.style.use(\"ggplot\")\n",
    "plt.figure()\n",
    "plt.plot(np.arange(0, N), history.history[\"loss\"], label=\"train_loss\")\n",
    "plt.plot(np.arange(0, N), history.history[\"val_loss\"], label=\"val_loss\")\n",
    "plt.plot(np.arange(0, N), history.history[\"accuracy\"], label=\"train_acc\")\n",
    "plt.plot(np.arange(0, N), history.history[\"val_accuracy\"], label=\"val_acc\")\n",
    "plt.title(\"Training Loss and Accuracy\")\n",
    "plt.xlabel(\"Epoch #\")\n",
    "plt.ylabel(\"Loss/Accuracy\")\n",
    "plt.legend(loc=\"upper right\")\n",
    "plt.savefig(\"plots/my_emotion_plot\")\n",
    "# Is it reasonable? Yes, because train_loss keeps decreaing, train_val keeps increasing, whereas val_loss and val_acc seem to have\n",
    "# plateaued"
   ]
  },
  {
   "cell_type": "markdown",
   "metadata": {},
   "source": [
    "Below we attempt to load the model"
   ]
  },
  {
   "cell_type": "code",
   "execution_count": null,
   "metadata": {},
   "outputs": [],
   "source": [
    "def create_model(weightsPath):\n",
    "    # Note that the input shape is 48x48x1\n",
    "    Rmodel = keras.models.Sequential()\n",
    "    Rmodel.add(DefaultConv2D(64, kernel_size=7, strides=2,\n",
    "                            input_shape=[48, 48, 1]))\n",
    "    Rmodel.add(keras.layers.BatchNormalization())\n",
    "    Rmodel.add(keras.layers.Activation(\"relu\"))\n",
    "    Rmodel.add(keras.layers.MaxPool2D(pool_size=3, strides=2, padding=\"SAME\"))\n",
    "    prev_filters = 64\n",
    "    for filters in [64] * 3 + [128] * 4 + [256] * 6 + [512] * 3:\n",
    "        strides = 1 if filters == prev_filters else 2\n",
    "        Rmodel.add(ResidualUnit(filters, strides=strides))\n",
    "        prev_filters = filters\n",
    "    Rmodel.add(keras.layers.GlobalAvgPool2D())\n",
    "    Rmodel.add(keras.layers.Flatten())\n",
    "    Rmodel.add(keras.layers.Dense(7, activation=\"softmax\"))\n",
    "    Rmodel.load_weights(weightsPath)\n",
    "    return Rmodel"
   ]
  },
  {
   "cell_type": "code",
   "execution_count": null,
   "metadata": {},
   "outputs": [],
   "source": [
    "restoredModel = create_model(\"models/my_custom_CNN_emotion_model_weights.h5\")"
   ]
  },
  {
   "cell_type": "code",
   "execution_count": null,
   "metadata": {},
   "outputs": [],
   "source": [
    "restoredModel.summary()"
   ]
  },
  {
   "cell_type": "code",
   "execution_count": null,
   "metadata": {},
   "outputs": [],
   "source": [
    "restoredModel.compile(loss=\"sparse_categorical_crossentropy\", optimizer=\"nadam\", metrics=[\"accuracy\"])\n",
    "score = restoredModel.evaluate(testX1, testY)\n",
    "score\n",
    "# Got [0.9790992784148042, 0.63806075] for ['loss', 'accuracy']"
   ]
  },
  {
   "cell_type": "code",
   "execution_count": null,
   "metadata": {},
   "outputs": [],
   "source": [
    "predictions2 = restoredModel.predict(testX1, batch_size=BS)"
   ]
  },
  {
   "cell_type": "code",
   "execution_count": null,
   "metadata": {},
   "outputs": [],
   "source": [
    "predictions2 == predictions"
   ]
  },
  {
   "cell_type": "markdown",
   "metadata": {},
   "source": [
    "Above is how we can train a custom model. Now, let's try to train a model using transfer learning! The Y's (targets) have to be one-hot encoded to achieve higher accuracy! Not sure why... (Use one-hot Y's and categorical_crossentropy rather then sparse Y's and sparse_categorical_crossentropy)"
   ]
  },
  {
   "cell_type": "code",
   "execution_count": null,
   "metadata": {},
   "outputs": [],
   "source": [
    "# MobileNets support any input size greater than 32 x 32, with larger image sizes offering better performance.\n",
    "base_model = tf.keras.applications.MobileNetV2(input_shape=(48, 48, 3),\n",
    "                                               include_top=False,\n",
    "                                               weights='imagenet')\n",
    "avg = keras.layers.GlobalAveragePooling2D()(base_model.output)\n",
    "output = keras.layers.Dense(7, activation=\"softmax\")(avg)\n",
    "modelMobileNetV2 = keras.models.Model(inputs=base_model.input, outputs=output)"
   ]
  },
  {
   "cell_type": "code",
   "execution_count": null,
   "metadata": {},
   "outputs": [],
   "source": [
    "# We need 3 channels for MobileNetV2\n",
    "print(trainX.shape)\n",
    "print(testX.shape)\n",
    "print(trainY.shape)\n",
    "print(testY.shape)"
   ]
  },
  {
   "cell_type": "code",
   "execution_count": null,
   "metadata": {},
   "outputs": [],
   "source": [
    "trainX2 = np.copy(trainX)\n",
    "testX2 = np.copy(testX)\n",
    "trainX2 = tf.keras.applications.mobilenet_v2.preprocess_input(trainX2)\n",
    "testX2 = tf.keras.applications.mobilenet_v2.preprocess_input(testX2)"
   ]
  },
  {
   "cell_type": "code",
   "execution_count": 37,
   "metadata": {},
   "outputs": [
    {
     "name": "stderr",
     "output_type": "stream",
     "text": [
      "c:\\users\\taij\\documents\\calvin\\myprojects\\env\\lib\\site-packages\\sklearn\\preprocessing\\_encoders.py:415: FutureWarning: The handling of integer data will change in version 0.22. Currently, the categories are determined based on the range [0, max(values)], while in the future they will be determined based on the unique values.\n",
      "If you want the future behaviour and silence this warning, you can specify \"categories='auto'\".\n",
      "In case you used a LabelEncoder before this OneHotEncoder to convert the categories to integers, then you can now use the OneHotEncoder directly.\n",
      "  warnings.warn(msg, FutureWarning)\n",
      "c:\\users\\taij\\documents\\calvin\\myprojects\\env\\lib\\site-packages\\sklearn\\preprocessing\\_encoders.py:415: FutureWarning: The handling of integer data will change in version 0.22. Currently, the categories are determined based on the range [0, max(values)], while in the future they will be determined based on the unique values.\n",
      "If you want the future behaviour and silence this warning, you can specify \"categories='auto'\".\n",
      "In case you used a LabelEncoder before this OneHotEncoder to convert the categories to integers, then you can now use the OneHotEncoder directly.\n",
      "  warnings.warn(msg, FutureWarning)\n"
     ]
    }
   ],
   "source": [
    "from sklearn.preprocessing import OneHotEncoder\n",
    "encoder = OneHotEncoder()\n",
    "trainY1 = np.copy(trainY)\n",
    "trainY1 = encoder.fit_transform(trainY1.reshape(-1, 1))\n",
    "testY1 = np.copy(testY)\n",
    "testY1 = encoder.fit_transform(testY1.reshape(-1, 1))"
   ]
  },
  {
   "cell_type": "code",
   "execution_count": null,
   "metadata": {},
   "outputs": [],
   "source": [
    "# We need 3 channels for MobileNetV2\n",
    "print(trainX2.shape)\n",
    "print(testX2.shape)\n",
    "print(trainY1.shape)\n",
    "print(testY1.shape)"
   ]
  },
  {
   "cell_type": "code",
   "execution_count": null,
   "metadata": {},
   "outputs": [],
   "source": [
    "early_stopping_cb = keras.callbacks.EarlyStopping(monitor='val_loss',\n",
    "                                                  patience=15, # Early stop if there's no more significant improvement on the val_set for 30 epochs\n",
    "                                                  restore_best_weights=True)\n",
    "checkpoint_cb = keras.callbacks.ModelCheckpoint(\"models/my_transfer_CNN_emotion_checkpoint_MobileNetV2.h5\", \n",
    "                                                verbose=2, \n",
    "                                                save_best_only=True,\n",
    "                                                save_weights_only=True,\n",
    "                                                monitor='val_accuracy') # save it to my_CNN_emotion_checkpoint.h5. Why save? in case computer crashes"
   ]
  },
  {
   "cell_type": "code",
   "execution_count": null,
   "metadata": {
    "scrolled": true
   },
   "outputs": [],
   "source": [
    "# Train the last layers\n",
    "for layer in base_model.layers:\n",
    "    layer.trainable = False\n",
    "modelMobileNetV2.compile(loss=\"categorical_crossentropy\", optimizer=\"nadam\",\n",
    "              metrics=[\"accuracy\"])\n",
    "history1 = modelMobileNetV2.fit(aug.flow(trainX2, trainY1.toarray(), batch_size=BS), # fits the model on batches with real-time data augmentation: returns an iterator yielding tuples of (x,y)\n",
    "                    steps_per_epoch=len(trainX2) // BS, # Number of batches to use for training from the generator in one epoch\n",
    "                    validation_data=(testX2, testY1.toarray()),\n",
    "                    validation_steps=len(testX2) // BS, # Number of batches to use for validation in one epoch\n",
    "                    callbacks=[early_stopping_cb,checkpoint_cb],\n",
    "                    epochs=EPOCHS)"
   ]
  },
  {
   "cell_type": "code",
   "execution_count": null,
   "metadata": {},
   "outputs": [],
   "source": [
    "modelMobileNetV2.load_weights(\"models/my_transfer_CNN_emotion_checkpoint_MobileNetV2.h5\")"
   ]
  },
  {
   "cell_type": "code",
   "execution_count": null,
   "metadata": {
    "scrolled": true
   },
   "outputs": [],
   "source": [
    "for layer in base_model.layers:\n",
    "    layer.trainable = True\n",
    "modelMobileNetV2.compile(loss=\"categorical_crossentropy\", optimizer=\"nadam\",\n",
    "              metrics=[\"accuracy\"])\n",
    "history1 = modelMobileNetV2.fit(aug.flow(trainX2, trainY1.toarray(), batch_size=BS), # fits the model on batches with real-time data augmentation: returns an iterator yielding tuples of (x,y)\n",
    "                    steps_per_epoch=len(trainX2) // BS, # Number of batches to use for training from the generator in one epoch\n",
    "                    validation_data=(testX2, testY1.toarray()),\n",
    "                    validation_steps=len(testX2) // BS, # Number of batches to use for validation in one epoch\n",
    "                    callbacks=[early_stopping_cb,checkpoint_cb],\n",
    "                    epochs=EPOCHS)"
   ]
  },
  {
   "cell_type": "code",
   "execution_count": null,
   "metadata": {},
   "outputs": [],
   "source": [
    "score = modelMobileNetV2.evaluate(testX2, testY1.toarray())\n",
    "print(score)\n",
    "# Got [1.078829764638913, 0.621343] for ['loss', 'accuracy']"
   ]
  },
  {
   "cell_type": "code",
   "execution_count": null,
   "metadata": {},
   "outputs": [],
   "source": [
    "predictions = modelMobileNetV2.predict(testX2, batch_size=BS)\n",
    "print(predictions.shape)"
   ]
  },
  {
   "cell_type": "code",
   "execution_count": null,
   "metadata": {},
   "outputs": [],
   "source": [
    "predIdxs = np.argmax(predictions, axis=1)\n",
    "print(predIdxs.shape)\n",
    "print(predIdxs)\n",
    "print(testY)"
   ]
  },
  {
   "cell_type": "code",
   "execution_count": null,
   "metadata": {},
   "outputs": [],
   "source": [
    "(unique, counts) = np.unique(predIdxs, return_counts=True)\n",
    "frequencies = np.asarray((unique, counts)).T\n",
    "print(frequencies)"
   ]
  },
  {
   "cell_type": "code",
   "execution_count": null,
   "metadata": {},
   "outputs": [],
   "source": [
    "(unique, counts) = np.unique(testY, return_counts=True)\n",
    "frequencies = np.asarray((unique, counts)).T\n",
    "print(frequencies)"
   ]
  },
  {
   "cell_type": "code",
   "execution_count": null,
   "metadata": {
    "scrolled": false
   },
   "outputs": [],
   "source": [
    "print(classification_report(testY, predIdxs))"
   ]
  },
  {
   "cell_type": "code",
   "execution_count": null,
   "metadata": {},
   "outputs": [],
   "source": [
    "modelMobileNetV2.save_weights(\"models/my_custom_CNN_emotion_model_weights_MobileNetV2.h5\")\n",
    "# To load: modelMobileNetV2.load_weights(\"models/my_custom_CNN_emotion_model_weights_MobileNetV2.h5\")"
   ]
  },
  {
   "cell_type": "code",
   "execution_count": null,
   "metadata": {},
   "outputs": [],
   "source": [
    "# plot the training loss and accuracy\n",
    "N = len(history1.history[\"loss\"])\n",
    "plt.style.use(\"ggplot\")\n",
    "plt.figure()\n",
    "plt.plot(np.arange(0, N), history1.history[\"loss\"], label=\"train_loss\")\n",
    "plt.plot(np.arange(0, N), history1.history[\"val_loss\"], label=\"val_loss\")\n",
    "plt.plot(np.arange(0, N), history1.history[\"accuracy\"], label=\"train_acc\")\n",
    "plt.plot(np.arange(0, N), history1.history[\"val_accuracy\"], label=\"val_acc\")\n",
    "plt.title(\"Training Loss and Accuracy\")\n",
    "plt.xlabel(\"Epoch #\")\n",
    "plt.ylabel(\"Loss/Accuracy\")\n",
    "plt.legend(loc=\"upper right\")\n",
    "plt.savefig(\"plots/my_emotion_plot_MobileNetV2\")\n",
    "# Is it reasonable? Yes, because train_loss keeps decreaing, train_val keeps increasing, whereas val_loss and val_acc seem to have\n",
    "# plateaued"
   ]
  },
  {
   "cell_type": "markdown",
   "metadata": {},
   "source": [
    "Try another model ----> ResNet152V2"
   ]
  },
  {
   "cell_type": "code",
   "execution_count": null,
   "metadata": {},
   "outputs": [],
   "source": [
    "# MobileNets support any input size greater than 32 x 32, with larger image sizes offering better performance.\n",
    "base_model = tf.keras.applications.ResNet152V2(input_shape=(48, 48, 3),\n",
    "                                               include_top=False,\n",
    "                                               weights='imagenet')\n",
    "avg = keras.layers.GlobalAveragePooling2D()(base_model.output)\n",
    "output = keras.layers.Dense(7, activation=\"softmax\")(avg)\n",
    "modelResNet152V2 = keras.models.Model(inputs=base_model.input, outputs=output)"
   ]
  },
  {
   "cell_type": "code",
   "execution_count": null,
   "metadata": {},
   "outputs": [],
   "source": [
    "early_stopping_cb = keras.callbacks.EarlyStopping(monitor='val_loss',\n",
    "                                                  patience=10, # Early stop if there's no more significant improvement on the val_set for 30 epochs\n",
    "                                                  restore_best_weights=True)\n",
    "checkpoint_cb = keras.callbacks.ModelCheckpoint(\"models/my_transfer_CNN_emotion_checkpoint_ResNet152V2.h5\", \n",
    "                                                verbose=2, \n",
    "                                                save_best_only=True,\n",
    "                                                save_weights_only=True,\n",
    "                                                monitor='val_accuracy') # save it to my_CNN_emotion_checkpoint.h5. Why save? in case computer crashes"
   ]
  },
  {
   "cell_type": "code",
   "execution_count": null,
   "metadata": {},
   "outputs": [],
   "source": [
    "trainX3 = np.copy(trainX)\n",
    "testX3 = np.copy(testX)\n",
    "trainX3 = tf.keras.applications.mobilenet_v2.preprocess_input(trainX3)\n",
    "testX3 = tf.keras.applications.mobilenet_v2.preprocess_input(testX3)"
   ]
  },
  {
   "cell_type": "code",
   "execution_count": null,
   "metadata": {
    "scrolled": true
   },
   "outputs": [],
   "source": [
    "for layer in base_model.layers:\n",
    "    layer.trainable = False\n",
    "modelResNet152V2.compile(loss=\"categorical_crossentropy\", optimizer=\"nadam\",\n",
    "              metrics=[\"accuracy\"])\n",
    "history2 = modelResNet152V2.fit(aug.flow(trainX3, trainY1.toarray(), batch_size=BS), # fits the model on batches with real-time data augmentation: returns an iterator yielding tuples of (x,y)\n",
    "                    steps_per_epoch=len(trainX3) // BS, # Number of batches to use for training from the generator in one epoch\n",
    "                    validation_data=(testX3, testY1.toarray()),\n",
    "                    validation_steps=len(testX3) // BS, # Number of batches to use for validation in one epoch\n",
    "                    callbacks=[early_stopping_cb,checkpoint_cb],\n",
    "                    epochs=EPOCHS)"
   ]
  },
  {
   "cell_type": "code",
   "execution_count": null,
   "metadata": {},
   "outputs": [],
   "source": [
    "modelResNet152V2.load_weights(\"models/my_transfer_CNN_emotion_checkpoint_ResNet152V2.h5\")"
   ]
  },
  {
   "cell_type": "code",
   "execution_count": null,
   "metadata": {
    "scrolled": true
   },
   "outputs": [],
   "source": [
    "for layer in base_model.layers:\n",
    "    layer.trainable = True\n",
    "modelResNet152V2.compile(loss=\"categorical_crossentropy\", optimizer=\"nadam\",\n",
    "              metrics=[\"accuracy\"])\n",
    "history2 = modelResNet152V2.fit(aug.flow(trainX3, trainY1.toarray(), batch_size=BS), # fits the model on batches with real-time data augmentation: returns an iterator yielding tuples of (x,y)\n",
    "                    steps_per_epoch=len(trainX3) // BS, # Number of batches to use for training from the generator in one epoch\n",
    "                    validation_data=(testX3, testY1.toarray()),\n",
    "                    validation_steps=len(testX3) // BS, # Number of batches to use for validation in one epoch\n",
    "                    callbacks=[early_stopping_cb,checkpoint_cb],\n",
    "                    epochs=EPOCHS)"
   ]
  },
  {
   "cell_type": "code",
   "execution_count": null,
   "metadata": {},
   "outputs": [],
   "source": [
    "score = modelResNet152V2.evaluate(testX3, testY1.toarray())\n",
    "print(score)\n",
    "# Got [1.0066966202538736, 0.63248813] for ['loss', 'accuracy']"
   ]
  },
  {
   "cell_type": "code",
   "execution_count": null,
   "metadata": {},
   "outputs": [],
   "source": [
    "predictions = modelResNet152V2.predict(testX3, batch_size=BS)\n",
    "print(predictions.shape)"
   ]
  },
  {
   "cell_type": "code",
   "execution_count": null,
   "metadata": {},
   "outputs": [],
   "source": [
    "predIdxs = np.argmax(predictions, axis=1)\n",
    "print(predIdxs.shape)\n",
    "print(predIdxs)\n",
    "print(testY)"
   ]
  },
  {
   "cell_type": "code",
   "execution_count": null,
   "metadata": {},
   "outputs": [],
   "source": [
    "(unique, counts) = np.unique(predIdxs, return_counts=True)\n",
    "frequencies = np.asarray((unique, counts)).T\n",
    "print(frequencies)"
   ]
  },
  {
   "cell_type": "code",
   "execution_count": null,
   "metadata": {},
   "outputs": [],
   "source": [
    "(unique, counts) = np.unique(testY, return_counts=True)\n",
    "frequencies = np.asarray((unique, counts)).T\n",
    "print(frequencies)"
   ]
  },
  {
   "cell_type": "code",
   "execution_count": null,
   "metadata": {},
   "outputs": [],
   "source": [
    "print(classification_report(testY, predIdxs))"
   ]
  },
  {
   "cell_type": "code",
   "execution_count": null,
   "metadata": {},
   "outputs": [],
   "source": [
    "modelResNet152V2.save_weights(\"models/my_custom_CNN_emotion_model_weights_ResNet152V2.h5\")\n",
    "# To load: modelResNet152V2.load_weights(\"models/my_custom_CNN_emotion_model_weights_ResNet152V2.h5\")"
   ]
  },
  {
   "cell_type": "code",
   "execution_count": null,
   "metadata": {},
   "outputs": [],
   "source": [
    "# plot the training loss and accuracy\n",
    "N = len(history2.history[\"loss\"])\n",
    "plt.style.use(\"ggplot\")\n",
    "plt.figure()\n",
    "plt.plot(np.arange(0, N), history2.history[\"loss\"], label=\"train_loss\")\n",
    "plt.plot(np.arange(0, N), history2.history[\"val_loss\"], label=\"val_loss\")\n",
    "plt.plot(np.arange(0, N), history2.history[\"accuracy\"], label=\"train_acc\")\n",
    "plt.plot(np.arange(0, N), history2.history[\"val_accuracy\"], label=\"val_acc\")\n",
    "plt.title(\"Training Loss and Accuracy\")\n",
    "plt.xlabel(\"Epoch #\")\n",
    "plt.ylabel(\"Loss/Accuracy\")\n",
    "plt.legend(loc=\"upper right\")\n",
    "plt.savefig(\"plots/my_emotion_plot_ResNet152V2\")\n",
    "# Is it reasonable? Yes, because train_loss keeps decreaing, train_val keeps increasing, whereas val_loss and val_acc seem to have\n",
    "# plateaued. Note that there are only 12 epochs shown because my computer crashed and I contineud training from a checkpoint. In\n",
    "# reality it is probably around 50 epochs"
   ]
  },
  {
   "cell_type": "markdown",
   "metadata": {},
   "source": [
    "Try Densenet121"
   ]
  },
  {
   "cell_type": "code",
   "execution_count": null,
   "metadata": {},
   "outputs": [],
   "source": [
    "# MobileNets support any input size greater than 32 x 32, with larger image sizes offering better performance.\n",
    "base_model = tf.keras.applications.DenseNet121(input_shape=(48, 48, 3),\n",
    "                                               include_top=False,\n",
    "                                               weights='imagenet')\n",
    "avg = keras.layers.GlobalAveragePooling2D()(base_model.output)\n",
    "output = keras.layers.Dense(7, activation=\"softmax\")(avg)\n",
    "DenseNet121 = keras.models.Model(inputs=base_model.input, outputs=output)"
   ]
  },
  {
   "cell_type": "code",
   "execution_count": null,
   "metadata": {},
   "outputs": [],
   "source": [
    "early_stopping_cb = keras.callbacks.EarlyStopping(monitor='val_loss',\n",
    "                                                  patience=10, # Early stop if there's no more significant improvement on the val_set for 30 epochs\n",
    "                                                  restore_best_weights=True)\n",
    "checkpoint_cb = keras.callbacks.ModelCheckpoint(\"models/my_transfer_CNN_emotion_checkpoint_DenseNet121.h5\", \n",
    "                                                verbose=2, \n",
    "                                                save_best_only=True,\n",
    "                                                save_weights_only=True,\n",
    "                                                monitor='val_accuracy') # save it to my_CNN_emotion_checkpoint.h5. Why save? in case computer crashes"
   ]
  },
  {
   "cell_type": "code",
   "execution_count": null,
   "metadata": {},
   "outputs": [],
   "source": [
    "trainX4 = np.copy(trainX)\n",
    "testX4 = np.copy(testX)\n",
    "trainX4 = tf.keras.applications.densenet.preprocess_input(trainX4)\n",
    "testX4 = tf.keras.applications.densenet.preprocess_input(testX4)"
   ]
  },
  {
   "cell_type": "code",
   "execution_count": null,
   "metadata": {
    "scrolled": true
   },
   "outputs": [],
   "source": [
    "for layer in base_model.layers:\n",
    "    layer.trainable = False\n",
    "DenseNet121.compile(loss=\"categorical_crossentropy\", optimizer=\"nadam\",\n",
    "              metrics=[\"accuracy\"])\n",
    "history3 = DenseNet121.fit(aug.flow(trainX4, trainY1.toarray(), batch_size=BS), # fits the model on batches with real-time data augmentation: returns an iterator yielding tuples of (x,y)\n",
    "                    steps_per_epoch=len(trainX4) // BS, # Number of batches to use for training from the generator in one epoch\n",
    "                    validation_data=(testX4, testY1.toarray()),\n",
    "                    validation_steps=len(testX4) // BS, # Number of batches to use for validation in one epoch\n",
    "                    callbacks=[early_stopping_cb,checkpoint_cb],\n",
    "                    epochs=EPOCHS)"
   ]
  },
  {
   "cell_type": "code",
   "execution_count": null,
   "metadata": {},
   "outputs": [],
   "source": [
    "DenseNet121.load_weights(\"models/my_transfer_CNN_emotion_checkpoint_DenseNet121.h5\")"
   ]
  },
  {
   "cell_type": "code",
   "execution_count": null,
   "metadata": {
    "scrolled": true
   },
   "outputs": [],
   "source": [
    "for layer in base_model.layers:\n",
    "    layer.trainable = True\n",
    "DenseNet121.compile(loss=\"categorical_crossentropy\", optimizer=\"nadam\",\n",
    "              metrics=[\"accuracy\"])\n",
    "history3 = DenseNet121.fit(aug.flow(trainX4, trainY1.toarray(), batch_size=BS), # fits the model on batches with real-time data augmentation: returns an iterator yielding tuples of (x,y)\n",
    "                    steps_per_epoch=len(trainX4) // BS, # Number of batches to use for training from the generator in one epoch\n",
    "                    validation_data=(testX4, testY1.toarray()),\n",
    "                    validation_steps=len(testX4) // BS, # Number of batches to use for validation in one epoch\n",
    "                    callbacks=[early_stopping_cb,checkpoint_cb],\n",
    "                    epochs=EPOCHS)"
   ]
  },
  {
   "cell_type": "code",
   "execution_count": null,
   "metadata": {},
   "outputs": [],
   "source": [
    "score = DenseNet121.evaluate(testX4, testY1.toarray())\n",
    "print(score)\n",
    "# Got [0.9890715988956477, 0.6283087] for ['loss', 'accuracy']"
   ]
  },
  {
   "cell_type": "code",
   "execution_count": null,
   "metadata": {},
   "outputs": [],
   "source": [
    "predictions = DenseNet121.predict(testX4, batch_size=BS)\n",
    "print(predictions.shape)"
   ]
  },
  {
   "cell_type": "code",
   "execution_count": null,
   "metadata": {},
   "outputs": [],
   "source": [
    "predIdxs = np.argmax(predictions, axis=1)\n",
    "print(predIdxs.shape)\n",
    "print(predIdxs)\n",
    "print(testY)"
   ]
  },
  {
   "cell_type": "code",
   "execution_count": null,
   "metadata": {},
   "outputs": [],
   "source": [
    "(unique, counts) = np.unique(predIdxs, return_counts=True)\n",
    "frequencies = np.asarray((unique, counts)).T\n",
    "print(frequencies)"
   ]
  },
  {
   "cell_type": "code",
   "execution_count": null,
   "metadata": {},
   "outputs": [],
   "source": [
    "(unique, counts) = np.unique(testY, return_counts=True)\n",
    "frequencies = np.asarray((unique, counts)).T\n",
    "print(frequencies)"
   ]
  },
  {
   "cell_type": "code",
   "execution_count": null,
   "metadata": {},
   "outputs": [],
   "source": [
    "print(classification_report(testY, predIdxs))"
   ]
  },
  {
   "cell_type": "code",
   "execution_count": null,
   "metadata": {},
   "outputs": [],
   "source": [
    "DenseNet121.save_weights(\"models/my_custom_CNN_emotion_model_weights_DenseNet121.h5\")\n",
    "# To load: DenseNet121.load_weights(\"models/my_custom_CNN_emotion_model_weights_DenseNet121.h5\")"
   ]
  },
  {
   "cell_type": "code",
   "execution_count": null,
   "metadata": {},
   "outputs": [],
   "source": [
    "# plot the training loss and accuracy\n",
    "N = len(history3.history[\"loss\"])\n",
    "plt.style.use(\"ggplot\")\n",
    "plt.figure()\n",
    "plt.plot(np.arange(0, N), history3.history[\"loss\"], label=\"train_loss\")\n",
    "plt.plot(np.arange(0, N), history3.history[\"val_loss\"], label=\"val_loss\")\n",
    "plt.plot(np.arange(0, N), history3.history[\"accuracy\"], label=\"train_acc\")\n",
    "plt.plot(np.arange(0, N), history3.history[\"val_accuracy\"], label=\"val_acc\")\n",
    "plt.title(\"Training Loss and Accuracy\")\n",
    "plt.xlabel(\"Epoch #\")\n",
    "plt.ylabel(\"Loss/Accuracy\")\n",
    "plt.legend(loc=\"upper right\")\n",
    "plt.savefig(\"plots/my_emotion_plot_DenseNet121\")\n",
    "# Is it reasonable? Yes, because train_loss keeps decreaing, train_val keeps increasing, whereas val_loss and val_acc seem to have\n",
    "# plateaued. Note that there are only 12 epochs shown because my computer crashed and I contineud training from a checkpoint. In\n",
    "# reality it is probably around 50 epochs"
   ]
  },
  {
   "cell_type": "markdown",
   "metadata": {},
   "source": [
    "Try training from scratch using NASNETLarge"
   ]
  },
  {
   "cell_type": "code",
   "execution_count": 38,
   "metadata": {},
   "outputs": [],
   "source": [
    "# MobileNets support any input size greater than 32 x 32, with larger image sizes offering better performance.\n",
    "base_model = tf.keras.applications.NASNetLarge(input_shape=(48, 48, 3),\n",
    "                                               include_top=False,\n",
    "                                               weights=None)\n",
    "avg = keras.layers.GlobalAveragePooling2D()(base_model.output)\n",
    "output = keras.layers.Dense(7, activation=\"softmax\")(avg)\n",
    "NASNetLarge = keras.models.Model(inputs=base_model.input, outputs=output)"
   ]
  },
  {
   "cell_type": "code",
   "execution_count": 39,
   "metadata": {},
   "outputs": [],
   "source": [
    "early_stopping_cb = keras.callbacks.EarlyStopping(monitor='val_loss',\n",
    "                                                  patience=10, # Early stop if there's no more significant improvement on the val_set for 30 epochs\n",
    "                                                  restore_best_weights=True)\n",
    "checkpoint_cb = keras.callbacks.ModelCheckpoint(\"models/my_transfer_CNN_emotion_checkpoint_NASNetLarge.h5\", \n",
    "                                                verbose=2, \n",
    "                                                save_best_only=True,\n",
    "                                                save_weights_only=True,\n",
    "                                                monitor='val_accuracy') # save it to my_CNN_emotion_checkpoint.h5. Why save? in case computer crashes"
   ]
  },
  {
   "cell_type": "code",
   "execution_count": 40,
   "metadata": {},
   "outputs": [],
   "source": [
    "trainX5 = np.copy(trainX)\n",
    "testX5 = np.copy(testX)\n",
    "trainX5 = tf.keras.applications.nasnet.preprocess_input(trainX5)\n",
    "testX5 = tf.keras.applications.nasnet.preprocess_input(testX5)"
   ]
  },
  {
   "cell_type": "code",
   "execution_count": 42,
   "metadata": {},
   "outputs": [],
   "source": [
    "NASNetLarge.load_weights(\"models/my_transfer_CNN_emotion_checkpoint_NASNetLarge.h5\")"
   ]
  },
  {
   "cell_type": "code",
   "execution_count": 43,
   "metadata": {
    "scrolled": true
   },
   "outputs": [
    {
     "name": "stdout",
     "output_type": "stream",
     "text": [
      "Train for 1009 steps, validate on 3589 samples\n",
      "Epoch 1/100000\n",
      "1008/1009 [============================>.] - ETA: 1s - loss: 1.5737 - accuracy: 0.3737\n",
      "Epoch 00001: val_accuracy improved from -inf to 0.25056, saving model to models/my_transfer_CNN_emotion_checkpoint_NASNetLarge.h5\n",
      "1009/1009 [==============================] - 1593s 2s/step - loss: 1.5734 - accuracy: 0.3738 - val_loss: 41027.1181 - val_accuracy: 0.2506\n",
      "Epoch 2/100000\n",
      "1008/1009 [============================>.] - ETA: 1s - loss: 1.5791 - accuracy: 0.3698\n",
      "Epoch 00002: val_accuracy did not improve from 0.25056\n",
      "1009/1009 [==============================] - 1151s 1s/step - loss: 1.5793 - accuracy: 0.3697 - val_loss: 241246566466.7640 - val_accuracy: 0.2506\n",
      "Epoch 3/100000\n",
      "1008/1009 [============================>.] - ETA: 1s - loss: 1.6181 - accuracy: 0.3526\n",
      "Epoch 00003: val_accuracy did not improve from 0.25056\n",
      "1009/1009 [==============================] - 1085s 1s/step - loss: 1.6180 - accuracy: 0.3526 - val_loss: 805146.3814 - val_accuracy: 0.2506\n",
      "Epoch 4/100000\n",
      "1008/1009 [============================>.] - ETA: 1s - loss: 1.5405 - accuracy: 0.3870\n",
      "Epoch 00004: val_accuracy did not improve from 0.25056\n",
      "1009/1009 [==============================] - 1113s 1s/step - loss: 1.5405 - accuracy: 0.3871 - val_loss: 1465.9499 - val_accuracy: 0.1727\n",
      "Epoch 5/100000\n",
      "1008/1009 [============================>.] - ETA: 1s - loss: 1.4565 - accuracy: 0.4186\n",
      "Epoch 00005: val_accuracy did not improve from 0.25056\n",
      "1009/1009 [==============================] - 1042s 1s/step - loss: 1.4563 - accuracy: 0.4187 - val_loss: 471.2096 - val_accuracy: 0.1855\n",
      "Epoch 6/100000\n",
      "1008/1009 [============================>.] - ETA: 0s - loss: 1.4706 - accuracy: 0.4157\n",
      "Epoch 00006: val_accuracy did not improve from 0.25056\n",
      "1009/1009 [==============================] - 1014s 1s/step - loss: 1.4706 - accuracy: 0.4157 - val_loss: 21731.6947 - val_accuracy: 0.1429\n",
      "Epoch 7/100000\n",
      "1008/1009 [============================>.] - ETA: 1s - loss: 1.4627 - accuracy: 0.4201\n",
      "Epoch 00007: val_accuracy did not improve from 0.25056\n",
      "1009/1009 [==============================] - 1079s 1s/step - loss: 1.4627 - accuracy: 0.4201 - val_loss: 14720.8393 - val_accuracy: 0.1429\n",
      "Epoch 8/100000\n",
      "1008/1009 [============================>.] - ETA: 1s - loss: 1.4142 - accuracy: 0.4493\n",
      "Epoch 00008: val_accuracy did not improve from 0.25056\n",
      "1009/1009 [==============================] - 1085s 1s/step - loss: 1.4141 - accuracy: 0.4493 - val_loss: 41.9132 - val_accuracy: 0.1981\n",
      "Epoch 9/100000\n",
      "1008/1009 [============================>.] - ETA: 1s - loss: 1.3892 - accuracy: 0.4604\n",
      "Epoch 00009: val_accuracy did not improve from 0.25056\n",
      "1009/1009 [==============================] - 1120s 1s/step - loss: 1.3891 - accuracy: 0.4603 - val_loss: 81.2877 - val_accuracy: 0.1816\n",
      "Epoch 10/100000\n",
      "1008/1009 [============================>.] - ETA: 1s - loss: 1.3316 - accuracy: 0.4887\n",
      "Epoch 00010: val_accuracy did not improve from 0.25056\n",
      "1009/1009 [==============================] - 1033s 1s/step - loss: 1.3321 - accuracy: 0.4886 - val_loss: 149.4372 - val_accuracy: 0.1777\n",
      "Epoch 11/100000\n",
      "1008/1009 [============================>.] - ETA: 1s - loss: 1.3300 - accuracy: 0.4875\n",
      "Epoch 00011: val_accuracy did not improve from 0.25056\n",
      "1009/1009 [==============================] - 1066s 1s/step - loss: 1.3299 - accuracy: 0.4875 - val_loss: 431.2374 - val_accuracy: 0.1741\n",
      "Epoch 12/100000\n",
      "1008/1009 [============================>.] - ETA: 1s - loss: 1.2812 - accuracy: 0.5083\n",
      "Epoch 00012: val_accuracy improved from 0.25056 to 0.26395, saving model to models/my_transfer_CNN_emotion_checkpoint_NASNetLarge.h5\n",
      "1009/1009 [==============================] - 1115s 1s/step - loss: 1.2811 - accuracy: 0.5083 - val_loss: 7.8442 - val_accuracy: 0.2640\n",
      "Epoch 13/100000\n",
      "1008/1009 [============================>.] - ETA: 1s - loss: 1.4233 - accuracy: 0.4459\n",
      "Epoch 00013: val_accuracy did not improve from 0.26395\n",
      "1009/1009 [==============================] - 1079s 1s/step - loss: 1.4232 - accuracy: 0.4460 - val_loss: 109.4919 - val_accuracy: 0.1136\n",
      "Epoch 14/100000\n",
      "1008/1009 [============================>.] - ETA: 6s - loss: 1.3058 - accuracy: 0.4958 \n",
      "Epoch 00014: val_accuracy did not improve from 0.26395\n",
      "1009/1009 [==============================] - 6967s 7s/step - loss: 1.3058 - accuracy: 0.4958 - val_loss: 6207.8405 - val_accuracy: 0.1122\n",
      "Epoch 15/100000\n",
      "1008/1009 [============================>.] - ETA: 1s - loss: 1.2911 - accuracy: 0.5033\n",
      "Epoch 00015: val_accuracy did not improve from 0.26395\n",
      "1009/1009 [==============================] - 1160s 1s/step - loss: 1.2912 - accuracy: 0.5033 - val_loss: 154.2133 - val_accuracy: 0.1454\n",
      "Epoch 16/100000\n",
      "1008/1009 [============================>.] - ETA: 1s - loss: 1.2351 - accuracy: 0.5262\n",
      "Epoch 00016: val_accuracy did not improve from 0.26395\n",
      "1009/1009 [==============================] - 1237s 1s/step - loss: 1.2347 - accuracy: 0.5264 - val_loss: 402.4758 - val_accuracy: 0.2520\n",
      "Epoch 17/100000\n",
      "1008/1009 [============================>.] - ETA: 1s - loss: 1.2178 - accuracy: 0.5333\n",
      "Epoch 00017: val_accuracy did not improve from 0.26395\n",
      "1009/1009 [==============================] - 1209s 1s/step - loss: 1.2179 - accuracy: 0.5332 - val_loss: 887.2327 - val_accuracy: 0.2461\n",
      "Epoch 18/100000\n",
      "1008/1009 [============================>.] - ETA: 1s - loss: 1.2512 - accuracy: 0.5192\n",
      "Epoch 00018: val_accuracy did not improve from 0.26395\n",
      "1009/1009 [==============================] - 1212s 1s/step - loss: 1.2514 - accuracy: 0.5192 - val_loss: 282.0084 - val_accuracy: 0.2472\n",
      "Epoch 19/100000\n",
      "1008/1009 [============================>.] - ETA: 1s - loss: 1.2282 - accuracy: 0.5302\n",
      "Epoch 00019: val_accuracy did not improve from 0.26395\n",
      "1009/1009 [==============================] - 1210s 1s/step - loss: 1.2281 - accuracy: 0.5303 - val_loss: 4661.5621 - val_accuracy: 0.2506\n",
      "Epoch 20/100000\n",
      "1008/1009 [============================>.] - ETA: 1s - loss: 1.2056 - accuracy: 0.5408\n",
      "Epoch 00020: val_accuracy improved from 0.26395 to 0.31920, saving model to models/my_transfer_CNN_emotion_checkpoint_NASNetLarge.h5\n",
      "1009/1009 [==============================] - 1207s 1s/step - loss: 1.2055 - accuracy: 0.5408 - val_loss: 13.9330 - val_accuracy: 0.3192\n",
      "Epoch 21/100000\n",
      "1008/1009 [============================>.] - ETA: 1s - loss: 1.1821 - accuracy: 0.5504\n",
      "Epoch 00021: val_accuracy did not improve from 0.31920\n",
      "1009/1009 [==============================] - 1161s 1s/step - loss: 1.1820 - accuracy: 0.5504 - val_loss: 110.0734 - val_accuracy: 0.2112\n",
      "Epoch 22/100000\n",
      "1008/1009 [============================>.] - ETA: 1s - loss: 1.1805 - accuracy: 0.5498\n",
      "Epoch 00022: val_accuracy did not improve from 0.31920\n",
      "1009/1009 [==============================] - 1127s 1s/step - loss: 1.1808 - accuracy: 0.5498 - val_loss: 7.3951 - val_accuracy: 0.1738\n",
      "Epoch 23/100000\n",
      "1008/1009 [============================>.] - ETA: 1s - loss: 1.2148 - accuracy: 0.5349\n",
      "Epoch 00023: val_accuracy did not improve from 0.31920\n",
      "1009/1009 [==============================] - 1046s 1s/step - loss: 1.2145 - accuracy: 0.5350 - val_loss: 152.4711 - val_accuracy: 0.2846\n",
      "Epoch 24/100000\n",
      "1008/1009 [============================>.] - ETA: 1s - loss: 1.1762 - accuracy: 0.5487\n",
      "Epoch 00024: val_accuracy did not improve from 0.31920\n",
      "1009/1009 [==============================] - 1051s 1s/step - loss: 1.1767 - accuracy: 0.5487 - val_loss: 6.8923 - val_accuracy: 0.2168\n",
      "Epoch 25/100000\n",
      "1008/1009 [============================>.] - ETA: 1s - loss: 1.1701 - accuracy: 0.5546\n",
      "Epoch 00025: val_accuracy improved from 0.31920 to 0.43750, saving model to models/my_transfer_CNN_emotion_checkpoint_NASNetLarge.h5\n",
      "1009/1009 [==============================] - 1039s 1s/step - loss: 1.1702 - accuracy: 0.5544 - val_loss: 3.4824 - val_accuracy: 0.4375\n",
      "Epoch 26/100000\n",
      "1008/1009 [============================>.] - ETA: 1s - loss: 1.1445 - accuracy: 0.5659\n",
      "Epoch 00026: val_accuracy did not improve from 0.43750\n",
      "1009/1009 [==============================] - 1091s 1s/step - loss: 1.1442 - accuracy: 0.5660 - val_loss: 3.7639 - val_accuracy: 0.3510\n",
      "Epoch 27/100000\n",
      "1008/1009 [============================>.] - ETA: 1s - loss: 1.1904 - accuracy: 0.5477\n",
      "Epoch 00027: val_accuracy did not improve from 0.43750\n",
      "1009/1009 [==============================] - 1059s 1s/step - loss: 1.1908 - accuracy: 0.5476 - val_loss: 10.1461 - val_accuracy: 0.1724\n"
     ]
    },
    {
     "name": "stdout",
     "output_type": "stream",
     "text": [
      "Epoch 28/100000\n",
      "1008/1009 [============================>.] - ETA: 0s - loss: 1.2339 - accuracy: 0.5232\n",
      "Epoch 00028: val_accuracy did not improve from 0.43750\n",
      "1009/1009 [==============================] - 1035s 1s/step - loss: 1.2338 - accuracy: 0.5232 - val_loss: 25.0371 - val_accuracy: 0.3217\n",
      "Epoch 29/100000\n",
      "1008/1009 [============================>.] - ETA: 1s - loss: 1.1541 - accuracy: 0.5575\n",
      "Epoch 00029: val_accuracy did not improve from 0.43750\n",
      "1009/1009 [==============================] - 1027s 1s/step - loss: 1.1541 - accuracy: 0.5574 - val_loss: 3.9995 - val_accuracy: 0.3064\n",
      "Epoch 30/100000\n",
      "1008/1009 [============================>.] - ETA: 1s - loss: 1.1642 - accuracy: 0.5544\n",
      "Epoch 00030: val_accuracy did not improve from 0.43750\n",
      "1009/1009 [==============================] - 1038s 1s/step - loss: 1.1639 - accuracy: 0.5545 - val_loss: 201.9940 - val_accuracy: 0.3783\n",
      "Epoch 31/100000\n",
      "1008/1009 [============================>.] - ETA: 1s - loss: 1.1506 - accuracy: 0.5637\n",
      "Epoch 00031: val_accuracy did not improve from 0.43750\n",
      "1009/1009 [==============================] - 1062s 1s/step - loss: 1.1508 - accuracy: 0.5636 - val_loss: 604.8127 - val_accuracy: 0.3557\n",
      "Epoch 32/100000\n",
      "1008/1009 [============================>.] - ETA: 1s - loss: 1.1163 - accuracy: 0.5789\n",
      "Epoch 00032: val_accuracy did not improve from 0.43750\n",
      "1009/1009 [==============================] - 1045s 1s/step - loss: 1.1165 - accuracy: 0.5788 - val_loss: 136.4481 - val_accuracy: 0.4311\n",
      "Epoch 33/100000\n",
      "1008/1009 [============================>.] - ETA: 1s - loss: 1.1860 - accuracy: 0.5494\n",
      "Epoch 00033: val_accuracy did not improve from 0.43750\n",
      "1009/1009 [==============================] - 1063s 1s/step - loss: 1.1862 - accuracy: 0.5493 - val_loss: 3.5583 - val_accuracy: 0.2645\n",
      "Epoch 34/100000\n",
      "1008/1009 [============================>.] - ETA: 1s - loss: 1.1725 - accuracy: 0.5545\n",
      "Epoch 00034: val_accuracy did not improve from 0.43750\n",
      "1009/1009 [==============================] - 1128s 1s/step - loss: 1.1724 - accuracy: 0.5546 - val_loss: 2.2975 - val_accuracy: 0.3976\n",
      "Epoch 35/100000\n",
      "1008/1009 [============================>.] - ETA: 1s - loss: 1.1401 - accuracy: 0.5687\n",
      "Epoch 00035: val_accuracy did not improve from 0.43750\n",
      "1009/1009 [==============================] - 1089s 1s/step - loss: 1.1399 - accuracy: 0.5687 - val_loss: 2.2442 - val_accuracy: 0.3920\n",
      "Epoch 36/100000\n",
      "1008/1009 [============================>.] - ETA: 16s - loss: 1.2224 - accuracy: 0.5291\n",
      "Epoch 00036: val_accuracy improved from 0.43750 to 0.48270, saving model to models/my_transfer_CNN_emotion_checkpoint_NASNetLarge.h5\n",
      "1009/1009 [==============================] - 16286s 16s/step - loss: 1.2222 - accuracy: 0.5292 - val_loss: 1.5154 - val_accuracy: 0.4827\n",
      "Epoch 37/100000\n",
      "1008/1009 [============================>.] - ETA: 1s - loss: 1.1472 - accuracy: 0.5621\n",
      "Epoch 00037: val_accuracy did not improve from 0.48270\n",
      "1009/1009 [==============================] - 1136s 1s/step - loss: 1.1470 - accuracy: 0.5622 - val_loss: 2.3855 - val_accuracy: 0.4082\n",
      "Epoch 38/100000\n",
      "1008/1009 [============================>.] - ETA: 1s - loss: 1.1209 - accuracy: 0.5769\n",
      "Epoch 00038: val_accuracy did not improve from 0.48270\n",
      "1009/1009 [==============================] - 1060s 1s/step - loss: 1.1212 - accuracy: 0.5769 - val_loss: 1.9747 - val_accuracy: 0.4682\n",
      "Epoch 39/100000\n",
      "1008/1009 [============================>.] - ETA: 1s - loss: 1.1737 - accuracy: 0.5526\n",
      "Epoch 00039: val_accuracy did not improve from 0.48270\n",
      "1009/1009 [==============================] - 1062s 1s/step - loss: 1.1738 - accuracy: 0.5526 - val_loss: 32.7263 - val_accuracy: 0.2589\n",
      "Epoch 40/100000\n",
      "1008/1009 [============================>.] - ETA: 1s - loss: 1.1468 - accuracy: 0.5629\n",
      "Epoch 00040: val_accuracy did not improve from 0.48270\n",
      "1009/1009 [==============================] - 1106s 1s/step - loss: 1.1467 - accuracy: 0.5630 - val_loss: 1.8412 - val_accuracy: 0.4378\n",
      "Epoch 41/100000\n",
      "1008/1009 [============================>.] - ETA: 1s - loss: 1.1065 - accuracy: 0.5803\n",
      "Epoch 00041: val_accuracy did not improve from 0.48270\n",
      "1009/1009 [==============================] - 1066s 1s/step - loss: 1.1069 - accuracy: 0.5802 - val_loss: 2.1984 - val_accuracy: 0.3750\n",
      "Epoch 42/100000\n",
      "1008/1009 [============================>.] - ETA: 1s - loss: 1.1464 - accuracy: 0.5623\n",
      "Epoch 00042: val_accuracy did not improve from 0.48270\n",
      "1009/1009 [==============================] - 1076s 1s/step - loss: 1.1462 - accuracy: 0.5624 - val_loss: 217.2830 - val_accuracy: 0.3686\n",
      "Epoch 43/100000\n",
      "1008/1009 [============================>.] - ETA: 1s - loss: 1.0956 - accuracy: 0.5815\n",
      "Epoch 00043: val_accuracy did not improve from 0.48270\n",
      "1009/1009 [==============================] - 1080s 1s/step - loss: 1.0955 - accuracy: 0.5815 - val_loss: 1.9229 - val_accuracy: 0.4291\n",
      "Epoch 44/100000\n",
      "1008/1009 [============================>.] - ETA: 1s - loss: 1.0829 - accuracy: 0.5886\n",
      "Epoch 00044: val_accuracy did not improve from 0.48270\n",
      "1009/1009 [==============================] - 1164s 1s/step - loss: 1.0829 - accuracy: 0.5885 - val_loss: 2.7782 - val_accuracy: 0.3516\n",
      "Epoch 45/100000\n",
      "1008/1009 [============================>.] - ETA: 1s - loss: 1.1499 - accuracy: 0.5611\n",
      "Epoch 00045: val_accuracy did not improve from 0.48270\n",
      "1009/1009 [==============================] - 1232s 1s/step - loss: 1.1498 - accuracy: 0.5611 - val_loss: 1922.9533 - val_accuracy: 0.2422\n",
      "Epoch 46/100000\n",
      "1008/1009 [============================>.] - ETA: 1s - loss: 1.1924 - accuracy: 0.5435\n",
      "Epoch 00046: val_accuracy did not improve from 0.48270\n",
      "1009/1009 [==============================] - 1038s 1s/step - loss: 1.1921 - accuracy: 0.5436 - val_loss: 2.9929 - val_accuracy: 0.3527\n"
     ]
    }
   ],
   "source": [
    "NASNetLarge.compile(loss=\"categorical_crossentropy\", optimizer=\"nadam\",\n",
    "              metrics=[\"accuracy\"])\n",
    "history4 = NASNetLarge.fit(aug.flow(trainX5, trainY1.toarray(), batch_size=BS), # fits the model on batches with real-time data augmentation: returns an iterator yielding tuples of (x,y)\n",
    "                    steps_per_epoch=len(trainX5) // BS, # Number of batches to use for training from the generator in one epoch\n",
    "                    validation_data=(testX5, testY1.toarray()),\n",
    "                    validation_steps=len(testX5) // BS, # Number of batches to use for validation in one epoch\n",
    "                    callbacks=[early_stopping_cb,checkpoint_cb],\n",
    "                    epochs=EPOCHS)"
   ]
  },
  {
   "cell_type": "code",
   "execution_count": 41,
   "metadata": {},
   "outputs": [],
   "source": [
    "NASNetLarge.load_weights(\"models/my_transfer_CNN_emotion_checkpoint_NASNetLarge.h5\")"
   ]
  },
  {
   "cell_type": "code",
   "execution_count": 42,
   "metadata": {
    "scrolled": true
   },
   "outputs": [
    {
     "name": "stdout",
     "output_type": "stream",
     "text": [
      "Train for 1009 steps, validate on 3589 samples\n",
      "Epoch 1/100000\n",
      "1008/1009 [============================>.] - ETA: 0s - loss: 1.1288 - accuracy: 0.5714\n",
      "Epoch 00001: val_accuracy improved from -inf to 0.56083, saving model to models/my_transfer_CNN_emotion_checkpoint_NASNetLarge.h5\n",
      "1009/1009 [==============================] - 458s 454ms/step - loss: 1.1291 - accuracy: 0.5712 - val_loss: 1.1849 - val_accuracy: 0.5608\n",
      "Epoch 2/100000\n",
      "1008/1009 [============================>.] - ETA: 0s - loss: 1.1192 - accuracy: 0.5713\n",
      "Epoch 00002: val_accuracy improved from 0.56083 to 0.57087, saving model to models/my_transfer_CNN_emotion_checkpoint_NASNetLarge.h5\n",
      "1009/1009 [==============================] - 438s 434ms/step - loss: 1.1192 - accuracy: 0.5713 - val_loss: 1.2372 - val_accuracy: 0.5709\n",
      "Epoch 3/100000\n",
      "1008/1009 [============================>.] - ETA: 0s - loss: 1.1069 - accuracy: 0.5768\n",
      "Epoch 00003: val_accuracy did not improve from 0.57087\n",
      "1009/1009 [==============================] - 486s 481ms/step - loss: 1.1071 - accuracy: 0.5767 - val_loss: 1.2870 - val_accuracy: 0.5525\n",
      "Epoch 4/100000\n",
      "1008/1009 [============================>.] - ETA: 0s - loss: 1.1138 - accuracy: 0.5737\n",
      "Epoch 00004: val_accuracy improved from 0.57087 to 0.57478, saving model to models/my_transfer_CNN_emotion_checkpoint_NASNetLarge.h5\n",
      "1009/1009 [==============================] - 488s 483ms/step - loss: 1.1138 - accuracy: 0.5737 - val_loss: 1.1487 - val_accuracy: 0.5748\n",
      "Epoch 5/100000\n",
      "1008/1009 [============================>.] - ETA: 0s - loss: 1.0920 - accuracy: 0.5843\n",
      "Epoch 00005: val_accuracy did not improve from 0.57478\n",
      "1009/1009 [==============================] - 469s 465ms/step - loss: 1.0919 - accuracy: 0.5843 - val_loss: 1.2498 - val_accuracy: 0.5709\n",
      "Epoch 6/100000\n",
      "1008/1009 [============================>.] - ETA: 0s - loss: 1.0919 - accuracy: 0.5850\n",
      "Epoch 00006: val_accuracy improved from 0.57478 to 0.58259, saving model to models/my_transfer_CNN_emotion_checkpoint_NASNetLarge.h5\n",
      "1009/1009 [==============================] - 473s 469ms/step - loss: 1.0917 - accuracy: 0.5850 - val_loss: 1.1321 - val_accuracy: 0.5826\n",
      "Epoch 7/100000\n",
      "1008/1009 [============================>.] - ETA: 0s - loss: 1.0800 - accuracy: 0.5878\n",
      "Epoch 00007: val_accuracy improved from 0.58259 to 0.58454, saving model to models/my_transfer_CNN_emotion_checkpoint_NASNetLarge.h5\n",
      "1009/1009 [==============================] - 474s 470ms/step - loss: 1.0801 - accuracy: 0.5876 - val_loss: 1.1365 - val_accuracy: 0.5845\n",
      "Epoch 8/100000\n",
      "1008/1009 [============================>.] - ETA: 0s - loss: 1.0850 - accuracy: 0.5843\n",
      "Epoch 00008: val_accuracy did not improve from 0.58454\n",
      "1009/1009 [==============================] - 441s 437ms/step - loss: 1.0850 - accuracy: 0.5842 - val_loss: 1.2184 - val_accuracy: 0.5834\n",
      "Epoch 9/100000\n",
      "1008/1009 [============================>.] - ETA: 0s - loss: 1.0755 - accuracy: 0.5889\n",
      "Epoch 00009: val_accuracy did not improve from 0.58454\n",
      "1009/1009 [==============================] - 381s 378ms/step - loss: 1.0754 - accuracy: 0.5889 - val_loss: 1.1784 - val_accuracy: 0.5820\n",
      "Epoch 10/100000\n",
      "1008/1009 [============================>.] - ETA: 0s - loss: 1.0710 - accuracy: 0.5925\n",
      "Epoch 00010: val_accuracy improved from 0.58454 to 0.58482, saving model to models/my_transfer_CNN_emotion_checkpoint_NASNetLarge.h5\n",
      "1009/1009 [==============================] - 380s 376ms/step - loss: 1.0711 - accuracy: 0.5924 - val_loss: 1.1824 - val_accuracy: 0.5848\n",
      "Epoch 11/100000\n",
      "1008/1009 [============================>.] - ETA: 0s - loss: 1.0753 - accuracy: 0.5900\n",
      "Epoch 00011: val_accuracy did not improve from 0.58482\n",
      "1009/1009 [==============================] - 380s 377ms/step - loss: 1.0753 - accuracy: 0.5899 - val_loss: 1.1865 - val_accuracy: 0.5843\n",
      "Epoch 12/100000\n",
      "1008/1009 [============================>.] - ETA: 0s - loss: 1.0709 - accuracy: 0.5902\n",
      "Epoch 00012: val_accuracy improved from 0.58482 to 0.58677, saving model to models/my_transfer_CNN_emotion_checkpoint_NASNetLarge.h5\n",
      "1009/1009 [==============================] - 380s 377ms/step - loss: 1.0706 - accuracy: 0.5903 - val_loss: 1.2753 - val_accuracy: 0.5868\n",
      "Epoch 13/100000\n",
      "1008/1009 [============================>.] - ETA: 0s - loss: 1.0712 - accuracy: 0.5891\n",
      "Epoch 00013: val_accuracy improved from 0.58677 to 0.59235, saving model to models/my_transfer_CNN_emotion_checkpoint_NASNetLarge.h5\n",
      "1009/1009 [==============================] - 380s 377ms/step - loss: 1.0715 - accuracy: 0.5891 - val_loss: 1.2137 - val_accuracy: 0.5924\n",
      "Epoch 14/100000\n",
      "1008/1009 [============================>.] - ETA: 0s - loss: 1.0706 - accuracy: 0.5943\n",
      "Epoch 00014: val_accuracy did not improve from 0.59235\n",
      "1009/1009 [==============================] - 379s 375ms/step - loss: 1.0708 - accuracy: 0.5943 - val_loss: 1.2252 - val_accuracy: 0.5890\n",
      "Epoch 15/100000\n",
      "1008/1009 [============================>.] - ETA: 0s - loss: 1.0660 - accuracy: 0.5954\n",
      "Epoch 00015: val_accuracy improved from 0.59235 to 0.59375, saving model to models/my_transfer_CNN_emotion_checkpoint_NASNetLarge.h5\n",
      "1009/1009 [==============================] - 379s 376ms/step - loss: 1.0658 - accuracy: 0.5955 - val_loss: 1.2605 - val_accuracy: 0.5938\n",
      "Epoch 16/100000\n",
      "1008/1009 [============================>.] - ETA: 0s - loss: 1.0642 - accuracy: 0.5958\n",
      "Epoch 00016: val_accuracy did not improve from 0.59375\n",
      "1009/1009 [==============================] - 385s 382ms/step - loss: 1.0641 - accuracy: 0.5957 - val_loss: 1.1753 - val_accuracy: 0.5893\n"
     ]
    }
   ],
   "source": [
    "# Try with a customized optimizer\n",
    "optimizer = keras.optimizers.SGD(learning_rate=0.01, momentum=0.9,\n",
    "                                 nesterov=True, decay=0.001)\n",
    "NASNetLarge.compile(loss=\"categorical_crossentropy\", optimizer=optimizer,\n",
    "              metrics=[\"accuracy\"])\n",
    "history5 = NASNetLarge.fit(aug.flow(trainX5, trainY1.toarray(), batch_size=BS), # fits the model on batches with real-time data augmentation: returns an iterator yielding tuples of (x,y)\n",
    "                    steps_per_epoch=len(trainX5) // BS, # Number of batches to use for training from the generator in one epoch\n",
    "                    validation_data=(testX5, testY1.toarray()),\n",
    "                    validation_steps=len(testX5) // BS, # Number of batches to use for validation in one epoch\n",
    "                    callbacks=[early_stopping_cb,checkpoint_cb],\n",
    "                    epochs=EPOCHS)"
   ]
  },
  {
   "cell_type": "code",
   "execution_count": 45,
   "metadata": {
    "scrolled": true
   },
   "outputs": [
    {
     "name": "stdout",
     "output_type": "stream",
     "text": [
      "Train for 1009 steps, validate on 3589 samples\n",
      "Epoch 1/100000\n",
      "1008/1009 [============================>.] - ETA: 0s - loss: 1.0759 - accuracy: 0.5887\n",
      "Epoch 00001: val_accuracy did not improve from 0.59375\n",
      "1009/1009 [==============================] - 382s 379ms/step - loss: 1.0758 - accuracy: 0.5887 - val_loss: 1.1720 - val_accuracy: 0.5831\n",
      "Epoch 2/100000\n",
      "1008/1009 [============================>.] - ETA: 0s - loss: 1.0749 - accuracy: 0.5918\n",
      "Epoch 00002: val_accuracy did not improve from 0.59375\n",
      "1009/1009 [==============================] - 384s 380ms/step - loss: 1.0752 - accuracy: 0.5917 - val_loss: 1.1457 - val_accuracy: 0.5834\n",
      "Epoch 3/100000\n",
      "1008/1009 [============================>.] - ETA: 0s - loss: 1.0718 - accuracy: 0.5909\n",
      "Epoch 00003: val_accuracy did not improve from 0.59375\n",
      "1009/1009 [==============================] - 382s 379ms/step - loss: 1.0718 - accuracy: 0.5910 - val_loss: 1.1487 - val_accuracy: 0.5862\n",
      "Epoch 4/100000\n",
      "1008/1009 [============================>.] - ETA: 0s - loss: 1.0694 - accuracy: 0.5927\n",
      "Epoch 00004: val_accuracy did not improve from 0.59375\n",
      "1009/1009 [==============================] - 383s 380ms/step - loss: 1.0694 - accuracy: 0.5926 - val_loss: 1.1566 - val_accuracy: 0.5865\n",
      "Epoch 5/100000\n",
      "1008/1009 [============================>.] - ETA: 0s - loss: 1.0706 - accuracy: 0.5917\n",
      "Epoch 00005: val_accuracy did not improve from 0.59375\n",
      "1009/1009 [==============================] - 384s 380ms/step - loss: 1.0705 - accuracy: 0.5916 - val_loss: 1.1506 - val_accuracy: 0.5884\n",
      "Epoch 6/100000\n",
      "1008/1009 [============================>.] - ETA: 0s - loss: 1.0692 - accuracy: 0.5929\n",
      "Epoch 00006: val_accuracy did not improve from 0.59375\n",
      "1009/1009 [==============================] - 381s 378ms/step - loss: 1.0692 - accuracy: 0.5929 - val_loss: 1.1734 - val_accuracy: 0.5896\n",
      "Epoch 7/100000\n",
      "1008/1009 [============================>.] - ETA: 0s - loss: 1.0702 - accuracy: 0.5925\n",
      "Epoch 00007: val_accuracy did not improve from 0.59375\n",
      "1009/1009 [==============================] - 382s 378ms/step - loss: 1.0705 - accuracy: 0.5927 - val_loss: 1.1835 - val_accuracy: 0.5896\n",
      "Epoch 8/100000\n",
      "1008/1009 [============================>.] - ETA: 0s - loss: 1.0687 - accuracy: 0.5939\n",
      "Epoch 00008: val_accuracy did not improve from 0.59375\n",
      "1009/1009 [==============================] - 382s 379ms/step - loss: 1.0688 - accuracy: 0.5939 - val_loss: 1.1848 - val_accuracy: 0.5896\n",
      "Epoch 9/100000\n",
      "1008/1009 [============================>.] - ETA: 0s - loss: 1.0659 - accuracy: 0.5928\n",
      "Epoch 00009: val_accuracy did not improve from 0.59375\n",
      "1009/1009 [==============================] - 381s 378ms/step - loss: 1.0660 - accuracy: 0.5928 - val_loss: 1.1728 - val_accuracy: 0.5901\n",
      "Epoch 10/100000\n",
      "1008/1009 [============================>.] - ETA: 0s - loss: 1.0683 - accuracy: 0.5937\n",
      "Epoch 00010: val_accuracy did not improve from 0.59375\n",
      "1009/1009 [==============================] - 383s 379ms/step - loss: 1.0683 - accuracy: 0.5938 - val_loss: 1.1830 - val_accuracy: 0.5859\n",
      "Epoch 11/100000\n",
      "1008/1009 [============================>.] - ETA: 0s - loss: 1.0634 - accuracy: 0.5927\n",
      "Epoch 00011: val_accuracy did not improve from 0.59375\n",
      "1009/1009 [==============================] - 382s 378ms/step - loss: 1.0634 - accuracy: 0.5926 - val_loss: 1.1557 - val_accuracy: 0.5896\n",
      "Epoch 12/100000\n",
      "1008/1009 [============================>.] - ETA: 0s - loss: 1.0666 - accuracy: 0.5935\n",
      "Epoch 00012: val_accuracy did not improve from 0.59375\n",
      "1009/1009 [==============================] - 382s 379ms/step - loss: 1.0665 - accuracy: 0.5935 - val_loss: 1.1650 - val_accuracy: 0.5898\n"
     ]
    }
   ],
   "source": [
    "# Lower the learning rate\n",
    "optimizer = keras.optimizers.SGD(learning_rate=0.001, momentum=0.9,\n",
    "                                 nesterov=True, decay=0.001)\n",
    "history6 = NASNetLarge.fit(aug.flow(trainX5, trainY1.toarray(), batch_size=BS), # fits the model on batches with real-time data augmentation: returns an iterator yielding tuples of (x,y)\n",
    "                    steps_per_epoch=len(trainX5) // BS, # Number of batches to use for training from the generator in one epoch\n",
    "                    validation_data=(testX5, testY1.toarray()),\n",
    "                    validation_steps=len(testX5) // BS, # Number of batches to use for validation in one epoch\n",
    "                    callbacks=[early_stopping_cb,checkpoint_cb],\n",
    "                    epochs=EPOCHS)"
   ]
  },
  {
   "cell_type": "code",
   "execution_count": 46,
   "metadata": {},
   "outputs": [
    {
     "name": "stdout",
     "output_type": "stream",
     "text": [
      "\r",
      "3589/1 [======================================================================================================================================================================================================================================================================================================================================================================================================================================================================================================================================================================================================================================================================================================================================================================================================================================================================================================================================================================================================================================================================================================================================================================================================================================================================================================================================================================================================================================================================================================================================================================================================================================================================================================================================================================================================================================================================================================================================================================================================================================================================================================================================================================================================================================================================================================================================================================================================================================================================================================================================================================================================================================================================================================================================================================================================================================================================================================================================================================================================================================================================================================================================================================================================================================================================================================================================================================================================================================================================================================================================================================================================================================================================================================================================================================================================================================================================================================================================================================================================================================================================================================================================================================================================================================================================================================================================================================================================================================================================================================================================================================================================================================================================================================================================================================================================================================================================================================================================================================================================================================================================================================================================================================================================================================================================================================================================================================================================================================================================================================================================================================================================================================================================================================================================================================================================================================================================================================================================================================================================================================================================================================================================================================================================================================================================================================================================================================================================================================================================================================================================================================================================================================================================================================================================================================================================================================================================================================================================================================================================================================================================================================================================================================================================================================================================================================================================================================================================================================================================================================================================================================================================================================================================================================================================================================================================================================================================================================================================================================================================================================================================================================================================================================================================================================================================================================================================================================================================================================================================================================================================================================================================================================================================================================================================================================================================================================================================================================================================================================================================================================================================================================================================================================================================================================================================================================================================================================================================================================================================================================================================================================================================================================================================================================================================================================================================================================================================================================================================================================================================================================================================================================================================================================================================================================================================================================================================================================================================================================================================================================================================================================================================================================================================================================================================================================================================================================================================================================================================================================================================================================================================================================================================================================================================================================================================================================================================================================================================================================================================================================================================================================================================================================================================================================================================================================================================================================================================================================================================================================================================================================================================================================================================================================================================================================================================================================================================================================================================================================================================================================================================================================================================================================================================================================================================================================================================================================================================================================================================================================================================================================================================================================================================================================================================================================================================================================================================================================================================================================================================================================================================================================================================================================================================================================================================================================================================================================================================================================================================================================================================================================================================================================================================================================================================================================================================================================================================================================================================================================================================================================================================================================================================================================================================================================================================================================================================================================================================================================================================================================================================================================================================================================================================================================================================================================================================================================================================================================================================================================================================================================================================================================================================================================================================================================================================================================================================================================================================================================================================================================================================================================================================================================================================================================================================================================================================================================================================================================================================================================================================================================================================================================================================================================================================================================================================================================================================================================================================================================================================================================================================================================================================================================================================================================================================================================================================================================================================================================================================================================================================================================================================================================================================================================================================================================================================================================================================================================================================================================================================================================================================================================================================================================================================================================================================================================================================================================================================================================================================================================================================================================================================================================================================================================================================================================================================================================================================================================================================================================================================================================================================================================================================================================================================================================================================================================================================================================================================================================================================================================================================================================================================================================================================================================================================================================================================================================================================================================================================================================================================================================================================================================================================================================================================================================================================================================================================================================================================================================================================================================================================================================================================================================================================================================================================================================================================================================================================================================================================================================================================================================================================================================================================================================================================================================================================================================================================================================================================================================================================================================================================================================================================================================================================================================================================================================================================================================================================================================================================================================================================================================================================================================================================================================================================================================================================================================================================================================================================================================================================================================================================================================================================================================================================================================================================================================================================================================================================================================================================================================================================================================================================================================================================================================================================================================================================================================================================================================================================================================================================================================================================================================================================================================================================================================================================================================================================================================================================================================================================================================================================================================================================================================================================================================================================================================================================================================================================================================================================================================================================================================================================================================================================================================================================================================================================================================================================================================================================================================================================================================================================================================================================================================================================================================================================================================================================================================================================================================================================================================================================================================================================================================================================================================================================================================================================================================================================================================================================================================================================================================================================================================================================================================================================================================================================================================================================================================================================================================================================================================================================================================================================================================================================================================================================================================================================================================================================================================================================================================================================================================================================================================================================================================================================================================================================================================================================================================================================================================================================================================================================================================================================================================================================================================================================================================================================================================================================================================================================================================================================================================================================================================================================================================================================================================================================================================================================================================================================================================================================================================================================================================================================================================================================================================================================================================================================================================================================================================================================================================================================================================================================================================================================================================================================================================================================================================================================================================================================================================================================================================================================================================================================================================================================================================================================================================================================================================================================================================================================================================================================================================================================================================================================================================================================================================================================================================================================================================================================================================================================================================================================================================================================================================================================================================================================================================================================================================================================================================================================================================================================================================================================================================================================================================================================================================================================================================================================================================================================================================================================================================================================================================================================================================================================================================================================================================================================================================================================================================================================================================================================================================================================================================================================================================================================================================================================================================================================================================================================================================================================================================================================================================================================================================================================================================================================================================================================================================================================================================================================================================================================================================================================================================================================================================================================================================================================================================================================================================================================================================================================================================================================================================================================================================================================================================================================================================================================================================================================================================================================================================================================================================================================================================================================================================================================================================================================================================================================================================================================================================================================================================================================================================================================================================================================================================================================================================================================================================================================================================================================================================================================================================================================================================================================================================================================================================================================================================================================================================================================================================================================================================================================================================================================================================================================================================================================================================================================================================================================================================================================================================================================================================================================================================================================================================================================================================================================================================================================================================================================================================================================================================================================================================================================================================================================================================================================================================================================================================================================================================================================================================================================================================================================================================================================================================================================================================================================================================================================================================================================================================================================================================================================================================================================================================================================================================================================================================================================================================================================================================================================================================================================================================================================================================================================================================================================================================================================================================================================================================================================================================================================================================================================================================================================================================================================================================================================================================================================================================================================================================================================================================================================================================================================================================================================================================================================================================================================================================================================================================================================================================================================================================================================================================================================================================================================================================================================================================================================================================================================================================================================================================================================================================================================================================================================================================================================================================================================================================================================================================================================================================================================================================================================================================================================================================================================================================================================================================================================================================================================================================================================================================================================================================================================================================================================================================================================================================================================================================================================================================================================================================================================================================================================================================================================================================================================================================================================================================================================================================================================================================================================================================================================================================================================================================================================================================================================================================================================================================================================================================================================================================================================================================================================================================================================================================================================================================================================================================================================================================================================================================================================================================================================================================================================================================================================================================================================================================================================================================================================================================================================================================================================================================================================================================================================================================================================================================================================================================================================================================================================================================================================================================================================================================================================================================================================================================================================================================================================================================================================================================================================================================================================================================================================================================================================================================================================================================================================================================================================================================================================================================================================================================================================================================================================================================================================================================================================================================================================================================================================================================================================================================================================================================================================================================================================================================================================================================================================================================================================================================================================================================================================================================================================================================================================================================================================================================================================================================================================================================================================================================================================================================================================================================================================================================================================================================================================================================================================================================================================================================================================================================================================================================================================================================================================================================================================================================================================================================================================================================================================================================================================================================================================================================================================================================================================================================================================================================================================================================================================================================================================================================================================================================================================================================================================================================================================================================================================================================================================================================================================================================================================================================================================================================================================================================================================================================================================================================================================================================================================================================================================================================================================================================================================================================================================================================================================================================================================================================================================================================================================================================================================================================================================================================================================================================================================================================================================================================================================================================================================================================================================================================================================================================================================================================================================================================================================================================================================================================================================================================================================================================================================================================================================================================================================================================================================================================================================================================================================================================================================================================================================================================================================================================================================================================================================================================================================================================================================================================================================================================================================================================================================================================================================================================================================================================================================================================================================================================================================================================================================================================================================================================================================================================================================================================================================================================================================================================================================================================================================================================================================================================================================================================================================================================================================================================================================================================================================================================================================================================================================================================================================================================================================================================================================================================================================================================================================================================================================================================================================================================================================================================================================================================================================================================================================================================================================================================================================================================================================================================================================================================================================================================================================================================================================================================================================================================================================================================================================================================================================================================================================================================================================================================================================================================================================================================================================================================================================================================================================================================================================================================================================================================================================================================================================================================================================================================================================================================================================================================================================================================================================================================================================================================================================================================================================================================================================================================================================================================================================================================================================================================================================================================================================================================================================================================================================================================================================================================================================================================================================================================================================================================================================================================================================================================================================================================================================================================================================================================================================================================================================================================================================================================================================================================================================================================================================================================================================================================================================================================================================================================================================================================================================================================================================================================================================================================================================================================================================================================================================================================================================================================================================================================================================================================================================================================================================================================================================================================================================================================================================================================================================================================================================================================================================================================================================================================================================================================================================================================================================================================================================================================================================================================================================================================================================================================================================================================================================================================================================================================================================================================================================================================================================================================================================================================================================================================================================================================================================================================================================================================================================================================================================================================================================================================================================================================================================================================================================================================================================================================================================================================================================================================================================================================================================================================================================================================================================================================================================================================================================================================================================================================================================================================================================================================================================================================================================================================================================================================================================================================================================================================================================================================================================================================================================================================================================================================================================================================================================================================================================================================================================================================================================================================================================================================================================================================================================================================================================================================================================================================================================================================================================================================================================================================================================================================================================================================================================================================================================================================================================================================================================================================================================================================================================================================================================================================================================================================================================================================================================================================================================================================================================================================================================================================================================================================================================================================================================================================================================================================================================================================================================================================================================================================================================================================================================================================================================================================================================================================================================================================================================================================================================================================================================================================================================================================================================================================================================================================================================================================================================================================================================================================================================================================================================================================================================================================================================================================================================================================================================================================================================================================================================================================================================================================================================================================================================================================================================================================================================================================================================================================================================================================================================================================================================================================================================================================================================================================================================================================================================================================================================================================================================================================================================================================================================================================================================================================================================================================================================================================================================================================================================================================================================================================================================================================================================================================================================================================================================================================================================================================================================================================================================================================================================================================================================================================================================================================================================================================================================================================================================================================================================================================================================================================================================================================================================================================================================================================================================================================================================================================================================================================================================================================================================================================================================================================================================================================================================================================================================================================================================================================================================================================================================================================================================================================================================================================================================================================================================================================================================================================================================================================================================================================================================================================================================================================================================================================================================================================================================================================================================================================================================================================================================================================================================================================================================================================================================================================================================================================================================================================================================================================================================================================================================================================================================================================================================================================================================================================================================================================================================================================================================================================================================================================================================================================================================================================================================================================================================================================================================================================================================================================================================================================================================================================================================================================================================================================================================================================================================================================================================================================================================================================================================================================================================================================================================================================================================================================================================================================================================================================================================================================================================================================================================================================================================================================================================================================================================================================================================================================================================================================================================================================================================================================================================================================================================================================================================================================================================================================================================================================================================================================================================================================================================================================================================================================================================================================================================================================================================================================================================================================================================================================================================================================================================================================================================================================================================================================================================================================================================================================================================================================================================================================================================================================================================================================================================================================================================================================================================================================================================================================================================================================================================================================================================================================================================================================================================================================================================================================================================================================================================================================================================================================================================================================================================================================================================================================================================================================================================================================================================================================================================================================================================================================================================================================================================================================================================================================================================================================================================================================================================================================================================================================================================================================================================================================================================================================================================================================================================================================================================================================================================================================================================================================================================================================================================================================================================================================================================================================================================================================================================================================================================================================================================================================================================================================================================================================================================================================================================================================================================================================================================================================================================================================================================================================================================================================================================================================================================================================================================================================================================================================================================================================================================================================================================================================================================================================================================================================================================================================================================================================================================================================================================================================================================================================================================================================================================================================================================================================================================================================================================================================================================================================================================================================================================================================================================================================================================================================================================================================================================================================================================================================================================================================================================================================================================================================================================================================================================================================================================================================================================================================================================================================================================================================================================================================================================================================================================================================================================================================================================================================================================================================================================================================================================================================================================================================================================================================================================================================================================================================================================================================================================================================================================================================================================================================================================================================================================================================================================================================================================================================================================================================================================================================================================================================================================================================================================================================================================================================================================================================================================================================================================================================================================================================================================================================================================================================================================================================================================================================================================================================================================================================================================================================================================================================================================================================================================================================================================================================================================================================================================================================================================================================================================================================================================================================================================================================================================================================================================================================================================================================================================================================================================================================================================================================================================================================================================================================================================================================================================================================================================================================================================================================================================================================================================================================================================================================================================================================================================================================================================================================================================================================================================================================================================================================================================================================================================================================================================================================================================================================================================================================================================================================================================================================================================================================================================================================================================================================================================================================================================================================================================================================================================================================================================================================================================================================================================================================================================================================================================================================================================================================================================================================================================================================================================================================================================================================================================================================================================================================================================================================================================================================================================================================================================================================================================================================================================================================================================================================================================================================================================================================================================================================================================================================================================================================================================================================================================================================================================================================================================================================================================================================================================================================================================================================================================================================================================================================================================================================================================================================================================================================================================================================================================================================================================================================================================================================================================================================================================================================================================================================================================================================================================================================================================================================================================================================================================================================================================================================================================================================================================================================================================================================================================================================================================================================================================================================================================================================================================================================================================================================================================================================================================================================================================================================================================================================================================================================================================================================================================================================================================================================================================================================================================================================================================================================================================================================================================================================================================================================================================================================================================================================================================================================================================================================================================================================================================================================================================================================================================================================================================================================================================================================================================================================================================================================================================================================================================================================================================================================================================================================================================================================================================================================================================================================================================================================================================================================================================================================================================================================================================================================================================================================================================================================================================================================================================================================================================================================================================================================================================================================================================================================================================================================================================================================================================================================================================================================================================================================================================================================================================================================================================================================================================================================================================================================================================================================================================================================================================================================================================================================================================================================================================================================================================================================================================================================================================================================================================================================================================================================================================================================================================================================================================================================================================================================================================================================================================================================================================================================================================================================================================================================================================================================================================================================================================================================================================================================================================================================================================================================================================================================================================================================================================================================================================================================================================================================================================================================================================================================================================================================================================================================================================================================================================================================================================================================================================================================================================================================================================================================================================================================================================================================================================================================================================================================================================================================================================================================================================================================================================================================================================================================================================================================================================================================================================================================================================================================================================================================================================================================================================================================================================================================================================================================================================================================================================================================================================================================================================================================================================================================================================================================================================================================================================================================================================================================================================================================================================================================================================================================================================================================================================================================================================================================================================================================================================================================================================================================================================================================================================================================================================================================================================================================================================================================================================================================================================================================================================================================================================================================================================================================================================================================================================================================================================================================================================================================================================================================================================================================================================================================================================================================================================================================================================================================================================================================================================================================================================================================================================================================================================================================================================================================================================================================================================================================================================================================================================================================================================================================================================================================================================================================================================================================================================================================================================================================================================================================================================================================================================================================================================================================================================================================================================================================================================================================================================================================================================================================================================================================================================================================================================================================================================================================================================================================================================================================================================================================================================================================================================================================================================================================================================================================================================================================================================================================================================================================================================================================================================================================================================================================================================================================================================================================================================================================================================================================================================================================================================================================================================================================================================================================================================================================================================================================================================================================================================================================================================================================================================================================================================================================================================================================================================================================================================================================================================================================================================================================================================================================================================================================================================================================================================================================================================================================================================================================================================================================================================================================================================================================================================================================================================================================================================================================================================================================================================================================================================================================================================================================================================================================================================================================================================================================================================================================================================================================================================================================================================================================================================================================================================================================================================================================================================================================================================================================================================================================================================================================================================================================================================================================================================================================================================================================================================================================================================================================================================================================================================================================================================================================================================================================================================================================================================================================================================================================================================================================================================================================================================================================================================================================================================================================================================================================================================================================================================================================================================================================================================================================================================================================================================================================================================================================================================================================================================================================================================================================================================================================================================================================================================================================================================================================================================================================================================================================================================================================================================================================================================================================================================================================================================================================================================================================================================================================================================================================================================================================================================================================================================================================================================================================================================================================================================================================================================================================================================================================================================================================================================================================================================================================================================================================================================================================================================================================================================================================================================================================================================================================================================================================================================================================================================================================================================================================================================================================================================================================================================================================================================================================================================================================================================================================================================================================================================================================================================================================================================================================================================================================================================================================================================================================================================================================================================================================================================================================================================================================================================================================================================================================================================================================================================================================================================================================================================================================================================================================================================================================================================================================================================================================================================================================================================================] - 17s 5ms/sample - loss: 0.8978 - accuracy: 0.5840\n"
     ]
    },
    {
     "name": "stdout",
     "output_type": "stream",
     "text": [
      "[1.1465718657998993, 0.58400667]\n"
     ]
    }
   ],
   "source": [
    "score = NASNetLarge.evaluate(testX5, testY1.toarray())\n",
    "print(score)\n",
    "# Got [1.1465718657998993, 0.58400667] for ['loss', 'accuracy']"
   ]
  },
  {
   "cell_type": "code",
   "execution_count": 48,
   "metadata": {},
   "outputs": [
    {
     "name": "stdout",
     "output_type": "stream",
     "text": [
      "(3589, 7)\n"
     ]
    }
   ],
   "source": [
    "predictions = NASNetLarge.predict(testX5, batch_size=BS)\n",
    "print(predictions.shape)"
   ]
  },
  {
   "cell_type": "code",
   "execution_count": 49,
   "metadata": {},
   "outputs": [
    {
     "name": "stdout",
     "output_type": "stream",
     "text": [
      "(3589,)\n",
      "[4 2 4 ... 6 5 5]\n",
      "[4. 4. 5. ... 6. 5. 5.]\n"
     ]
    }
   ],
   "source": [
    "predIdxs = np.argmax(predictions, axis=1)\n",
    "print(predIdxs.shape)\n",
    "print(predIdxs)\n",
    "print(testY)"
   ]
  },
  {
   "cell_type": "code",
   "execution_count": 50,
   "metadata": {},
   "outputs": [
    {
     "name": "stdout",
     "output_type": "stream",
     "text": [
      "[[  0 566]\n",
      " [  2 383]\n",
      " [  3 934]\n",
      " [  4 737]\n",
      " [  5 620]\n",
      " [  6 349]]\n"
     ]
    }
   ],
   "source": [
    "(unique, counts) = np.unique(predIdxs, return_counts=True)\n",
    "frequencies = np.asarray((unique, counts)).T\n",
    "print(frequencies)"
   ]
  },
  {
   "cell_type": "code",
   "execution_count": 51,
   "metadata": {},
   "outputs": [
    {
     "name": "stdout",
     "output_type": "stream",
     "text": [
      "[[  0. 495.]\n",
      " [  1.  55.]\n",
      " [  2. 512.]\n",
      " [  3. 899.]\n",
      " [  4. 620.]\n",
      " [  5. 608.]\n",
      " [  6. 400.]]\n"
     ]
    }
   ],
   "source": [
    "(unique, counts) = np.unique(testY, return_counts=True)\n",
    "frequencies = np.asarray((unique, counts)).T\n",
    "print(frequencies)"
   ]
  },
  {
   "cell_type": "code",
   "execution_count": 52,
   "metadata": {},
   "outputs": [
    {
     "name": "stdout",
     "output_type": "stream",
     "text": [
      "              precision    recall  f1-score   support\n",
      "\n",
      "         0.0       0.46      0.53      0.50       495\n",
      "         1.0       0.00      0.00      0.00        55\n",
      "         2.0       0.40      0.30      0.34       512\n",
      "         3.0       0.81      0.84      0.82       899\n",
      "         4.0       0.52      0.61      0.56       620\n",
      "         5.0       0.46      0.47      0.47       608\n",
      "         6.0       0.74      0.65      0.69       400\n",
      "\n",
      "    accuracy                           0.58      3589\n",
      "   macro avg       0.48      0.49      0.48      3589\n",
      "weighted avg       0.57      0.58      0.58      3589\n",
      "\n"
     ]
    },
    {
     "name": "stderr",
     "output_type": "stream",
     "text": [
      "c:\\users\\taij\\documents\\calvin\\myprojects\\env\\lib\\site-packages\\sklearn\\metrics\\classification.py:1437: UndefinedMetricWarning: Precision and F-score are ill-defined and being set to 0.0 in labels with no predicted samples.\n",
      "  'precision', 'predicted', average, warn_for)\n"
     ]
    }
   ],
   "source": [
    "print(classification_report(testY, predIdxs))"
   ]
  },
  {
   "cell_type": "code",
   "execution_count": 53,
   "metadata": {},
   "outputs": [],
   "source": [
    "NASNetLarge.save_weights(\"models/my_custom_CNN_emotion_model_weights_NASNetLarge.h5\")\n",
    "# To load: DenseNet121.load_weights(\"models/my_custom_CNN_emotion_model_weights_DenseNet121.h5\")"
   ]
  },
  {
   "cell_type": "code",
   "execution_count": 54,
   "metadata": {},
   "outputs": [],
   "source": [
    "# Seems like the custom resent-34 gave the best results"
   ]
  },
  {
   "cell_type": "code",
   "execution_count": null,
   "metadata": {},
   "outputs": [],
   "source": []
  }
 ],
 "metadata": {
  "kernelspec": {
   "display_name": "Python 3",
   "language": "python",
   "name": "python3"
  },
  "language_info": {
   "codemirror_mode": {
    "name": "ipython",
    "version": 3
   },
   "file_extension": ".py",
   "mimetype": "text/x-python",
   "name": "python",
   "nbconvert_exporter": "python",
   "pygments_lexer": "ipython3",
   "version": "3.7.4"
  }
 },
 "nbformat": 4,
 "nbformat_minor": 2
}
